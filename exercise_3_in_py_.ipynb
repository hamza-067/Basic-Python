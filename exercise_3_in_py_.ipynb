{
  "cells": [
    {
      "cell_type": "markdown",
      "metadata": {
        "id": "view-in-github",
        "colab_type": "text"
      },
      "source": [
        "<a href=\"https://colab.research.google.com/github/MHamza666/M-Hamza/blob/main/exercise_3_in_py_.ipynb\" target=\"_parent\"><img src=\"https://colab.research.google.com/assets/colab-badge.svg\" alt=\"Open In Colab\"/></a>"
      ]
    },
    {
      "cell_type": "markdown",
      "source": [
        "# shoutouts\n",
        "1= Write a python program to translate a message into secret code language. Use the rules below to translate normal English into secret code language\n",
        "\n",
        "2= Coding:\n",
        "3= if the word contains atleast 3 characters, remove the first letter and append it at the end\n",
        "4=   now append three random characters at the starting and the end\n",
        "5= else:\n",
        "6=   simply reverse the string\n",
        "\n",
        "7= Decoding:\n",
        "8= if the word contains less than 3 characters, reverse it\n",
        "9= else:\n",
        "10=   remove 3 random characters from start and end. Now remove the last letter and append it to the beginning\n",
        "11= Your program should ask whether you want to code or decode"
      ],
      "metadata": {
        "id": "a00YUEgqj2aI"
      }
    },
    {
      "cell_type": "code",
      "source": [
        "st=\"hamza is good\"\n",
        "coding=True\n",
        "if coding:\n",
        "  if (len(st)>=3):\n",
        "    st=st[1:] + st[0]\n",
        "    print(st)\n",
        "\n",
        "  # pass is use when we making wire frame\n",
        "else:\n",
        "  pass\n",
        "\n"
      ],
      "metadata": {
        "colab": {
          "base_uri": "https://localhost:8080/"
        },
        "id": "XiAp8jYRlSsW",
        "outputId": "aeaf32bf-51fa-4aab-a5d8-ab734a85dcfc"
      },
      "execution_count": 1,
      "outputs": [
        {
          "output_type": "stream",
          "name": "stdout",
          "text": [
            "amza is goodh\n"
          ]
        }
      ]
    },
    {
      "cell_type": "code",
      "source": [
        "st=input(\"Enter message\")\n",
        "coding=True\n",
        "if coding:\n",
        "  if (len(st)>=3):\n",
        "    r1=\"khm\"\n",
        "    r2=\"hdm\"\n",
        "    st=r1 +st[1:] +st[0] +r2\n",
        "    print(st)\n",
        "else:\n",
        "  pass"
      ],
      "metadata": {
        "colab": {
          "base_uri": "https://localhost:8080/"
        },
        "id": "B_3WEixGn8OT",
        "outputId": "964f3001-8860-4893-f53e-e3099d65c62d"
      },
      "execution_count": 2,
      "outputs": [
        {
          "output_type": "stream",
          "name": "stdout",
          "text": [
            "Enter messagehey my name is hamza\n",
            "khmey my name is hamzahhdm\n"
          ]
        }
      ]
    },
    {
      "cell_type": "code",
      "source": [
        "# 3rd method\n",
        "st=input(\"enter message:\")\n",
        "words=st.split(\" \")\n",
        "coding=True\n",
        "if coding:\n",
        "  nwords=[]\n",
        "  for word in words:\n",
        "    if (len(word)>=3):\n",
        "      r1=\"dfk\"\n",
        "      r2=\"hmd\"\n",
        "      stnew=r1 + word[1:] + word [0] +r2\n",
        "      nwords.append(stnew)\n",
        "      print(\" \".join(nwords))\n",
        "else:\n",
        "  pass"
      ],
      "metadata": {
        "colab": {
          "base_uri": "https://localhost:8080/"
        },
        "id": "yyQMG3LmqBRW",
        "outputId": "69983e1b-2fa7-4cb7-d789-3f85d00ea02c"
      },
      "execution_count": 4,
      "outputs": [
        {
          "output_type": "stream",
          "name": "stdout",
          "text": [
            "enter message:hamza is good\n",
            "dfkamzahhmd\n",
            "dfkamzahhmd dfkoodghmd\n"
          ]
        }
      ]
    },
    {
      "cell_type": "code",
      "source": [
        "# 4th method\n",
        "st=input(\"enter message:\")\n",
        "words=st.split(\" \")\n",
        "coding=True\n",
        "if coding:\n",
        "  nwords=[]\n",
        "  for word in words:\n",
        "    if (len(word)>=3):\n",
        "      r1=\"dfk\"\n",
        "      r2=\"hmd\"\n",
        "      stnew=r1 + word[1:] + word [0] +r2\n",
        "      nwords.append(stnew)\n",
        "    else:\n",
        "      nwords.append(word[::-1])\n",
        "\n",
        "      print(\" \".join(nwords))\n",
        "\n",
        "else:\n",
        "  pass"
      ],
      "metadata": {
        "colab": {
          "base_uri": "https://localhost:8080/"
        },
        "id": "cLKCAE0G1O7h",
        "outputId": "a4611a7a-03cb-4dc1-da20-4d5b2c0a9518"
      },
      "execution_count": 15,
      "outputs": [
        {
          "output_type": "stream",
          "name": "stdout",
          "text": [
            "enter message:harry is good\n",
            "dfkarryhhmd si\n"
          ]
        }
      ]
    },
    {
      "cell_type": "code",
      "source": [
        "# 5th method\n",
        "st=input(\"enter message:\")\n",
        "words=st.split(\" \")\n",
        "coding=True\n",
        "if coding:\n",
        "  nwords=[]\n",
        "  for word in words:\n",
        "    if (len(word)>=3):\n",
        "      r1=\"dfk\"\n",
        "      r2=\"hmd\"\n",
        "      stnew=r1 + word[1:] + word [0] +r2\n",
        "      nwords.append(stnew)\n",
        "      print(\" \".join(nwords))\n",
        "else:\n",
        "    nwords=[]\n",
        "    for word in words:\n",
        "      if (len(word)>=3):\n",
        "        stnew= word[3:-3]\n",
        "        stnew=stnew[-1]+stnew[:-1]\n",
        "      nwords.append(stnew)\n",
        "    else:\n",
        "      nwords.append(word[::-1])\n",
        "      print(\" \".join(nwords))\n",
        "\n",
        ""
      ],
      "metadata": {
        "colab": {
          "base_uri": "https://localhost:8080/"
        },
        "id": "HUAA3q4Xt7Bx",
        "outputId": "6e725b3f-a0e2-463d-af5e-e36387d68b3c"
      },
      "execution_count": 12,
      "outputs": [
        {
          "output_type": "stream",
          "name": "stdout",
          "text": [
            "enter message:hamza is good\n",
            "dfkamzahhmd\n",
            "dfkamzahhmd dfkoodghmd\n"
          ]
        }
      ]
    },
    {
      "cell_type": "code",
      "source": [
        "# 6th method ( method of decoding)\n",
        "st=input(\"enter message:\")\n",
        "words=st.split(\" \")\n",
        "coding=False\n",
        "if coding:\n",
        "  nwords=[]\n",
        "  for word in words:\n",
        "    if (len(word)>=3):\n",
        "      r1=\"dfk\"\n",
        "      r2=\"hmd\"\n",
        "      stnew=r1 + word[1:] + word [0] +r2\n",
        "      nwords.append(stnew)\n",
        "      print(\" \".join(nwords))\n",
        "else:\n",
        "    nwords=[]\n",
        "    for word in words:\n",
        "      if (len(word)>=3):\n",
        "        stnew= word[3:-3]\n",
        "        stnew=stnew[-1]+stnew[:-1]\n",
        "      nwords.append(stnew)\n",
        "    else:\n",
        "      nwords.append(word[::-1])\n",
        "      print(\" \".join(nwords))\n",
        "\n"
      ],
      "metadata": {
        "colab": {
          "base_uri": "https://localhost:8080/"
        },
        "id": "s8gHWFNSwUNW",
        "outputId": "7f75cf2a-6b39-420e-aefc-20a208021461"
      },
      "execution_count": 11,
      "outputs": [
        {
          "output_type": "stream",
          "name": "stdout",
          "text": [
            "enter message:dfkamzahhdm si dfkoodghdm\n",
            "hamza hamza good mdhgdookfd\n"
          ]
        }
      ]
    },
    {
      "cell_type": "code",
      "source": [
        "# 7th method\n",
        "st = input(\"Enter message\")\n",
        "words = st.split(\" \")\n",
        "coding = input(\"1 for Coding or 0 for Decoding\")\n",
        "coding = True if (coding==\"1\") else False\n",
        "print(coding)\n",
        "if(coding):\n",
        "  nwords = []\n",
        "  for word in words:\n",
        "    if(len(word)>=3):\n",
        "      r1 = \"dsf\"\n",
        "      r2 = \"jkr\"\n",
        "      stnew = r1+ word[1:] + word[0] + r2\n",
        "      nwords.append(stnew)\n",
        "    else:\n",
        "      nwords.append(word[::-1])\n",
        "  print(\" \".join(nwords))\n",
        "\n",
        "else:\n",
        "  nwords = []\n",
        "  for word in words:\n",
        "    if(len(word)>=3):\n",
        "      stnew = word[3:-3]\n",
        "      stnew = stnew[-1] + stnew[:-1]\n",
        "      nwords.append(stnew)\n",
        "    else:\n",
        "      nwords.append(word[::-1])\n",
        "  print(\" \".join(nwords))"
      ],
      "metadata": {
        "colab": {
          "base_uri": "https://localhost:8080/"
        },
        "id": "gjqZYUfn3sF6",
        "outputId": "8996b209-28de-48a7-97b7-8a7a79ada5e2"
      },
      "execution_count": 16,
      "outputs": [
        {
          "output_type": "stream",
          "name": "stdout",
          "text": [
            "Enter messagehamza is nice boy\n",
            "1 for Coding or 0 for Decoding1\n",
            "True\n",
            "dsfamzahjkr si dsficenjkr dsfoybjkr\n"
          ]
        }
      ]
    },
    {
      "cell_type": "code",
      "source": [
        "# 8th method\n",
        "st = input(\"Enter message\")\n",
        "words = st.split(\" \")\n",
        "coding = input(\"1 for Coding or 0 for Decoding\")\n",
        "coding = True if (coding==\"1\") else False\n",
        "print(coding)\n",
        "if(coding):\n",
        "  nwords = []\n",
        "  for word in words:\n",
        "    if(len(word)>=3):\n",
        "      r1 = \"dsf\"\n",
        "      r2 = \"jkr\"\n",
        "      stnew = r1+ word[1:] + word[0] + r2\n",
        "      nwords.append(stnew)\n",
        "    else:\n",
        "      nwords.append(word[::-1])\n",
        "  print(\" \".join(nwords))\n",
        "\n",
        "else:\n",
        "  nwords = []\n",
        "  for word in words:\n",
        "    if(len(word)>=3):\n",
        "      stnew = word[3:-3]\n",
        "      stnew = stnew[-1] + stnew[:-1]\n",
        "      nwords.append(stnew)\n",
        "    else:\n",
        "      nwords.append(word[::-1])\n",
        "  print(\" \".join(nwords))\n"
      ],
      "metadata": {
        "colab": {
          "base_uri": "https://localhost:8080/"
        },
        "id": "a-303I5z4LpU",
        "outputId": "daa0404c-e091-4daf-c4f4-d1c295e7e782"
      },
      "execution_count": 19,
      "outputs": [
        {
          "output_type": "stream",
          "name": "stdout",
          "text": [
            "Enter messagedsfamzahjkr si dsficenjkr dsfoybjkr\n",
            "1 for Coding or 0 for Decoding0\n",
            "False\n",
            "hamza is nice boy\n"
          ]
        }
      ]
    }
  ],
  "metadata": {
    "colab": {
      "provenance": [],
      "authorship_tag": "ABX9TyOSuvTiPg3Q/+7nFrkndzGC",
      "include_colab_link": true
    },
    "kernelspec": {
      "display_name": "Python 3",
      "name": "python3"
    },
    "language_info": {
      "name": "python"
    }
  },
  "nbformat": 4,
  "nbformat_minor": 0
}