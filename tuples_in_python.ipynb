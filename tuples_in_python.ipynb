{
  "cells": [
    {
      "cell_type": "markdown",
      "metadata": {
        "id": "view-in-github",
        "colab_type": "text"
      },
      "source": [
        "<a href=\"https://colab.research.google.com/github/MHamza666/M-Hamza/blob/main/tuples_in_python.ipynb\" target=\"_parent\"><img src=\"https://colab.research.google.com/assets/colab-badge.svg\" alt=\"Open In Colab\"/></a>"
      ]
    },
    {
      "cell_type": "markdown",
      "source": [
        "# tuples"
      ],
      "metadata": {
        "id": "ON2KNvGzpflW"
      }
    },
    {
      "cell_type": "code",
      "source": [
        "#tuples are unchangeable\n",
        "tup=(1,3,4,6,7)\n",
        "print(type(tup),tup)"
      ],
      "metadata": {
        "colab": {
          "base_uri": "https://localhost:8080/"
        },
        "id": "eVMdbkW9pmwh",
        "outputId": "1829b004-d095-4ee0-c071-e715c63ae28d"
      },
      "execution_count": null,
      "outputs": [
        {
          "output_type": "stream",
          "name": "stdout",
          "text": [
            "<class 'tuple'> (1, 3, 4, 6, 7)\n"
          ]
        }
      ]
    },
    {
      "cell_type": "code",
      "source": [
        "tup=(1,4,5,6,2,3)\n",
        "print(tup[0])\n",
        "print(tup[1])\n",
        "print(tup[2])\n",
        "print(tup[3])"
      ],
      "metadata": {
        "colab": {
          "base_uri": "https://localhost:8080/"
        },
        "id": "8I1La4g-rIGQ",
        "outputId": "a976ff74-0ef6-4af6-93aa-49a50785484a"
      },
      "execution_count": null,
      "outputs": [
        {
          "output_type": "stream",
          "name": "stdout",
          "text": [
            "1\n",
            "4\n",
            "5\n",
            "6\n"
          ]
        }
      ]
    },
    {
      "cell_type": "code",
      "source": [
        "tup=(1,2,4,6,7,8,\"green\",True)\n",
        "print(len(tup))"
      ],
      "metadata": {
        "colab": {
          "base_uri": "https://localhost:8080/"
        },
        "id": "inmnn-VerHvB",
        "outputId": "d06d700a-f80b-4f55-dac9-295cb8520b56"
      },
      "execution_count": null,
      "outputs": [
        {
          "output_type": "stream",
          "name": "stdout",
          "text": [
            "8\n"
          ]
        }
      ]
    },
    {
      "cell_type": "code",
      "source": [
        "tup=(1,2,4,6,7,8,\"green\",True)\n",
        "print(tup[-1])"
      ],
      "metadata": {
        "colab": {
          "base_uri": "https://localhost:8080/"
        },
        "id": "Hblu6tqRsBd-",
        "outputId": "61523d38-4dbc-4ba9-bd42-998575538f86"
      },
      "execution_count": null,
      "outputs": [
        {
          "output_type": "stream",
          "name": "stdout",
          "text": [
            "True\n"
          ]
        }
      ]
    },
    {
      "cell_type": "code",
      "source": [
        "tup=(1,2,4,6,7,8,\"green\",True)\n",
        "if 8 in tup:\n",
        "  print(\"yes 8 is present in tuple\")"
      ],
      "metadata": {
        "colab": {
          "base_uri": "https://localhost:8080/"
        },
        "id": "mHKwoN4XsVMj",
        "outputId": "4e076a52-8648-4996-efb6-04c5a8b335cc"
      },
      "execution_count": null,
      "outputs": [
        {
          "output_type": "stream",
          "name": "stdout",
          "text": [
            "yes 8 is present in tuple\n"
          ]
        }
      ]
    },
    {
      "cell_type": "code",
      "source": [
        "tup=(1,2,4,6,7,8,\"green\",True)\n",
        "if \"green\" in tup:\n",
        "  print(\"yes green is  present in tuple\")"
      ],
      "metadata": {
        "colab": {
          "base_uri": "https://localhost:8080/"
        },
        "id": "dn26Ndw-slt8",
        "outputId": "443d43fa-146a-4dc3-f2c1-bfd08111ce15"
      },
      "execution_count": null,
      "outputs": [
        {
          "output_type": "stream",
          "name": "stdout",
          "text": [
            "yes green is  present in tuple\n"
          ]
        }
      ]
    },
    {
      "cell_type": "code",
      "source": [
        "tup=(1,2,4,6,7,8,\"green\",True)\n",
        "print(tup[1:4:2])"
      ],
      "metadata": {
        "colab": {
          "base_uri": "https://localhost:8080/"
        },
        "id": "-270eXr3t-9z",
        "outputId": "6b55dcad-ffba-4df3-b27f-8d6dd7c9642b"
      },
      "execution_count": null,
      "outputs": [
        {
          "output_type": "stream",
          "name": "stdout",
          "text": [
            "(2, 6)\n"
          ]
        }
      ]
    },
    {
      "cell_type": "code",
      "source": [
        "tup=(1,2,4,6,7,8,\"green\",True)\n",
        "print(tup[1:4])"
      ],
      "metadata": {
        "colab": {
          "base_uri": "https://localhost:8080/"
        },
        "id": "1JfUJ8yLuPNc",
        "outputId": "7c621d53-9193-44a2-a1b1-7633e0228ed5"
      },
      "execution_count": null,
      "outputs": [
        {
          "output_type": "stream",
          "name": "stdout",
          "text": [
            "(2, 4, 6)\n"
          ]
        }
      ]
    },
    {
      "cell_type": "markdown",
      "source": [
        "# operation on tuple"
      ],
      "metadata": {
        "id": "X-GCD7ayxQr8"
      }
    },
    {
      "cell_type": "code",
      "source": [
        "a=(1,2,3,4,5)\n",
        "b=(6,7,8,9)\n",
        "sum=a+b\n",
        "print(sum)"
      ],
      "metadata": {
        "colab": {
          "base_uri": "https://localhost:8080/"
        },
        "id": "WFBZS7fyx45c",
        "outputId": "1fa05210-0029-47b8-da7a-4d54351da582"
      },
      "execution_count": null,
      "outputs": [
        {
          "output_type": "stream",
          "name": "stdout",
          "text": [
            "(1, 2, 3, 4, 5, 6, 7, 8, 9)\n"
          ]
        }
      ]
    },
    {
      "cell_type": "code",
      "source": [
        "#count\n",
        "tuple1=(1,2,3,4,1,5,6,1,7,8,1)\n",
        "print(tuple1.count(1))"
      ],
      "metadata": {
        "colab": {
          "base_uri": "https://localhost:8080/"
        },
        "id": "H-DjGWOUzDsf",
        "outputId": "8aa67bf8-2d01-4951-89b6-6718ab6e874e"
      },
      "execution_count": null,
      "outputs": [
        {
          "output_type": "stream",
          "name": "stdout",
          "text": [
            "4\n"
          ]
        }
      ]
    },
    {
      "cell_type": "code",
      "source": [
        "tuple1=(1,2,3,4,1,5,6,1,7,8,1)\n",
        "print(tuple1.index(1,3,7))"
      ],
      "metadata": {
        "colab": {
          "base_uri": "https://localhost:8080/"
        },
        "id": "YKIgma_w19Aa",
        "outputId": "e194e424-2967-4472-8740-b4ba94fe59bf"
      },
      "execution_count": null,
      "outputs": [
        {
          "output_type": "stream",
          "name": "stdout",
          "text": [
            "4\n"
          ]
        }
      ]
    },
    {
      "cell_type": "markdown",
      "source": [
        "# tuple with mixed datatypes"
      ],
      "metadata": {
        "id": "SAHbm2Yv4rNx"
      }
    },
    {
      "cell_type": "code",
      "source": [
        "t=(1, (3,4),[3,'makki',8,'ali'])\n",
        "print(t)\n"
      ],
      "metadata": {
        "colab": {
          "base_uri": "https://localhost:8080/"
        },
        "id": "fU0eFXBf4zA4",
        "outputId": "ae4a1a70-5e55-476e-bbc1-94dd4737eefc"
      },
      "execution_count": null,
      "outputs": [
        {
          "output_type": "stream",
          "name": "stdout",
          "text": [
            "(1, (3, 4), [3, 'makki', 8, 'ali'])\n"
          ]
        }
      ]
    },
    {
      "cell_type": "code",
      "source": [
        "#index number\n",
        "t=(1, (3,4),[3,'makki',8,'ali'])\n",
        "print(t[1])\n"
      ],
      "metadata": {
        "colab": {
          "base_uri": "https://localhost:8080/"
        },
        "id": "z8wyUyS35-I1",
        "outputId": "91bced7c-d530-4a85-c0b1-fbe479e1be15"
      },
      "execution_count": null,
      "outputs": [
        {
          "output_type": "stream",
          "name": "stdout",
          "text": [
            "(3, 4)\n"
          ]
        }
      ]
    },
    {
      "cell_type": "code",
      "source": [
        "t=(1, (3,4),[3,'makki',8,'ali'])\n",
        "print(t[2])"
      ],
      "metadata": {
        "colab": {
          "base_uri": "https://localhost:8080/"
        },
        "id": "iFTHphtV6TSi",
        "outputId": "2c900dd6-f2cb-44a2-dafd-6271b37585fc"
      },
      "execution_count": null,
      "outputs": [
        {
          "output_type": "stream",
          "name": "stdout",
          "text": [
            "[3, 'makki', 8, 'ali']\n"
          ]
        }
      ]
    },
    {
      "cell_type": "code",
      "source": [
        "t=(1, (3,4),[3,'makki',8,'ali'])\n",
        "print(t[2][1])"
      ],
      "metadata": {
        "colab": {
          "base_uri": "https://localhost:8080/"
        },
        "id": "PUV4yRj-6thO",
        "outputId": "56367ca4-3867-40e9-a3ee-b117b25011cd"
      },
      "execution_count": null,
      "outputs": [
        {
          "output_type": "stream",
          "name": "stdout",
          "text": [
            "makki\n"
          ]
        }
      ]
    },
    {
      "cell_type": "code",
      "source": [
        "t=(1,2,4,6,7,8)\n",
        "print(type(t))"
      ],
      "metadata": {
        "colab": {
          "base_uri": "https://localhost:8080/"
        },
        "id": "3tDJM3z17W9I",
        "outputId": "0fab25ad-78d4-47ad-c1d2-31e85bee4c28"
      },
      "execution_count": null,
      "outputs": [
        {
          "output_type": "stream",
          "name": "stdout",
          "text": [
            "<class 'tuple'>\n"
          ]
        }
      ]
    },
    {
      "cell_type": "code",
      "source": [
        "#negative index mean ==> start last\n",
        "t=(1,2,4,5,6,7)\n",
        "print(t[-1])"
      ],
      "metadata": {
        "colab": {
          "base_uri": "https://localhost:8080/"
        },
        "id": "q_SfsfJJ7g0U",
        "outputId": "fc1c0dc5-9eed-4050-f2d8-f986786bb0a0"
      },
      "execution_count": null,
      "outputs": [
        {
          "output_type": "stream",
          "name": "stdout",
          "text": [
            "7\n"
          ]
        }
      ]
    },
    {
      "cell_type": "code",
      "source": [
        "tuple1=(1,2,3,4,5,6)\n",
        "print(tuple1[:-2])"
      ],
      "metadata": {
        "colab": {
          "base_uri": "https://localhost:8080/"
        },
        "id": "TopZhKWz8Oe1",
        "outputId": "516f9c76-27ed-4488-c853-b2ffa5325ea2"
      },
      "execution_count": null,
      "outputs": [
        {
          "output_type": "stream",
          "name": "stdout",
          "text": [
            "(1, 2, 3, 4)\n"
          ]
        }
      ]
    },
    {
      "cell_type": "code",
      "source": [
        "# we know that tuple cannot changeable\n",
        "#for example\n",
        "t=(1,2,3,4,[5,6,7])\n",
        "t[4]='x'"
      ],
      "metadata": {
        "colab": {
          "base_uri": "https://localhost:8080/",
          "height": 200
        },
        "id": "qOJFnoEi9BGO",
        "outputId": "e8b20faf-e970-4128-a4e0-5dec799612ac"
      },
      "execution_count": null,
      "outputs": [
        {
          "output_type": "error",
          "ename": "TypeError",
          "evalue": "ignored",
          "traceback": [
            "\u001b[0;31m---------------------------------------------------------------------------\u001b[0m",
            "\u001b[0;31mTypeError\u001b[0m                                 Traceback (most recent call last)",
            "\u001b[0;32m<ipython-input-53-b347646b8a9d>\u001b[0m in \u001b[0;36m<cell line: 4>\u001b[0;34m()\u001b[0m\n\u001b[1;32m      2\u001b[0m \u001b[0;31m#for example\u001b[0m\u001b[0;34m\u001b[0m\u001b[0;34m\u001b[0m\u001b[0m\n\u001b[1;32m      3\u001b[0m \u001b[0mt\u001b[0m\u001b[0;34m=\u001b[0m\u001b[0;34m(\u001b[0m\u001b[0;36m1\u001b[0m\u001b[0;34m,\u001b[0m\u001b[0;36m2\u001b[0m\u001b[0;34m,\u001b[0m\u001b[0;36m3\u001b[0m\u001b[0;34m,\u001b[0m\u001b[0;36m4\u001b[0m\u001b[0;34m,\u001b[0m\u001b[0;34m[\u001b[0m\u001b[0;36m5\u001b[0m\u001b[0;34m,\u001b[0m\u001b[0;36m6\u001b[0m\u001b[0;34m,\u001b[0m\u001b[0;36m7\u001b[0m\u001b[0;34m]\u001b[0m\u001b[0;34m)\u001b[0m\u001b[0;34m\u001b[0m\u001b[0;34m\u001b[0m\u001b[0m\n\u001b[0;32m----> 4\u001b[0;31m \u001b[0mt\u001b[0m\u001b[0;34m[\u001b[0m\u001b[0;36m4\u001b[0m\u001b[0;34m]\u001b[0m\u001b[0;34m=\u001b[0m\u001b[0;34m'x'\u001b[0m\u001b[0;34m\u001b[0m\u001b[0;34m\u001b[0m\u001b[0m\n\u001b[0m",
            "\u001b[0;31mTypeError\u001b[0m: 'tuple' object does not support item assignment"
          ]
        }
      ]
    },
    {
      "cell_type": "code",
      "source": [
        "t=(1,2,3,4,[5,6,7])\n",
        "t[2]"
      ],
      "metadata": {
        "colab": {
          "base_uri": "https://localhost:8080/"
        },
        "id": "nxnc5zpK9YHR",
        "outputId": "fad85c67-0c62-49b6-d08d-48d33a0ad28a"
      },
      "execution_count": null,
      "outputs": [
        {
          "output_type": "execute_result",
          "data": {
            "text/plain": [
              "3"
            ]
          },
          "metadata": {},
          "execution_count": 48
        }
      ]
    },
    {
      "cell_type": "code",
      "source": [
        "t=(1,2,3,4,[5,6,7])\n",
        "t[4][1]"
      ],
      "metadata": {
        "colab": {
          "base_uri": "https://localhost:8080/"
        },
        "id": "R_w8o8fO94VK",
        "outputId": "f98c3419-f181-4f5e-e3db-bfb2f72bff1c"
      },
      "execution_count": null,
      "outputs": [
        {
          "output_type": "execute_result",
          "data": {
            "text/plain": [
              "6"
            ]
          },
          "metadata": {},
          "execution_count": 50
        }
      ]
    },
    {
      "cell_type": "code",
      "source": [
        "t=(1,2,3,4,[5,6,7])\n",
        "t[4][1]=9\n",
        "t"
      ],
      "metadata": {
        "colab": {
          "base_uri": "https://localhost:8080/"
        },
        "id": "XjjwjLuf-DWz",
        "outputId": "7b8b92b7-3a48-4bb3-e300-c3ae656b3def"
      },
      "execution_count": null,
      "outputs": [
        {
          "output_type": "execute_result",
          "data": {
            "text/plain": [
              "(1, 2, 3, 4, [5, 9, 7])"
            ]
          },
          "metadata": {},
          "execution_count": 52
        }
      ]
    },
    {
      "cell_type": "markdown",
      "source": [
        "# concatinating tuple"
      ],
      "metadata": {
        "id": "niYPxLQS-7RR"
      }
    },
    {
      "cell_type": "code",
      "source": [
        "t=(1,2,3)+(4,5,6)\n",
        "print(t)"
      ],
      "metadata": {
        "colab": {
          "base_uri": "https://localhost:8080/"
        },
        "id": "fn0rcdVr-v_t",
        "outputId": "5c6392aa-bbb2-49ec-d1c2-6b68b648087f"
      },
      "execution_count": null,
      "outputs": [
        {
          "output_type": "stream",
          "name": "stdout",
          "text": [
            "(1, 2, 3, 4, 5, 6)\n"
          ]
        }
      ]
    },
    {
      "cell_type": "markdown",
      "source": [
        "# multiple element in tuple"
      ],
      "metadata": {
        "id": "r_SUv7my_I3d"
      }
    },
    {
      "cell_type": "code",
      "source": [
        "t=(('hamza',)*4)\n",
        "print(t)"
      ],
      "metadata": {
        "colab": {
          "base_uri": "https://localhost:8080/"
        },
        "id": "G_hbNBmw_PoW",
        "outputId": "33086377-0fb2-438f-9ca4-c6a4af4a11dc"
      },
      "execution_count": null,
      "outputs": [
        {
          "output_type": "stream",
          "name": "stdout",
          "text": [
            "('hamza', 'hamza', 'hamza', 'hamza')\n"
          ]
        }
      ]
    },
    {
      "cell_type": "markdown",
      "source": [
        "## delete tuple"
      ],
      "metadata": {
        "id": "N4Mt_mIm_5dq"
      }
    },
    {
      "cell_type": "code",
      "source": [
        "t=(1,2,3,4,5,6,7)\n",
        "del t"
      ],
      "metadata": {
        "id": "iwtBZi6cAEgd"
      },
      "execution_count": null,
      "outputs": []
    },
    {
      "cell_type": "markdown",
      "source": [
        "# tuple sort"
      ],
      "metadata": {
        "id": "xoXN-QdVBFZZ"
      }
    },
    {
      "cell_type": "code",
      "source": [
        "t=(5,3,2,4,1)\n",
        "a=sorted(t)\n",
        "print(a)"
      ],
      "metadata": {
        "colab": {
          "base_uri": "https://localhost:8080/"
        },
        "id": "aYIksu8dBIso",
        "outputId": "49acea24-6d73-43f5-d610-577fcf5289e2"
      },
      "execution_count": null,
      "outputs": [
        {
          "output_type": "stream",
          "name": "stdout",
          "text": [
            "[1, 2, 3, 4, 5]\n"
          ]
        }
      ]
    },
    {
      "cell_type": "markdown",
      "source": [
        "# minimum/maximum value in tuple"
      ],
      "metadata": {
        "id": "OSXfcTA9Bm-8"
      }
    },
    {
      "cell_type": "code",
      "source": [
        "t=(1,2,3,5,7,8,9)\n",
        "max(t)"
      ],
      "metadata": {
        "colab": {
          "base_uri": "https://localhost:8080/"
        },
        "id": "RbGa6sR0BlbW",
        "outputId": "b8d90658-8dbd-43b4-b588-98c036c3b8f0"
      },
      "execution_count": null,
      "outputs": [
        {
          "output_type": "execute_result",
          "data": {
            "text/plain": [
              "9"
            ]
          },
          "metadata": {},
          "execution_count": 61
        }
      ]
    },
    {
      "cell_type": "code",
      "source": [
        "t=(1,2,3,4,7,6,8,9)\n",
        "min(t)"
      ],
      "metadata": {
        "colab": {
          "base_uri": "https://localhost:8080/"
        },
        "id": "sVMDcnEcB6gf",
        "outputId": "ca31701c-40ff-4605-e533-fb4a4edfc744"
      },
      "execution_count": null,
      "outputs": [
        {
          "output_type": "execute_result",
          "data": {
            "text/plain": [
              "1"
            ]
          },
          "metadata": {},
          "execution_count": 62
        }
      ]
    },
    {
      "cell_type": "code",
      "source": [
        "\n",
        "t=(1,22,45,67,89,3)\n",
        "x=t\n",
        "x"
      ],
      "metadata": {
        "colab": {
          "base_uri": "https://localhost:8080/"
        },
        "id": "qqZSuKojCLNi",
        "outputId": "5c493eb1-74a6-456f-ac8e-5a8ccd5f3f88"
      },
      "execution_count": null,
      "outputs": [
        {
          "output_type": "execute_result",
          "data": {
            "text/plain": [
              "(1, 22, 45, 67, 89, 3)"
            ]
          },
          "metadata": {},
          "execution_count": 65
        }
      ]
    },
    {
      "cell_type": "code",
      "source": [
        "t=(1,22,45,67,89,3)\n",
        "x=list(t)\n",
        "x"
      ],
      "metadata": {
        "colab": {
          "base_uri": "https://localhost:8080/"
        },
        "id": "hnTzdrjIDD0A",
        "outputId": "2c8fdeed-78cd-4194-b7bd-97261db2923b"
      },
      "execution_count": null,
      "outputs": [
        {
          "output_type": "execute_result",
          "data": {
            "text/plain": [
              "[1, 22, 45, 67, 89, 3]"
            ]
          },
          "metadata": {},
          "execution_count": 66
        }
      ]
    },
    {
      "cell_type": "code",
      "source": [
        "t=(1,22,45,67,89,3)\n",
        "x=list(t)\n",
        "x[1]=11\n",
        "x"
      ],
      "metadata": {
        "colab": {
          "base_uri": "https://localhost:8080/"
        },
        "id": "TFyAQHWZDpJI",
        "outputId": "fd66c943-d08d-4488-ea16-0b03635b1511"
      },
      "execution_count": null,
      "outputs": [
        {
          "output_type": "execute_result",
          "data": {
            "text/plain": [
              "[1, 11, 45, 67, 89, 3]"
            ]
          },
          "metadata": {},
          "execution_count": 68
        }
      ]
    },
    {
      "cell_type": "code",
      "source": [
        "t=(1,22,45,67,89,3)\n",
        "x=list(t)\n",
        "x[1]=11\n",
        "print(x)\n",
        "print(t)"
      ],
      "metadata": {
        "colab": {
          "base_uri": "https://localhost:8080/"
        },
        "id": "-zKV-HxOEGZs",
        "outputId": "dfd68ed4-c1bf-4dab-ade8-c901d2bf9cc7"
      },
      "execution_count": null,
      "outputs": [
        {
          "output_type": "stream",
          "name": "stdout",
          "text": [
            "[1, 11, 45, 67, 89, 3]\n",
            "(1, 22, 45, 67, 89, 3)\n"
          ]
        }
      ]
    },
    {
      "cell_type": "code",
      "source": [
        "# convert in loop\n",
        "t=(1,2,3,4,5)\n",
        "for i in t:\n",
        "  print(i)"
      ],
      "metadata": {
        "colab": {
          "base_uri": "https://localhost:8080/"
        },
        "id": "_a-hu_XeHMF0",
        "outputId": "3b9650ae-e484-4cb2-fe52-6ae01928bfba"
      },
      "execution_count": null,
      "outputs": [
        {
          "output_type": "stream",
          "name": "stdout",
          "text": [
            "1\n",
            "2\n",
            "3\n",
            "4\n",
            "5\n"
          ]
        }
      ]
    },
    {
      "cell_type": "code",
      "source": [
        "# indexing printing\n",
        "t=(1,2,3,4,5,6)\n",
        "for i in range(len(t)):\n",
        "  print(i)"
      ],
      "metadata": {
        "colab": {
          "base_uri": "https://localhost:8080/"
        },
        "id": "zzMf1mDwH5jR",
        "outputId": "86f416f1-2b39-4d63-8ee1-eb06f90d46d6"
      },
      "execution_count": null,
      "outputs": [
        {
          "output_type": "stream",
          "name": "stdout",
          "text": [
            "0\n",
            "1\n",
            "2\n",
            "3\n",
            "4\n",
            "5\n"
          ]
        }
      ]
    },
    {
      "cell_type": "code",
      "source": [
        "t=(1,2,3,4,5,6) # in tuple converted\n",
        "for i in range(len(t)):\n",
        "  print(t[i])"
      ],
      "metadata": {
        "colab": {
          "base_uri": "https://localhost:8080/"
        },
        "id": "2juX0nNQIY7G",
        "outputId": "4fa3e9ba-e3ca-420e-ba30-e8cf3ef76ef6"
      },
      "execution_count": null,
      "outputs": [
        {
          "output_type": "stream",
          "name": "stdout",
          "text": [
            "1\n",
            "2\n",
            "3\n",
            "4\n",
            "5\n",
            "6\n"
          ]
        }
      ]
    }
  ],
  "metadata": {
    "colab": {
      "provenance": [],
      "authorship_tag": "ABX9TyOwtidty29O/StCX0F8EGWP",
      "include_colab_link": true
    },
    "kernelspec": {
      "display_name": "Python 3",
      "name": "python3"
    },
    "language_info": {
      "name": "python"
    }
  },
  "nbformat": 4,
  "nbformat_minor": 0
}