{
  "cells": [
    {
      "cell_type": "markdown",
      "metadata": {
        "id": "view-in-github",
        "colab_type": "text"
      },
      "source": [
        "<a href=\"https://colab.research.google.com/github/MHamza666/M-Hamza/blob/main/dictionaries_in_python.ipynb\" target=\"_parent\"><img src=\"https://colab.research.google.com/assets/colab-badge.svg\" alt=\"Open In Colab\"/></a>"
      ]
    },
    {
      "cell_type": "markdown",
      "source": [
        "# dictionaries"
      ],
      "metadata": {
        "id": "kbLXBWuVBydS"
      }
    },
    {
      "cell_type": "code",
      "source": [
        "dic={\n",
        "   \"hamza\":\"human being\" ,\n",
        "   \"spoon\":\"object\",\n",
        "\n",
        "}\n",
        "print(dic[\"hamza\"])"
      ],
      "metadata": {
        "colab": {
          "base_uri": "https://localhost:8080/"
        },
        "id": "76zpPWTwB3mJ",
        "outputId": "39fc99d3-ba4b-46c4-c790-6b01ad52bc86"
      },
      "execution_count": 2,
      "outputs": [
        {
          "output_type": "stream",
          "name": "stdout",
          "text": [
            "human being\n"
          ]
        }
      ]
    },
    {
      "cell_type": "code",
      "source": [
        "dic={\n",
        "  66:\"hamza\",\n",
        "  67:\"ali\",\n",
        "  55:\"rooshan\",\n",
        "  33:\"zeshan\",\n",
        "\n",
        "}\n",
        "print(dic[33])"
      ],
      "metadata": {
        "colab": {
          "base_uri": "https://localhost:8080/"
        },
        "id": "T9sB41FjDKpQ",
        "outputId": "f0041f73-ea9e-44f5-9f29-704ad914dc16"
      },
      "execution_count": 3,
      "outputs": [
        {
          "output_type": "stream",
          "name": "stdout",
          "text": [
            "zeshan\n"
          ]
        }
      ]
    },
    {
      "cell_type": "code",
      "source": [
        "# dictionaries are order collection of data item\n",
        "info={\"name\":\"hamza\",\"age\":19,\"eligible\":True}\n",
        "print(info)"
      ],
      "metadata": {
        "colab": {
          "base_uri": "https://localhost:8080/"
        },
        "id": "wvEPjnGbDJda",
        "outputId": "3f71189d-b853-40ce-d134-11844b578e2c"
      },
      "execution_count": 4,
      "outputs": [
        {
          "output_type": "stream",
          "name": "stdout",
          "text": [
            "{'name': 'hamza', 'age': 19, 'eligible': True}\n"
          ]
        }
      ]
    },
    {
      "cell_type": "code",
      "source": [
        "info={\"name\":\"hamza\",\"age\":19,\"eligible\":True}\n",
        "print(info)\n",
        "print(info['name'])\n",
        "print(info.get('eligible'))"
      ],
      "metadata": {
        "colab": {
          "base_uri": "https://localhost:8080/"
        },
        "id": "sUKpr-Q-FhuM",
        "outputId": "f16a66c3-6724-4c0e-ddd9-f017a4e1b563"
      },
      "execution_count": 6,
      "outputs": [
        {
          "output_type": "stream",
          "name": "stdout",
          "text": [
            "{'name': 'hamza', 'age': 19, 'eligible': True}\n",
            "hamza\n",
            "True\n"
          ]
        }
      ]
    },
    {
      "cell_type": "code",
      "source": [
        "# IF i want get all value\n",
        "info={\"name\":\"hamza\",\"age\":19,\"eligible\":True}\n",
        "print(info)\n",
        "print(info.keys())"
      ],
      "metadata": {
        "colab": {
          "base_uri": "https://localhost:8080/"
        },
        "id": "uHSUvBrOGg2a",
        "outputId": "c51b0f68-dab6-4e6b-9d95-9390751294f1"
      },
      "execution_count": 8,
      "outputs": [
        {
          "output_type": "stream",
          "name": "stdout",
          "text": [
            "{'name': 'hamza', 'age': 19, 'eligible': True}\n",
            "dict_keys(['name', 'age', 'eligible'])\n"
          ]
        }
      ]
    },
    {
      "cell_type": "code",
      "source": [
        "info={\"name\":\"hamza\",\"age\":19,\"eligible\":True}\n",
        "print(info)\n",
        "print(info.values())"
      ],
      "metadata": {
        "colab": {
          "base_uri": "https://localhost:8080/"
        },
        "id": "gdQLW8xcHeQo",
        "outputId": "7e46bfc4-41ec-49bc-fbc8-f1f093db130b"
      },
      "execution_count": 11,
      "outputs": [
        {
          "output_type": "stream",
          "name": "stdout",
          "text": [
            "{'name': 'hamza', 'age': 19, 'eligible': True}\n",
            "dict_values(['hamza', 19, True])\n"
          ]
        }
      ]
    },
    {
      "cell_type": "code",
      "source": [
        "info={\"name\":\"hamza\",\"age\":19,\"eligible\":True}\n",
        "print(info)\n",
        "for key in info .keys():\n",
        "  print(info[key])"
      ],
      "metadata": {
        "colab": {
          "base_uri": "https://localhost:8080/"
        },
        "id": "Bhb0N5hpG4gz",
        "outputId": "2d3a59d2-8eaf-4e93-ce6d-08f37160caa8"
      },
      "execution_count": 10,
      "outputs": [
        {
          "output_type": "stream",
          "name": "stdout",
          "text": [
            "{'name': 'hamza', 'age': 19, 'eligible': True}\n",
            "hamza\n",
            "19\n",
            "True\n"
          ]
        }
      ]
    },
    {
      "cell_type": "code",
      "source": [
        "info={\"name\":\"hamza\",\"age\":19,\"eligible\":True}\n",
        "print(info)\n",
        "for key in info .keys():\n",
        "  print(f\"the value corresponding to the key {key} is {info[key]}\")"
      ],
      "metadata": {
        "colab": {
          "base_uri": "https://localhost:8080/"
        },
        "id": "LZ82Bq5HHSDG",
        "outputId": "dbb779e3-59b1-4740-81e6-b18ee7fa1a7e"
      },
      "execution_count": 12,
      "outputs": [
        {
          "output_type": "stream",
          "name": "stdout",
          "text": [
            "{'name': 'hamza', 'age': 19, 'eligible': True}\n",
            "the value corresponding to the key name is hamza\n",
            "the value corresponding to the key age is 19\n",
            "the value corresponding to the key eligible is True\n"
          ]
        }
      ]
    },
    {
      "cell_type": "code",
      "source": [
        "info={\"name\":\"hamza\",\"age\":19,\"eligible\":True}\n",
        "print(info.items())\n",
        "for key,value in info .items():\n",
        "  print(f\"the value corresponding to the key {key} is {value}\")"
      ],
      "metadata": {
        "colab": {
          "base_uri": "https://localhost:8080/"
        },
        "id": "rTvU8MCVJG_4",
        "outputId": "c8065597-a8a4-4514-98a6-eb0a6d876862"
      },
      "execution_count": 14,
      "outputs": [
        {
          "output_type": "stream",
          "name": "stdout",
          "text": [
            "dict_items([('name', 'hamza'), ('age', 19), ('eligible', True)])\n",
            "the value corresponding to the key name is hamza\n",
            "the value corresponding to the key age is 19\n",
            "the value corresponding to the key eligible is True\n"
          ]
        }
      ]
    }
  ],
  "metadata": {
    "colab": {
      "provenance": [],
      "authorship_tag": "ABX9TyM6WLNc8eplsTTWDECNj3Aj",
      "include_colab_link": true
    },
    "kernelspec": {
      "display_name": "Python 3",
      "name": "python3"
    },
    "language_info": {
      "name": "python"
    }
  },
  "nbformat": 4,
  "nbformat_minor": 0
}