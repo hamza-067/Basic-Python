{
  "nbformat": 4,
  "nbformat_minor": 0,
  "metadata": {
    "colab": {
      "provenance": [],
      "authorship_tag": "ABX9TyO4eUJYPFWCCGbchWF7ON4g",
      "include_colab_link": true
    },
    "kernelspec": {
      "name": "python3",
      "display_name": "Python 3"
    },
    "language_info": {
      "name": "python"
    }
  },
  "cells": [
    {
      "cell_type": "markdown",
      "metadata": {
        "id": "view-in-github",
        "colab_type": "text"
      },
      "source": [
        "<a href=\"https://colab.research.google.com/github/MHamza666/M-Hamza/blob/main/basic_python.ipynb\" target=\"_parent\"><img src=\"https://colab.research.google.com/assets/colab-badge.svg\" alt=\"Open In Colab\"/></a>"
      ]
    },
    {
      "cell_type": "code",
      "execution_count": 6,
      "metadata": {
        "colab": {
          "base_uri": "https://localhost:8080/"
        },
        "id": "aJRhq8XalLGs",
        "outputId": "496f43e7-b1c1-4f91-e24e-fedc245b14e3"
      },
      "outputs": [
        {
          "output_type": "stream",
          "name": "stdout",
          "text": [
            "25\n"
          ]
        }
      ],
      "source": [
        "val1=12\n",
        "val2=13\n",
        "print(val1+val2)\n"
      ]
    },
    {
      "cell_type": "code",
      "source": [
        "val1=12\n",
        "print(2*val1)"
      ],
      "metadata": {
        "colab": {
          "base_uri": "https://localhost:8080/"
        },
        "id": "m61OdpEol2V7",
        "outputId": "6c14be76-fc99-4f88-9f13-dc46ee19f076"
      },
      "execution_count": null,
      "outputs": [
        {
          "output_type": "stream",
          "name": "stdout",
          "text": [
            "24\n"
          ]
        }
      ]
    },
    {
      "cell_type": "code",
      "source": [
        "print(\"my name is hamza\")"
      ],
      "metadata": {
        "colab": {
          "base_uri": "https://localhost:8080/"
        },
        "id": "pxcTrP3lm4vG",
        "outputId": "0802934c-c4ad-408c-b6b0-47697450e8f2"
      },
      "execution_count": null,
      "outputs": [
        {
          "output_type": "stream",
          "name": "stdout",
          "text": [
            "my name is hamza\n"
          ]
        }
      ]
    },
    {
      "cell_type": "code",
      "source": [],
      "metadata": {
        "id": "8huHPB1bsl6C"
      },
      "execution_count": null,
      "outputs": []
    },
    {
      "cell_type": "code",
      "source": [
        "a=3\n",
        "b=4\n",
        "c=4\n",
        "x=a+b+c\n",
        "print(x)"
      ],
      "metadata": {
        "colab": {
          "base_uri": "https://localhost:8080/"
        },
        "id": "SF3KaFwQnIjQ",
        "outputId": "a2f56a21-086a-41a2-8181-1c0a362b52fe"
      },
      "execution_count": null,
      "outputs": [
        {
          "output_type": "stream",
          "name": "stdout",
          "text": [
            "11\n"
          ]
        }
      ]
    },
    {
      "cell_type": "code",
      "source": [
        "print(\"i am hamza and this viewer also be good boy/girls\")"
      ],
      "metadata": {
        "colab": {
          "base_uri": "https://localhost:8080/"
        },
        "id": "ltGfUmm-nevO",
        "outputId": "06138490-8d91-4621-d032-b2395ab8928e"
      },
      "execution_count": null,
      "outputs": [
        {
          "output_type": "stream",
          "name": "stdout",
          "text": [
            "i am hamza and this viewer also be good boy/girls\n"
          ]
        }
      ]
    },
    {
      "cell_type": "code",
      "source": [
        "# hey hamza , please dont remove line"
      ],
      "metadata": {
        "id": "E3WOcyzPp6un"
      },
      "execution_count": null,
      "outputs": []
    },
    {
      "cell_type": "code",
      "source": [
        "# multiple comment,three single code are use (''')\n",
        "'''\n",
        "\n",
        "i am good boy\n",
        "i have specific skill\n",
        "i want to professional developer\n",
        "'''"
      ],
      "metadata": {
        "colab": {
          "base_uri": "https://localhost:8080/",
          "height": 35
        },
        "id": "NeYwVyigqG17",
        "outputId": "bcf3091e-e381-4a81-a546-44d6c43adb12"
      },
      "execution_count": null,
      "outputs": [
        {
          "output_type": "execute_result",
          "data": {
            "text/plain": [
              "'\\ni am good boy \\ni have specific skill\\ni want to professional developer\\n'"
            ],
            "application/vnd.google.colaboratory.intrinsic+json": {
              "type": "string"
            }
          },
          "metadata": {},
          "execution_count": 21
        }
      ]
    },
    {
      "cell_type": "code",
      "source": [
        "# 2nd method for multiple comment (\"\"\"\")\n",
        "\"\"\"\n",
        "i am good boy\n",
        "i have specifice skill\n",
        "i want to professional developer\n",
        "\"\"\"\n"
      ],
      "metadata": {
        "colab": {
          "base_uri": "https://localhost:8080/",
          "height": 35
        },
        "id": "j-4Y_3kQqZpv",
        "outputId": "d8328d33-7efe-45b4-e0ed-bc87b6f2c25a"
      },
      "execution_count": null,
      "outputs": [
        {
          "output_type": "execute_result",
          "data": {
            "text/plain": [
              "'\\ni am good boy \\ni have specifice skill\\ni want to professional developer\\n'"
            ],
            "application/vnd.google.colaboratory.intrinsic+json": {
              "type": "string"
            }
          },
          "metadata": {},
          "execution_count": 22
        }
      ]
    },
    {
      "cell_type": "code",
      "source": [
        "# Author: hamza"
      ],
      "metadata": {
        "id": "LHn29CQkqyAh"
      },
      "execution_count": null,
      "outputs": []
    },
    {
      "cell_type": "code",
      "source": [
        "print(\"hello world!!!\") # printing hello world"
      ],
      "metadata": {
        "colab": {
          "base_uri": "https://localhost:8080/"
        },
        "id": "oR2DvcBmrRuL",
        "outputId": "35ef2597-daff-4c89-b451-a5bdff5d5419"
      },
      "execution_count": null,
      "outputs": [
        {
          "output_type": "stream",
          "name": "stdout",
          "text": [
            "hello world!!!\n"
          ]
        }
      ]
    },
    {
      "cell_type": "code",
      "source": [
        "# this method are use for multiple sentence\n",
        "print(\" i am a\\\" good boy\\\"\\nand this viewer is also good boys\\girls\")"
      ],
      "metadata": {
        "colab": {
          "base_uri": "https://localhost:8080/"
        },
        "id": "Du6WyDq7sZDB",
        "outputId": "e932a2c4-b26e-4b57-c88b-2a07a8b8cff6"
      },
      "execution_count": null,
      "outputs": [
        {
          "output_type": "stream",
          "name": "stdout",
          "text": [
            " i am a\" good boy\"\n",
            "and this viewer is also good boys\\girls\n"
          ]
        }
      ]
    },
    {
      "cell_type": "code",
      "source": [
        "print(\"hey\",5,6, sep=\"_\", end=\"006\")\n",
        "print(\"hamza\")"
      ],
      "metadata": {
        "colab": {
          "base_uri": "https://localhost:8080/"
        },
        "id": "alJv8NqIt1VQ",
        "outputId": "548156af-ef6b-42e7-a4dc-6e56ddfb2ea6"
      },
      "execution_count": null,
      "outputs": [
        {
          "output_type": "stream",
          "name": "stdout",
          "text": [
            "hey_5_6006hamza\n"
          ]
        }
      ]
    },
    {
      "cell_type": "code",
      "source": [
        "print(\"hey\", 5,6, sep=\"_, \", end=\"006\\n\")\n",
        "print(\"hamza\")"
      ],
      "metadata": {
        "colab": {
          "base_uri": "https://localhost:8080/"
        },
        "id": "SUnByX6KvkwN",
        "outputId": "b58fd26f-f547-4d4c-9c93-bd4190cbd2e6"
      },
      "execution_count": null,
      "outputs": [
        {
          "output_type": "stream",
          "name": "stdout",
          "text": [
            "hey_, 5_, 6006\n",
            "hamza\n"
          ]
        }
      ]
    },
    {
      "cell_type": "code",
      "source": [
        "# create the calculator\n",
        "\"\"\"\n",
        "addition (+)\n",
        "subtraction (-)\n",
        "multiplication (*)\n",
        "exponential (**)\n",
        "division (/)\n",
        "modulus(%)\n",
        "floor division (//)\n",
        "\"\"\""
      ],
      "metadata": {
        "id": "deNfBVgCkXFE"
      },
      "execution_count": null,
      "outputs": []
    },
    {
      "cell_type": "code",
      "source": [
        "# if\n",
        "n= 5\n",
        "m=15\n",
        "ans1=n+m\n",
        "print(\"addtion of\",n,\"and\",m,\"is\",ans1)\n",
        "ans2=n-m\n",
        "print(\"subtraction of\",n,\"and\",m,\"is\",ans2)\n",
        "ans3=n*m\n",
        "print(\"multiplication of\",n,\"and\",m,\"is\",ans3)\n",
        "ans4=n**m\n",
        "print(\"exponential of\",n,\"and\",m,\"is\",ans4)\n",
        "ans5=n/m\n",
        "print(\"division of\",n,\"and\",m,\"is\",ans5)\n",
        "ans6=n%m\n",
        "print(\"modulus of\",n,\"and\",m,\"is\",ans6)\n",
        "ans7=n//m\n",
        "print(\"floor division of\",n,\"and\",m,\"is\",ans7)\n"
      ],
      "metadata": {
        "colab": {
          "base_uri": "https://localhost:8080/"
        },
        "id": "kjBbZRz7llQC",
        "outputId": "99a46b1f-ca81-4b08-8b71-9285fcc650d9"
      },
      "execution_count": 5,
      "outputs": [
        {
          "output_type": "stream",
          "name": "stdout",
          "text": [
            "addtion of 5 and 15 is 20\n",
            "subtraction of 5 and 15 is -10\n",
            "multiplication of 5 and 15 is 75\n",
            "exponential of 5 and 15 is 30517578125\n",
            "division of 5 and 15 is 0.3333333333333333\n",
            "modulus of 5 and 15 is 5\n",
            "floor division of 5 and 15 is 0\n"
          ]
        }
      ]
    },
    {
      "cell_type": "code",
      "source": [
        "# variable and datatype\n",
        "\n",
        "#varible is like a container that holds data.\n",
        "#datatype specifics the type of value a varible hold.\n"
      ],
      "metadata": {
        "id": "v9OqZjlfosJf"
      },
      "execution_count": 12,
      "outputs": []
    },
    {
      "cell_type": "code",
      "source": [
        "# if\n",
        "a=123\n",
        "print(a)\n",
        "# a have individual data\n",
        "b=\"hamza\"\n",
        "print(b)\n",
        "# b have .......\n"
      ],
      "metadata": {
        "colab": {
          "base_uri": "https://localhost:8080/"
        },
        "id": "EpWvf3zcsJlu",
        "outputId": "14936b12-10e9-4b56-952d-1323e8cd20ac"
      },
      "execution_count": 14,
      "outputs": [
        {
          "output_type": "stream",
          "name": "stdout",
          "text": [
            "123\n",
            "hamza\n"
          ]
        }
      ]
    },
    {
      "cell_type": "code",
      "source": [
        "# if\n",
        "a=123\n",
        "a1=10\n",
        "print(a+a1)"
      ],
      "metadata": {
        "colab": {
          "base_uri": "https://localhost:8080/"
        },
        "id": "eBXxtApctRpJ",
        "outputId": "336c59f0-1e42-4889-b259-59fbd1e98617"
      },
      "execution_count": 15,
      "outputs": [
        {
          "output_type": "stream",
          "name": "stdout",
          "text": [
            "133\n"
          ]
        }
      ]
    },
    {
      "cell_type": "code",
      "source": [
        "# if\n",
        "a=123\n",
        "b= 'true'\n",
        "c=\"hamza\"\n",
        "d='none'\n",
        "# and i want to know its type so i can do that in this manner i can write \"the type of a is...\"\n",
        "print(\"the type of a is \", type(a))\n",
        "print(\"the type of a is \", type(b))\n",
        "print(\"the type of a is \", type(c))\n",
        "print(\"the type of a is \", type(d))"
      ],
      "metadata": {
        "colab": {
          "base_uri": "https://localhost:8080/"
        },
        "id": "saCQOCm3ucKm",
        "outputId": "c6b83e56-5b47-4ae3-f606-138b7b47bbac"
      },
      "execution_count": 18,
      "outputs": [
        {
          "output_type": "stream",
          "name": "stdout",
          "text": [
            "the type of a is  <class 'int'>\n",
            "the type of a is  <class 'str'>\n",
            "the type of a is  <class 'str'>\n",
            "the type of a is  <class 'str'>\n"
          ]
        }
      ]
    },
    {
      "cell_type": "code",
      "source": [
        "#complex type\n",
        "# if you write a= 8,2 then python give error\n",
        "#if\n",
        "a=complex(8,2)"
      ],
      "metadata": {
        "id": "jPZlwtSsw8YW"
      },
      "execution_count": 19,
      "outputs": []
    },
    {
      "cell_type": "code",
      "source": [
        "list1=[2,4,5.3,[4,6]]\n",
        "print(list1)\n",
        "list2=[\"apple,banana\"]\n",
        "print(list2)"
      ],
      "metadata": {
        "colab": {
          "base_uri": "https://localhost:8080/"
        },
        "id": "23GDTVOZB81r",
        "outputId": "76744a68-b4fb-4f2e-c1dc-379da1c63361"
      },
      "execution_count": 3,
      "outputs": [
        {
          "output_type": "stream",
          "name": "stdout",
          "text": [
            "[2, 4, 5.3, [4, 6]]\n",
            "['apple,banana']\n"
          ]
        }
      ]
    },
    {
      "cell_type": "code",
      "source": [
        "# what is u know  everything in python is a ' object'"
      ],
      "metadata": {
        "id": "aEgSyIiwEOmW"
      },
      "execution_count": null,
      "outputs": []
    },
    {
      "cell_type": "code",
      "source": [
        "# type casting\n",
        "# as we know\n",
        "a=1\n",
        "b=2\n",
        "print(a+b)\n",
        "\"\"\"\n",
        "typ casting : the conversion of one data tpye into the other data type is know as type casting\n",
        "python support a wide variety of function or method like: int(),floating(),str(),ord(),hex(),tuple(),set(),list() etc.for the type casting in python\n",
        "type of type casting:\n",
        "1: Explicit conversion\n",
        "2:implicit.....\n",
        "\"\"\"\n"
      ],
      "metadata": {
        "id": "bWRyTNx-EemW"
      },
      "execution_count": null,
      "outputs": []
    },
    {
      "cell_type": "code",
      "source": [
        "a=\"1\"\n",
        "b=\"3\"\n",
        "print(a+b)"
      ],
      "metadata": {
        "colab": {
          "base_uri": "https://localhost:8080/"
        },
        "id": "rIIbt5wRIcqY",
        "outputId": "4e2e65ca-7d8c-48de-9061-e5cd888c4310"
      },
      "execution_count": 7,
      "outputs": [
        {
          "output_type": "stream",
          "name": "stdout",
          "text": [
            "13\n"
          ]
        }
      ]
    },
    {
      "cell_type": "code",
      "source": [
        "# convert into \"integer\"\n",
        "# if\n",
        "a=\"1\"\n",
        "b=\"3\"\n",
        "print(int(a)+int(b))"
      ],
      "metadata": {
        "colab": {
          "base_uri": "https://localhost:8080/"
        },
        "id": "QeWfs00UJDxn",
        "outputId": "92860cab-8f48-480b-d005-fb8fd3886163"
      },
      "execution_count": 9,
      "outputs": [
        {
          "output_type": "stream",
          "name": "stdout",
          "text": [
            "4\n"
          ]
        }
      ]
    },
    {
      "cell_type": "code",
      "source": [
        "# explicit typecasting\n",
        "string=\"18\"\n",
        "number=7\n",
        "string_number=int(string)#throw an error if the string is not a valid integer\n",
        "sum=number+string_number\n",
        "print(\"the sum of both numbers is\",sum)"
      ],
      "metadata": {
        "colab": {
          "base_uri": "https://localhost:8080/"
        },
        "id": "OHmoXqd3Kqqz",
        "outputId": "9425c640-9ba2-4292-a2d5-c47220793298"
      },
      "execution_count": 20,
      "outputs": [
        {
          "output_type": "stream",
          "name": "stdout",
          "text": [
            "the sum of both numbers is 25\n"
          ]
        }
      ]
    },
    {
      "cell_type": "code",
      "source": [
        "#implicit typecasting\n",
        "a=7\n",
        "b=8.8\n",
        "print(type(a+b))"
      ],
      "metadata": {
        "colab": {
          "base_uri": "https://localhost:8080/"
        },
        "id": "QGvIesrkP4Dw",
        "outputId": "1805d40c-8a52-488c-f0da-9702a22d1ebb"
      },
      "execution_count": 22,
      "outputs": [
        {
          "output_type": "stream",
          "name": "stdout",
          "text": [
            "<class 'float'>\n"
          ]
        }
      ]
    },
    {
      "cell_type": "code",
      "source": [
        "a=8.8\n",
        "b=7\n",
        "print(float(a+b))"
      ],
      "metadata": {
        "colab": {
          "base_uri": "https://localhost:8080/"
        },
        "id": "bpgCOMkOQTQq",
        "outputId": "21857b24-b101-4680-8c71-17a04a5ca4a5"
      },
      "execution_count": 23,
      "outputs": [
        {
          "output_type": "stream",
          "name": "stdout",
          "text": [
            "15.8\n"
          ]
        }
      ]
    },
    {
      "cell_type": "code",
      "source": [
        "a=8.9\n",
        "b=6\n",
        "print(str(a+b))"
      ],
      "metadata": {
        "colab": {
          "base_uri": "https://localhost:8080/"
        },
        "id": "ilBgwHaHQifi",
        "outputId": "0ba53155-cc47-4e3f-dc0b-87878e135f60"
      },
      "execution_count": 25,
      "outputs": [
        {
          "output_type": "stream",
          "name": "stdout",
          "text": [
            "14.9\n"
          ]
        }
      ]
    },
    {
      "cell_type": "code",
      "source": [
        "#taking user input in python\n",
        "a=input(\"\")\n",
        "print(\"my name is \",a)\n"
      ],
      "metadata": {
        "colab": {
          "base_uri": "https://localhost:8080/"
        },
        "id": "irV69XwMSFiO",
        "outputId": "ac0988cd-80cb-4fab-c269-1fd6850292c7"
      },
      "execution_count": 27,
      "outputs": [
        {
          "output_type": "stream",
          "name": "stdout",
          "text": [
            "hamza\n",
            "my name is  hamza\n"
          ]
        }
      ]
    },
    {
      "cell_type": "code",
      "source": [
        "a=input(\"enter your name: \")\n",
        "print(\"my name is \",a)"
      ],
      "metadata": {
        "colab": {
          "base_uri": "https://localhost:8080/"
        },
        "id": "A28RMxDvTRTr",
        "outputId": "5648c7bb-a487-4ea7-d677-05cd0bd8b295"
      },
      "execution_count": 28,
      "outputs": [
        {
          "output_type": "stream",
          "name": "stdout",
          "text": [
            "enter your name: hamza\n",
            "my name is  hamza\n"
          ]
        }
      ]
    },
    {
      "cell_type": "code",
      "source": [
        "x=input(\"enter first number: \")\n",
        "y=input(\"enter second number: \")\n",
        "print(x+y)"
      ],
      "metadata": {
        "colab": {
          "base_uri": "https://localhost:8080/"
        },
        "id": "ao2H8AAZTpCr",
        "outputId": "b1a230c2-9534-4e84-87b5-6bc9b5a546a9"
      },
      "execution_count": 31,
      "outputs": [
        {
          "output_type": "stream",
          "name": "stdout",
          "text": [
            "enter first number: 12\n",
            "enter second number: 100\n",
            "12100\n"
          ]
        }
      ]
    },
    {
      "cell_type": "code",
      "source": [
        "# if\n",
        "x=input(\"enter first number: \")\n",
        "y=input(\"enter second number:\")\n",
        "print(int(x)+int(y))"
      ],
      "metadata": {
        "colab": {
          "base_uri": "https://localhost:8080/"
        },
        "id": "Og0xgNYYVU8_",
        "outputId": "d4c3d9f9-1159-4b04-d4e9-f33e38aea67c"
      },
      "execution_count": 32,
      "outputs": [
        {
          "output_type": "stream",
          "name": "stdout",
          "text": [
            "enter first number: 12\n",
            "enter second number:100\n",
            "112\n"
          ]
        }
      ]
    },
    {
      "cell_type": "code",
      "source": [
        "# what is string?\n",
        "#in python , anything that you enclose b/w single or double question marks is considered as string\n",
        "#Example 1\n",
        "name=\"hamza\"\n",
        "friend=\"roshan\"\n",
        "anotherfreind=\"imran\"\n",
        "print(\"hey\",name)\n",
        "#Example 2\n",
        "#Apple=\"he said ,\"i want to eat an apple\" ( then python give error when you can excess)\n",
        "apple='he said,/i want to eat an apple'\n",
        "#Example 3\n",
        "apple=\"he said , i want to to eat an apple\"\n",
        "print(apple)\n",
        "\n"
      ],
      "metadata": {
        "colab": {
          "base_uri": "https://localhost:8080/"
        },
        "id": "kisvrxqFWztu",
        "outputId": "ee1f34e7-da44-425b-b865-2a3f80707842"
      },
      "execution_count": 39,
      "outputs": [
        {
          "output_type": "stream",
          "name": "stdout",
          "text": [
            "hey hamza\n",
            "he said , i want to to eat an apple\n"
          ]
        }
      ]
    },
    {
      "cell_type": "code",
      "source": [
        "name=\"hamza\"\n",
        "print(name[0])"
      ],
      "metadata": {
        "colab": {
          "base_uri": "https://localhost:8080/"
        },
        "id": "iWh3O6mxa4Ia",
        "outputId": "0cd0acb3-d3c4-4cc6-d086-cf542636b362"
      },
      "execution_count": 40,
      "outputs": [
        {
          "output_type": "stream",
          "name": "stdout",
          "text": [
            "h\n"
          ]
        }
      ]
    },
    {
      "cell_type": "code",
      "source": [
        "name=\"hamza\"\n",
        "print(name[0:4])\n"
      ],
      "metadata": {
        "colab": {
          "base_uri": "https://localhost:8080/"
        },
        "id": "K3hUMd9zbZ1z",
        "outputId": "f5b9c939-8929-4f4f-c6f6-e74d783a7c68"
      },
      "execution_count": 41,
      "outputs": [
        {
          "output_type": "stream",
          "name": "stdout",
          "text": [
            "hamz\n"
          ]
        }
      ]
    },
    {
      "cell_type": "code",
      "source": [
        "name=\"hamza\"\n",
        "print(name[0:5])"
      ],
      "metadata": {
        "colab": {
          "base_uri": "https://localhost:8080/"
        },
        "id": "zKZWO6m0b3i7",
        "outputId": "448fec2c-e3d5-41c5-dba3-1fdb4f7d7ff9"
      },
      "execution_count": 42,
      "outputs": [
        {
          "output_type": "stream",
          "name": "stdout",
          "text": [
            "hamza\n"
          ]
        }
      ]
    },
    {
      "cell_type": "code",
      "source": [
        "fruit=\"apple\"\n",
        "print(\"let use a for loop/n\",name)"
      ],
      "metadata": {
        "colab": {
          "base_uri": "https://localhost:8080/"
        },
        "id": "22zq8XS2cGd8",
        "outputId": "76843c1d-d63e-42c1-984b-22f7e2d2d1db"
      },
      "execution_count": 45,
      "outputs": [
        {
          "output_type": "stream",
          "name": "stdout",
          "text": [
            "let use a for loop/n hamza\n"
          ]
        }
      ]
    },
    {
      "cell_type": "code",
      "source": [
        "name=\"hamza\"\n",
        "print(\"character\",name)"
      ],
      "metadata": {
        "colab": {
          "base_uri": "https://localhost:8080/"
        },
        "id": "t2dw54sUcotW",
        "outputId": "83bff14e-bc6c-44b2-b3b2-0cb1a50879d9"
      },
      "execution_count": 49,
      "outputs": [
        {
          "output_type": "stream",
          "name": "stdout",
          "text": [
            "character hamza\n"
          ]
        }
      ]
    },
    {
      "cell_type": "code",
      "source": [
        "#string slicing and operation on string\n",
        "#Example\n",
        "name=\"hamza,ali\"\n",
        "print(name[0:9])"
      ],
      "metadata": {
        "colab": {
          "base_uri": "https://localhost:8080/"
        },
        "id": "ERUSZwyEdKZX",
        "outputId": "77e69bef-e772-4905-b3de-a0cd7a662a91"
      },
      "execution_count": 50,
      "outputs": [
        {
          "output_type": "stream",
          "name": "stdout",
          "text": [
            "hamza,ali\n"
          ]
        }
      ]
    },
    {
      "cell_type": "code",
      "source": [
        "name=\"hamza,ali\"\n",
        "#if u want to know legth\n",
        "print(len(name))\n"
      ],
      "metadata": {
        "colab": {
          "base_uri": "https://localhost:8080/"
        },
        "id": "5LXI4KseeAJB",
        "outputId": "9c581b65-101f-4e12-ef39-4319e544550f"
      },
      "execution_count": 51,
      "outputs": [
        {
          "output_type": "stream",
          "name": "stdout",
          "text": [
            "9\n"
          ]
        }
      ]
    },
    {
      "cell_type": "code",
      "source": [
        "#example\n",
        "fruit=\"mango\"\n",
        "len1=len(fruit)\n",
        "print(\"mango is a\",len1,\"letter word\")"
      ],
      "metadata": {
        "colab": {
          "base_uri": "https://localhost:8080/"
        },
        "id": "ITUTjGlaeq4i",
        "outputId": "29c84146-1c51-41ba-986d-ae1b40ff9e30"
      },
      "execution_count": 52,
      "outputs": [
        {
          "output_type": "stream",
          "name": "stdout",
          "text": [
            "mango is a 5 letter word\n"
          ]
        }
      ]
    },
    {
      "cell_type": "code",
      "source": [
        "fruit=\"mango\"\n",
        "print(fruit[0:-3])"
      ],
      "metadata": {
        "colab": {
          "base_uri": "https://localhost:8080/"
        },
        "id": "gQ1h_S1AfeWf",
        "outputId": "39bd7e8d-2975-4d4d-913a-52b95b0a8530"
      },
      "execution_count": 53,
      "outputs": [
        {
          "output_type": "stream",
          "name": "stdout",
          "text": [
            "ma\n"
          ]
        }
      ]
    },
    {
      "cell_type": "code",
      "source": [
        "fruit=\"mango\"\n",
        "print(fruit[-2:-1])"
      ],
      "metadata": {
        "colab": {
          "base_uri": "https://localhost:8080/"
        },
        "id": "xZjWskJifygN",
        "outputId": "c520ecf7-1d33-4675-d23f-4ec8b29170ec"
      },
      "execution_count": 54,
      "outputs": [
        {
          "output_type": "stream",
          "name": "stdout",
          "text": [
            "g\n"
          ]
        }
      ]
    }
  ]
}