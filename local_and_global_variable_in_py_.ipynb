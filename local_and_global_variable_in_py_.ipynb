{
  "cells": [
    {
      "cell_type": "markdown",
      "metadata": {
        "id": "view-in-github",
        "colab_type": "text"
      },
      "source": [
        "<a href=\"https://colab.research.google.com/github/MHamza666/M-Hamza/blob/main/local_and_global_variable_in_py_.ipynb\" target=\"_parent\"><img src=\"https://colab.research.google.com/assets/colab-badge.svg\" alt=\"Open In Colab\"/></a>"
      ]
    },
    {
      "cell_type": "markdown",
      "source": [
        "# local & global variable\n",
        "Before we dive into the differences between local and global variables, let's first recall what a variable is in Python.\n",
        "\n",
        "A variable is a named location in memory that stores a value. In Python, we can assign values to variables using the assignment operato"
      ],
      "metadata": {
        "id": "58MqROO4j2__"
      }
    },
    {
      "cell_type": "code",
      "source": [
        "x=4\n",
        "print(x)\n",
        "def hello():\n",
        "  x=5\n",
        "  print(x)\n",
        "  print(\" hello hamza\")\n",
        "\n",
        "hello()"
      ],
      "metadata": {
        "colab": {
          "base_uri": "https://localhost:8080/"
        },
        "id": "ih8EpxhukCLa",
        "outputId": "db6190e4-f969-4d3f-8950-6c77f0fc77f7"
      },
      "execution_count": 1,
      "outputs": [
        {
          "output_type": "stream",
          "name": "stdout",
          "text": [
            "4\n",
            "5\n",
            " hello hamza\n"
          ]
        }
      ]
    },
    {
      "cell_type": "code",
      "source": [
        "x=4\n",
        "print(x)\n",
        "def hello():\n",
        "  x=5\n",
        "  print(f\"the local x is {x} \")\n",
        "  print(\"hello hamza\")\n",
        "print(f\" the global x is {x} \")\n",
        "hello()\n",
        "print(f\"the global x is {x}\")"
      ],
      "metadata": {
        "colab": {
          "base_uri": "https://localhost:8080/"
        },
        "id": "1cO8cSbdk0RF",
        "outputId": "24139798-a2f2-41a8-f757-3e39cd7454b9"
      },
      "execution_count": 5,
      "outputs": [
        {
          "output_type": "stream",
          "name": "stdout",
          "text": [
            "4\n",
            " the global x is 4 \n",
            "the local x is 5 \n",
            "hello hamza\n",
            "the global x is 4\n"
          ]
        }
      ]
    },
    {
      "cell_type": "code",
      "source": [
        "x=4\n",
        "print(x)\n",
        "def hello():\n",
        "  x=5\n",
        "  print(f\"the local x is {x}\")\n",
        "  print(\"hello hamza\")\n",
        "\n",
        "print(f\"the global x is {x}\")\n",
        "hello()\n",
        "x=5\n",
        "print(f\"the global x is {x}\")"
      ],
      "metadata": {
        "colab": {
          "base_uri": "https://localhost:8080/"
        },
        "id": "m-Ggn5zGmZTB",
        "outputId": "7d17d8d7-7352-4639-9608-80f90f2b4733"
      },
      "execution_count": 6,
      "outputs": [
        {
          "output_type": "stream",
          "name": "stdout",
          "text": [
            "4\n",
            "the global x is 4\n",
            "the local x is 5\n",
            "hello hamza\n",
            "the global x is 5\n"
          ]
        }
      ]
    },
    {
      "cell_type": "markdown",
      "source": [
        "Now, let's talk about local and global variables.\n",
        "\n",
        "A local variable is a variable that is defined within a function and is only accessible within that function. It is created when the function is called and is destroyed when the function returns.\n",
        "\n",
        "On the other hand, a global variable is a variable that is defined outside of a function and is accessible from within any function in your code.\n",
        "\n",
        "Here's an example to help clarify the difference"
      ],
      "metadata": {
        "id": "dMFlYFoXnAVv"
      }
    },
    {
      "cell_type": "code",
      "source": [
        "x = 10 # global variable\n",
        "\n",
        "def my_function():\n",
        "  y = 5 # local variable\n",
        "  print(y)\n",
        "\n",
        "my_function()\n",
        "print(x)\n",
        "print(y) # this will cause an error because y is a local variable and is not accessible outside of the function"
      ],
      "metadata": {
        "id": "L5_EzOj3nC78"
      },
      "execution_count": null,
      "outputs": []
    },
    {
      "cell_type": "markdown",
      "source": [
        "In this example, we used the global keyword to declare that we want to modify the global variable x from within the function. As a result, the value of x is changed to 5.\n",
        "\n",
        "It's important to note that it's generally considered good practice to avoid modifying global variables from within functions, as it can lead to unexpected behavior and make your code harder to debug.\n",
        "\n",
        "I hope this tutorial has helped clarify the differences between local and global variables and how to use the global keyword in Python. Thank you for watching!"
      ],
      "metadata": {
        "id": "x9AEo5F4ow1q"
      }
    },
    {
      "cell_type": "code",
      "source": [
        "# if i want to change x value\n",
        "x= 10\n",
        "\n",
        "def my_function():\n",
        "  global x\n",
        "  x=5\n",
        "  y=6\n",
        "  print(y)\n",
        "\n",
        "my_function()\n",
        "print(x)"
      ],
      "metadata": {
        "colab": {
          "base_uri": "https://localhost:8080/"
        },
        "id": "S-4xOBf6npZF",
        "outputId": "ff22765a-d896-47d0-e9cf-f0dfd2068058"
      },
      "execution_count": 9,
      "outputs": [
        {
          "output_type": "stream",
          "name": "stdout",
          "text": [
            "6\n",
            "5\n"
          ]
        }
      ]
    }
  ],
  "metadata": {
    "colab": {
      "provenance": [],
      "authorship_tag": "ABX9TyPR2raYXN5qCnonk1xmPhaS",
      "include_colab_link": true
    },
    "kernelspec": {
      "display_name": "Python 3",
      "name": "python3"
    },
    "language_info": {
      "name": "python"
    }
  },
  "nbformat": 4,
  "nbformat_minor": 0
}