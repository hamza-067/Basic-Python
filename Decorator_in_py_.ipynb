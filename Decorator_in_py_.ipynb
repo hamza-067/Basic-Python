{
  "cells": [
    {
      "cell_type": "markdown",
      "metadata": {
        "id": "view-in-github",
        "colab_type": "text"
      },
      "source": [
        "<a href=\"https://colab.research.google.com/github/MHamza666/M-Hamza/blob/main/Decorator_in_py_.ipynb\" target=\"_parent\"><img src=\"https://colab.research.google.com/assets/colab-badge.svg\" alt=\"Open In Colab\"/></a>"
      ]
    },
    {
      "cell_type": "markdown",
      "source": [
        "# decorators\n",
        "Python decorators are a powerful and versatile tool that allow you to modify the behavior of functions and methods. They are a way to extend the functionality of a function or method without modifying its source code.\n",
        "\n",
        "A decorator is a function that takes another function as an argument and returns a new function that modifies the behavior of the original function. The new function is often referred to as a \"decorated\" function."
      ],
      "metadata": {
        "id": "S-AjobMaB2Ke"
      }
    },
    {
      "cell_type": "code",
      "source": [
        "def greet(fx):\n",
        "  def mfx():\n",
        "    print(\"good morning\")\n",
        "    fx()\n",
        "    print(\"thanks for using this function\")\n",
        "  return mfx\n",
        "\n",
        "@greet\n",
        "def hello():\n",
        "  print(\"Hello World\")\n",
        "\n",
        "def add(a,b):\n",
        "  print(a+b)\n",
        "\n",
        "hello()"
      ],
      "metadata": {
        "colab": {
          "base_uri": "https://localhost:8080/"
        },
        "id": "YOkVSX5eQHjI",
        "outputId": "3f9fd561-1c0c-4b6a-d66b-a5dc24771737"
      },
      "execution_count": 18,
      "outputs": [
        {
          "output_type": "stream",
          "name": "stdout",
          "text": [
            "good morning\n",
            "Hello World\n",
            "thanks for using this function\n"
          ]
        }
      ]
    },
    {
      "cell_type": "code",
      "source": [
        "def greet(fx):\n",
        "  def mfx(*args,**kwargs):\n",
        "    print(\"good morning\")\n",
        "    fx(*args,**kwargs)\n",
        "    print(\"thanks for using this function\")\n",
        "  return mfx\n",
        "\n",
        "@greet\n",
        "def hello():\n",
        "  print(\"Hello World\")\n",
        "\n",
        "def add(a,b):\n",
        "  print(a+b)\n",
        "\n",
        "hello()\n",
        "greet(add)(1,2)"
      ],
      "metadata": {
        "colab": {
          "base_uri": "https://localhost:8080/"
        },
        "id": "lmLdUCpaV4zq",
        "outputId": "9060f9ec-9a22-4295-ea4e-ab4080126ee4"
      },
      "execution_count": 1,
      "outputs": [
        {
          "output_type": "stream",
          "name": "stdout",
          "text": [
            "good morning\n",
            "Hello World\n",
            "thanks for using this function\n",
            "good morning\n",
            "3\n",
            "thanks for using this function\n"
          ]
        }
      ]
    },
    {
      "cell_type": "code",
      "source": [
        "import logging\n",
        "\n",
        "def log_function_call(func):\n",
        "    def decorated(*args, **kwargs):\n",
        "        logging.info(f\"Calling {func.__name__} with args={args}, kwargs={kwargs}\")\n",
        "        result = func(*args, **kwargs)\n",
        "        logging.info(f\"{func.__name__} returned {result}\")\n",
        "        return result\n",
        "    return decorated\n",
        "\n",
        "@log_function_call\n",
        "def my_function(a, b):\n",
        "    return a + b"
      ],
      "metadata": {
        "id": "jvrQ_WsGvFky"
      },
      "execution_count": 2,
      "outputs": []
    },
    {
      "cell_type": "markdown",
      "source": [
        "In this example, the log_function_call decorator takes a function as an argument and returns a new function that logs the function call before and after the original function is called"
      ],
      "metadata": {
        "id": "zU1NwGLCvkdP"
      }
    }
  ],
  "metadata": {
    "colab": {
      "provenance": [],
      "authorship_tag": "ABX9TyM7eFXg9MszHq4H9H5ScnXx",
      "include_colab_link": true
    },
    "kernelspec": {
      "display_name": "Python 3",
      "name": "python3"
    },
    "language_info": {
      "name": "python"
    }
  },
  "nbformat": 4,
  "nbformat_minor": 0
}