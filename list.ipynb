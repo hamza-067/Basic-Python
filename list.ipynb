{
  "nbformat": 4,
  "nbformat_minor": 0,
  "metadata": {
    "colab": {
      "provenance": [],
      "authorship_tag": "ABX9TyNej3Y9twO2oV1VpaHQazyx",
      "include_colab_link": true
    },
    "kernelspec": {
      "name": "python3",
      "display_name": "Python 3"
    },
    "language_info": {
      "name": "python"
    }
  },
  "cells": [
    {
      "cell_type": "markdown",
      "metadata": {
        "id": "view-in-github",
        "colab_type": "text"
      },
      "source": [
        "<a href=\"https://colab.research.google.com/github/MHamza666/M-Hamza/blob/main/list.ipynb\" target=\"_parent\"><img src=\"https://colab.research.google.com/assets/colab-badge.svg\" alt=\"Open In Colab\"/></a>"
      ]
    },
    {
      "cell_type": "markdown",
      "source": [
        "# List"
      ],
      "metadata": {
        "id": "fh6DLOl4GY3D"
      }
    },
    {
      "cell_type": "code",
      "source": [
        "lstemp=[]\n",
        "lst=['one','two','three','four']#list of string\n",
        "lst2=[1,2,3,4]#list of integers\n",
        "list3=[[1,2],[3,4]]#list of list\n",
        "list4=[1,'ali',23,1,24]#list of different datatype\n",
        "print(list4)"
      ],
      "metadata": {
        "colab": {
          "base_uri": "https://localhost:8080/"
        },
        "id": "yZ-G7BMCGJdT",
        "outputId": "74781943-4de9-422e-971d-aeae4f1f41c6"
      },
      "execution_count": 1,
      "outputs": [
        {
          "output_type": "stream",
          "name": "stdout",
          "text": [
            "[1, 'ali', 23, 1, 24]\n"
          ]
        }
      ]
    },
    {
      "cell_type": "code",
      "source": [
        "lstemp=[]\n",
        "lst1=['one','two','three','four']#list of string\n",
        "lst2=[1, 2, 3, 4]#list of integers\n",
        "list3=[[1, 2],[3, 4]]#list of list\n",
        "list4=[1,'ali',23,1,24]#list of different datatype\n",
        "print(lst2)"
      ],
      "metadata": {
        "colab": {
          "base_uri": "https://localhost:8080/"
        },
        "id": "qN8kueb0I8Qq",
        "outputId": "45b06a00-842a-4d28-e6f6-5b4c3a81deed"
      },
      "execution_count": 4,
      "outputs": [
        {
          "output_type": "stream",
          "name": "stdout",
          "text": [
            "[1, 2, 3, 4]\n"
          ]
        }
      ]
    },
    {
      "cell_type": "code",
      "source": [
        "lstemp=[]\n",
        "lst=['one','two','three','four']#list of string\n",
        "lst2=[1,2,3,4]#list of integers\n",
        "lst3=[[1,2],[3,4]]#list of list\n",
        "lst4=[1,'ali',23,1,24]#list of different datatype\n",
        "print(lst3)"
      ],
      "metadata": {
        "colab": {
          "base_uri": "https://localhost:8080/"
        },
        "id": "BTyPdet-JXuH",
        "outputId": "490854b3-af12-48bc-de68-0bf45da613aa"
      },
      "execution_count": 6,
      "outputs": [
        {
          "output_type": "stream",
          "name": "stdout",
          "text": [
            "[[1, 2], [3, 4]]\n"
          ]
        }
      ]
    },
    {
      "cell_type": "markdown",
      "source": [
        "# index number"
      ],
      "metadata": {
        "id": "cT7JtZsXJ-83"
      }
    },
    {
      "cell_type": "code",
      "source": [
        "lstemp=[]\n",
        "lst=['one','two','three','four']#list of string\n",
        "lst2=[1,2,3,4]#list of integers\n",
        "list3=[[1,2],[3,4]]#list of list\n",
        "list4=[1,'ali',23,1,24]#list of different datatype\n",
        "print(lst[1])"
      ],
      "metadata": {
        "colab": {
          "base_uri": "https://localhost:8080/"
        },
        "id": "9HcmMP6iJlHv",
        "outputId": "b3807fd8-cb6f-41d9-8588-16369158df1a"
      },
      "execution_count": 7,
      "outputs": [
        {
          "output_type": "stream",
          "name": "stdout",
          "text": [
            "two\n"
          ]
        }
      ]
    },
    {
      "cell_type": "code",
      "source": [
        "lstemp=[]\n",
        "lst1=['one','two','three','four']#list of string\n",
        "lst2=[1,2,3,4]#list of integers\n",
        "list3=[[1,2],[3,4]]#list of list\n",
        "list4=[1,'ali',23,1,24]#list of different datatype\n",
        "print(lst1[3])"
      ],
      "metadata": {
        "colab": {
          "base_uri": "https://localhost:8080/"
        },
        "id": "19r2myBTJ9Py",
        "outputId": "d3fa2128-9745-466a-affc-28fd266e9bf7"
      },
      "execution_count": 9,
      "outputs": [
        {
          "output_type": "stream",
          "name": "stdout",
          "text": [
            "four\n"
          ]
        }
      ]
    },
    {
      "cell_type": "code",
      "source": [
        "lstemp=[]\n",
        "lst=['one','two','three','four']#list of string\n",
        "lst2=[1,2,3,4]#list of integers\n",
        "list3=[[1,2],[3,4]]#list of list\n",
        "list4=[1,'ali',23,1,24]#list of different datatype\n",
        "print(lst2[3])"
      ],
      "metadata": {
        "colab": {
          "base_uri": "https://localhost:8080/"
        },
        "id": "-Ie6kg-vKhRI",
        "outputId": "0c0d7701-b588-4cc5-b7d7-aa721dd5290b"
      },
      "execution_count": 10,
      "outputs": [
        {
          "output_type": "stream",
          "name": "stdout",
          "text": [
            "4\n"
          ]
        }
      ]
    },
    {
      "cell_type": "markdown",
      "source": [
        "# in loop"
      ],
      "metadata": {
        "id": "eT4_NVI6LGex"
      }
    },
    {
      "cell_type": "code",
      "source": [
        "lstemp=[]\n",
        "lst=['one','two','three','four']#list of string\n",
        "lst2=[1,2,3,4]#list of integers\n",
        "list3=[[1,2],[3,4]]#list of list\n",
        "list4=[1,'ali',23,1,24]#list of different datatype\n",
        "for ls in lst:\n",
        "  print(ls)"
      ],
      "metadata": {
        "colab": {
          "base_uri": "https://localhost:8080/"
        },
        "id": "vOkuzRcPLKgC",
        "outputId": "846d4356-c8cd-46f9-f033-2af744ed42dd"
      },
      "execution_count": 11,
      "outputs": [
        {
          "output_type": "stream",
          "name": "stdout",
          "text": [
            "one\n",
            "two\n",
            "three\n",
            "four\n"
          ]
        }
      ]
    },
    {
      "cell_type": "code",
      "source": [
        "lstemp=[]\n",
        "lst=['one','two','three','four']#list of string\n",
        "lst2=[1,2,3,4]#list of integers\n",
        "list3=[[1,2],[3,4]]#list of list\n",
        "list4=[1,'ali',23,1,24]#list of different datatype\n",
        "for ls in lst2:\n",
        "  print(ls)"
      ],
      "metadata": {
        "colab": {
          "base_uri": "https://localhost:8080/"
        },
        "id": "RZ3eFK49LbvG",
        "outputId": "c35a3dca-7a0e-4e64-e524-ab6fff63eea3"
      },
      "execution_count": 12,
      "outputs": [
        {
          "output_type": "stream",
          "name": "stdout",
          "text": [
            "1\n",
            "2\n",
            "3\n",
            "4\n"
          ]
        }
      ]
    },
    {
      "cell_type": "markdown",
      "source": [
        "# length"
      ],
      "metadata": {
        "id": "y-s_GGZZMA3h"
      }
    },
    {
      "cell_type": "code",
      "source": [
        "lstemp=[]\n",
        "lst=['one','two','three','four']#list of string\n",
        "lst2=[1,2,3,4]#list of integers\n",
        "list3=[[1,2],[3,4]]#list of list\n",
        "list4=[1,'ali',23,1,24]#list of different datatype\n",
        "print(len(lst1))"
      ],
      "metadata": {
        "colab": {
          "base_uri": "https://localhost:8080/"
        },
        "id": "vkiK6ptbMEyV",
        "outputId": "6d5fb206-55f0-4879-ccb6-6eaf9398ffeb"
      },
      "execution_count": 13,
      "outputs": [
        {
          "output_type": "stream",
          "name": "stdout",
          "text": [
            "4\n"
          ]
        }
      ]
    },
    {
      "cell_type": "code",
      "source": [
        "lstemp=[]\n",
        "lst=['one','two','three','four']#list of string\n",
        "lst2=[1,2,3,4]#list of integers\n",
        "list3=[[1,2],[3,4]]#list of list\n",
        "list4=[1,'ali',23,1,24]#list of different datatype\n",
        "print(len(lst4))"
      ],
      "metadata": {
        "colab": {
          "base_uri": "https://localhost:8080/"
        },
        "id": "vtyJ2_jMMTSj",
        "outputId": "23ee0936-0104-4560-bbfd-6dbb7f787a20"
      },
      "execution_count": 14,
      "outputs": [
        {
          "output_type": "stream",
          "name": "stdout",
          "text": [
            "5\n"
          ]
        }
      ]
    },
    {
      "cell_type": "code",
      "source": [
        "lstemp=[]\n",
        "lst=['one','two','three','four']#list of string\n",
        "lst2=[1,2,3,4]#list of integers\n",
        "list3=[[1,2],[3,4]]#list of list\n",
        "list4=[1,'ali',23,1,24]#list of different datatype\n",
        "for ls in range (len(lst1)):\n",
        "  print(ls)\n"
      ],
      "metadata": {
        "colab": {
          "base_uri": "https://localhost:8080/"
        },
        "id": "9bMm34HoMltv",
        "outputId": "21fdf166-0c01-4d98-c3b1-53cb978e0f34"
      },
      "execution_count": 15,
      "outputs": [
        {
          "output_type": "stream",
          "name": "stdout",
          "text": [
            "0\n",
            "1\n",
            "2\n",
            "3\n"
          ]
        }
      ]
    },
    {
      "cell_type": "code",
      "source": [
        "lstemp=[]\n",
        "lst=['one','two','three','four']#list of string\n",
        "lst2=[1,2,3,4]#list of integers\n",
        "list3=[[1,2],[3,4]]#list of list\n",
        "list4=[1,'ali',23,1,24]#list of different datatype\n",
        "for ls in range(len(lst4)):\n",
        "  print(ls)"
      ],
      "metadata": {
        "colab": {
          "base_uri": "https://localhost:8080/"
        },
        "id": "7wWrUItQM38d",
        "outputId": "77d73925-e799-4fb6-90e9-7a65ad430e6b"
      },
      "execution_count": 16,
      "outputs": [
        {
          "output_type": "stream",
          "name": "stdout",
          "text": [
            "0\n",
            "1\n",
            "2\n",
            "3\n",
            "4\n"
          ]
        }
      ]
    },
    {
      "cell_type": "markdown",
      "source": [
        "# define value"
      ],
      "metadata": {
        "id": "Gusv_vvLNy1R"
      }
    },
    {
      "cell_type": "code",
      "source": [
        "lstemp=[]\n",
        "lst=['one','two','three','four']#list of string\n",
        "lst2=[1,2,3,4]#list of integers\n",
        "list3=[[1,2],[3,4]]#list of list\n",
        "list4=[1,'ali',23,1,24]#list of different datatype\n",
        "for ls in range (len(lst)):\n",
        "  print(lst[ls])"
      ],
      "metadata": {
        "colab": {
          "base_uri": "https://localhost:8080/"
        },
        "id": "6tznsAwOM3iB",
        "outputId": "f06adfe1-7e55-4893-bf34-55765c0c5d3b"
      },
      "execution_count": 17,
      "outputs": [
        {
          "output_type": "stream",
          "name": "stdout",
          "text": [
            "one\n",
            "two\n",
            "three\n",
            "four\n"
          ]
        }
      ]
    },
    {
      "cell_type": "markdown",
      "source": [
        "# we know that list is mutable"
      ],
      "metadata": {
        "id": "-oHz9_NMOom4"
      }
    },
    {
      "cell_type": "code",
      "source": [
        "lstemp=[]\n",
        "lst=['one','two','three','four']#list of string\n",
        "lst2=[1,2,3,4]#list of integers\n",
        "list3=[[1,2],[3,4]]#list of list\n",
        "list4=[1,'ali',23,1,24]#list of different datatype\n",
        "lst2[1]=6\n",
        "print(lst2)"
      ],
      "metadata": {
        "colab": {
          "base_uri": "https://localhost:8080/"
        },
        "id": "jlXkMQWzOxQ5",
        "outputId": "ad1d0ce1-f87f-42ea-cf42-950972f9fe8e"
      },
      "execution_count": 18,
      "outputs": [
        {
          "output_type": "stream",
          "name": "stdout",
          "text": [
            "[1, 6, 3, 4]\n"
          ]
        }
      ]
    },
    {
      "cell_type": "code",
      "source": [
        "lstemp=[]\n",
        "lst=['one','two','three','four']#list of string\n",
        "lst2=[1,2,3,4]#list of integers\n",
        "list3=[[1,2],[3,4]]#list of list\n",
        "list4=[1,'ali',23,1,24]#list of different datatype\n",
        "lst4[1]='hamza'\n",
        "print(lst4)"
      ],
      "metadata": {
        "colab": {
          "base_uri": "https://localhost:8080/"
        },
        "id": "-Isppak8Pmhd",
        "outputId": "a3b0d1a3-c2e2-45f1-d5bd-1c290aa9534c"
      },
      "execution_count": 19,
      "outputs": [
        {
          "output_type": "stream",
          "name": "stdout",
          "text": [
            "[1, 'hamza', 23, 1, 24]\n"
          ]
        }
      ]
    },
    {
      "cell_type": "markdown",
      "source": [
        "# list indexing and splitting"
      ],
      "metadata": {
        "id": "bSaphrJAQh2M"
      }
    },
    {
      "cell_type": "code",
      "source": [
        "lstemp=[]\n",
        "lst=['one','two','three','four']#list of string\n",
        "lst2=[1,2,3,4]#list of integers\n",
        "list3=[[1,2],[3,4]]#list of list\n",
        "list4=[1,'ali',23,1,24]#list of different datatype\n",
        "lst1[:]"
      ],
      "metadata": {
        "colab": {
          "base_uri": "https://localhost:8080/"
        },
        "id": "URsF-MQRQDmt",
        "outputId": "17dbbc2a-6d21-4b40-87b4-ef2e18561455"
      },
      "execution_count": 20,
      "outputs": [
        {
          "output_type": "execute_result",
          "data": {
            "text/plain": [
              "['one', 'two', 'three', 'four']"
            ]
          },
          "metadata": {},
          "execution_count": 20
        }
      ]
    },
    {
      "cell_type": "code",
      "source": [
        "lstemp=[]\n",
        "lst=['one','two','three','four']#list of string\n",
        "lst2=[1,2,3,4]#list of integers\n",
        "list3=[[1,2],[3,4]]#list of list\n",
        "list4=[1,'ali',23,1,24]#list of different datatype\n",
        "lst1[0:3]"
      ],
      "metadata": {
        "colab": {
          "base_uri": "https://localhost:8080/"
        },
        "id": "rqcDpt8pRF_w",
        "outputId": "a1cdc16c-0e6e-444d-9842-7edea0e29e0e"
      },
      "execution_count": 21,
      "outputs": [
        {
          "output_type": "execute_result",
          "data": {
            "text/plain": [
              "['one', 'two', 'three']"
            ]
          },
          "metadata": {},
          "execution_count": 21
        }
      ]
    },
    {
      "cell_type": "code",
      "source": [
        "lstemp=[]\n",
        "lst=['one','two','three','four']#list of string\n",
        "lst2=[1,2,3,4]#list of integers\n",
        "list3=[[1,2],[3,4]]#list of list\n",
        "list4=[1,'ali',23,1,24]#list of different datatype\n",
        "lst2[1:]"
      ],
      "metadata": {
        "colab": {
          "base_uri": "https://localhost:8080/"
        },
        "id": "Pb_dpSX1Rop8",
        "outputId": "27547f78-4e53-4be3-824f-b21e837dcb74"
      },
      "execution_count": 22,
      "outputs": [
        {
          "output_type": "execute_result",
          "data": {
            "text/plain": [
              "[2, 3, 4]"
            ]
          },
          "metadata": {},
          "execution_count": 22
        }
      ]
    },
    {
      "cell_type": "code",
      "source": [
        "lst=[1,2,3,4,5,6,7]\n",
        "lst[0:6]"
      ],
      "metadata": {
        "colab": {
          "base_uri": "https://localhost:8080/"
        },
        "id": "hyZwn_l0SIOe",
        "outputId": "7e020e0f-f89a-49a2-f0de-3ec0452ec3bb"
      },
      "execution_count": 23,
      "outputs": [
        {
          "output_type": "execute_result",
          "data": {
            "text/plain": [
              "[1, 2, 3, 4, 5, 6]"
            ]
          },
          "metadata": {},
          "execution_count": 23
        }
      ]
    },
    {
      "cell_type": "code",
      "source": [
        "lst=[1,2,3,4,5,6,7]\n",
        "lst[0:7]"
      ],
      "metadata": {
        "colab": {
          "base_uri": "https://localhost:8080/"
        },
        "id": "_XO1hQr8Samh",
        "outputId": "ad979392-962b-4474-f6f6-4fe3a857bb38"
      },
      "execution_count": 24,
      "outputs": [
        {
          "output_type": "execute_result",
          "data": {
            "text/plain": [
              "[1, 2, 3, 4, 5, 6, 7]"
            ]
          },
          "metadata": {},
          "execution_count": 24
        }
      ]
    },
    {
      "cell_type": "code",
      "source": [
        "lst=[1,2,3,4,5,6,7]\n",
        "lst[0:6:2]"
      ],
      "metadata": {
        "colab": {
          "base_uri": "https://localhost:8080/"
        },
        "id": "VJHSqnOsSjkR",
        "outputId": "65702ec2-919a-4b94-d0c8-446d12fe7ee4"
      },
      "execution_count": 25,
      "outputs": [
        {
          "output_type": "execute_result",
          "data": {
            "text/plain": [
              "[1, 3, 5]"
            ]
          },
          "metadata": {},
          "execution_count": 25
        }
      ]
    }
  ]
}