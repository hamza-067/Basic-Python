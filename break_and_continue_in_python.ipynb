{
  "cells": [
    {
      "cell_type": "markdown",
      "metadata": {
        "id": "view-in-github",
        "colab_type": "text"
      },
      "source": [
        "<a href=\"https://colab.research.google.com/github/MHamza666/M-Hamza/blob/main/break_and_continue_in_python.ipynb\" target=\"_parent\"><img src=\"https://colab.research.google.com/assets/colab-badge.svg\" alt=\"Open In Colab\"/></a>"
      ]
    },
    {
      "cell_type": "markdown",
      "metadata": {
        "id": "H8TW00uTu_Mk"
      },
      "source": [
        "# breake statement"
      ]
    },
    {
      "cell_type": "code",
      "execution_count": null,
      "metadata": {
        "colab": {
          "base_uri": "https://localhost:8080/"
        },
        "id": "AFQcuj6VvI7N",
        "outputId": "762dc454-3317-44ec-ed4a-fc51870cdfbf"
      },
      "outputs": [
        {
          "name": "stdout",
          "output_type": "stream",
          "text": [
            "5 X 1 = 0\n",
            "5 X 2 = 5\n",
            "5 X 3 = 10\n",
            "5 X 4 = 15\n",
            "5 X 5 = 20\n",
            "5 X 6 = 25\n",
            "5 X 7 = 30\n",
            "5 X 8 = 35\n",
            "5 X 9 = 40\n",
            "5 X 10 = 45\n",
            "5 X 11 = 50\n",
            "5 X 12 = 55\n"
          ]
        }
      ],
      "source": [
        "# break statement enables a program to skip over part of the code.\n",
        "for i in range (12):\n",
        "  print(\"5 X\",i+1,\"=\",5*i)"
      ]
    },
    {
      "cell_type": "code",
      "execution_count": null,
      "metadata": {
        "colab": {
          "base_uri": "https://localhost:8080/"
        },
        "id": "fTOGJkOEwHul",
        "outputId": "e8ce5309-4717-48c1-fa70-1aa228757b31"
      },
      "outputs": [
        {
          "name": "stdout",
          "output_type": "stream",
          "text": [
            "5 X 1 = 5\n",
            "5 X 2 = 10\n",
            "5 X 3 = 15\n",
            "5 X 4 = 20\n",
            "5 X 5 = 25\n",
            "5 X 6 = 30\n",
            "5 X 7 = 35\n",
            "5 X 8 = 40\n",
            "5 X 9 = 45\n",
            "5 X 10 = 50\n",
            "5 X 11 = 55\n",
            "5 X 12 = 60\n"
          ]
        }
      ],
      "source": [
        "for i in range (12):\n",
        "  print(\"5 X\",i+1,\"=\",5*(i+1))"
      ]
    },
    {
      "cell_type": "code",
      "execution_count": null,
      "metadata": {
        "id": "VHiiLbzKxIUf"
      },
      "outputs": [],
      "source": [
        "# if i want to see this loop in 10"
      ]
    },
    {
      "cell_type": "code",
      "execution_count": null,
      "metadata": {
        "colab": {
          "background_save": true
        },
        "id": "q9g8iABjwzbJ",
        "outputId": "7c895df2-3cfa-4971-b85b-980a0434bcc4"
      },
      "outputs": [
        {
          "name": "stdout",
          "output_type": "stream",
          "text": [
            "5 X 1 = 5\n",
            "5 X 2 = 10\n",
            "5 X 3 = 15\n",
            "5 X 4 = 20\n",
            "5 X 5 = 25\n",
            "5 X 6 = 30\n",
            "5 X 7 = 35\n",
            "5 X 8 = 40\n",
            "5 X 9 = 45\n",
            "5 X 10 = 50\n",
            "5 X 11 = 55\n"
          ]
        }
      ],
      "source": [
        "for i in range (12):\n",
        "  print(\"5 X\",i+1,\"=\",5*(i+1))\n",
        "  if (i==10):\n",
        "    break\n",
        "print(\"hello world\")"
      ]
    },
    {
      "cell_type": "code",
      "execution_count": null,
      "metadata": {
        "colab": {
          "base_uri": "https://localhost:8080/"
        },
        "id": "UpPNNkE_4ONF",
        "outputId": "55487e1e-bc29-4763-c0e6-914b3363a1e9"
      },
      "outputs": [
        {
          "name": "stdout",
          "output_type": "stream",
          "text": [
            "5 X 1 = 5\n",
            "5 X 2 = 10\n",
            "5 X 3 = 15\n",
            "5 X 4 = 20\n",
            "5 X 5 = 25\n",
            "5 X 6 = 30\n",
            "5 X 7 = 35\n",
            "5 X 8 = 40\n",
            "5 X 9 = 45\n",
            "5 X 10 = 50\n"
          ]
        }
      ],
      "source": [
        "for i in range(12):\n",
        "  if (i==10):\n",
        "    break\n",
        "  print(\"5 X\",i+1,\"=\",5*(i+1))"
      ]
    },
    {
      "cell_type": "code",
      "execution_count": 2,
      "metadata": {
        "colab": {
          "base_uri": "https://localhost:8080/"
        },
        "id": "3lGdhxGK2Ys-",
        "outputId": "8e9a8a31-c96f-4c1d-a13f-d4985e2d310b"
      },
      "outputs": [
        {
          "output_type": "stream",
          "name": "stdout",
          "text": [
            "5X 0 = 0\n",
            "5X 1 = 5\n",
            "5X 2 = 10\n",
            "5X 3 = 15\n",
            "5X 4 = 20\n",
            "5X 5 = 25\n",
            "5X 6 = 30\n",
            "5X 7 = 35\n",
            "5X 8 = 40\n",
            "5X 9 = 45\n",
            "hello world \n",
            "5X 11 = 55\n"
          ]
        }
      ],
      "source": [
        "for i in range(12):\n",
        "  if (i==10):\n",
        "   print(\"hello world \")\n",
        "   continue\n",
        "  print(\"5X\",i,\"=\",5*i)"
      ]
    },
    {
      "cell_type": "markdown",
      "source": [
        "# Do while loop"
      ],
      "metadata": {
        "id": "BpQLdo5AhB-X"
      }
    },
    {
      "cell_type": "code",
      "source": [
        "i=1\n",
        "while True:\n",
        "  print(i)\n",
        "  i=i+1\n",
        "  if (i%10==0):\n",
        "    break\n",
        "\n"
      ],
      "metadata": {
        "colab": {
          "base_uri": "https://localhost:8080/"
        },
        "id": "IwcnPpJmhAUE",
        "outputId": "f6776ecc-e1cc-4205-f457-98ba3226ac77"
      },
      "execution_count": 4,
      "outputs": [
        {
          "output_type": "stream",
          "name": "stdout",
          "text": [
            "1\n",
            "2\n",
            "3\n",
            "4\n",
            "5\n",
            "6\n",
            "7\n",
            "8\n",
            "9\n"
          ]
        }
      ]
    },
    {
      "cell_type": "code",
      "source": [
        "while True:\n",
        "  number=int(input(\"enter the postive number: \"))\n",
        "  print(number)\n",
        "  if not number >0:\n",
        "    break\n"
      ],
      "metadata": {
        "colab": {
          "base_uri": "https://localhost:8080/"
        },
        "id": "luHPQ8GVit_1",
        "outputId": "8135e146-cd3c-4c3b-b915-b3775bbde007"
      },
      "execution_count": 5,
      "outputs": [
        {
          "output_type": "stream",
          "name": "stdout",
          "text": [
            "enter the postive number: 19\n",
            "19\n",
            "enter the postive number: 12\n",
            "12\n",
            "enter the postive number: 14\n",
            "14\n",
            "enter the postive number: 100\n",
            "100\n",
            "enter the postive number: 110\n",
            "110\n",
            "enter the postive number: -15\n",
            "-15\n"
          ]
        }
      ]
    }
  ],
  "metadata": {
    "colab": {
      "provenance": [],
      "authorship_tag": "ABX9TyMYCc0audZvyvz901kvn17N",
      "include_colab_link": true
    },
    "kernelspec": {
      "display_name": "Python 3",
      "name": "python3"
    },
    "language_info": {
      "name": "python"
    }
  },
  "nbformat": 4,
  "nbformat_minor": 0
}