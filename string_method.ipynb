{
  "nbformat": 4,
  "nbformat_minor": 0,
  "metadata": {
    "colab": {
      "provenance": [],
      "authorship_tag": "ABX9TyP1I72EMJTAawBAr7WWAix6",
      "include_colab_link": true
    },
    "kernelspec": {
      "name": "python3",
      "display_name": "Python 3"
    },
    "language_info": {
      "name": "python"
    }
  },
  "cells": [
    {
      "cell_type": "markdown",
      "metadata": {
        "id": "view-in-github",
        "colab_type": "text"
      },
      "source": [
        "<a href=\"https://colab.research.google.com/github/MHamza666/M-Hamza/blob/main/string_method.ipynb\" target=\"_parent\"><img src=\"https://colab.research.google.com/assets/colab-badge.svg\" alt=\"Open In Colab\"/></a>"
      ]
    },
    {
      "cell_type": "markdown",
      "source": [
        "# String method"
      ],
      "metadata": {
        "id": "k71U0EvkdDK_"
      }
    },
    {
      "cell_type": "code",
      "source": [
        "# string is immutable\n",
        "a=\"hamza\"\n",
        "print(len(a))"
      ],
      "metadata": {
        "id": "tbQamYVydJqq",
        "outputId": "33fd8516-c36d-4311-ca62-09cc6f1816fe",
        "colab": {
          "base_uri": "https://localhost:8080/"
        }
      },
      "execution_count": 1,
      "outputs": [
        {
          "output_type": "stream",
          "name": "stdout",
          "text": [
            "5\n"
          ]
        }
      ]
    },
    {
      "cell_type": "code",
      "source": [
        "a=\"hamza\"\n",
        "print(a)"
      ],
      "metadata": {
        "id": "2vpTTl5IdiK-",
        "outputId": "56d920aa-e57e-4a9a-ab82-74b4beaeb3ad",
        "colab": {
          "base_uri": "https://localhost:8080/"
        }
      },
      "execution_count": 2,
      "outputs": [
        {
          "output_type": "stream",
          "name": "stdout",
          "text": [
            "hamza\n"
          ]
        }
      ]
    },
    {
      "cell_type": "markdown",
      "source": [
        "# upper,lower method"
      ],
      "metadata": {
        "id": "EdswPIXvlrwT"
      }
    },
    {
      "cell_type": "code",
      "source": [
        "a=\"hamza\"\n",
        "print(a.upper())"
      ],
      "metadata": {
        "id": "YQOP0SXud8Uu",
        "outputId": "69bec39f-71ed-4d5a-ecb3-e0e6e1ba6a15",
        "colab": {
          "base_uri": "https://localhost:8080/"
        }
      },
      "execution_count": 3,
      "outputs": [
        {
          "output_type": "stream",
          "name": "stdout",
          "text": [
            "HAMZA\n"
          ]
        }
      ]
    },
    {
      "cell_type": "code",
      "source": [
        "a=\"hamza\"\n",
        "print(a.lower())"
      ],
      "metadata": {
        "id": "vbxWjY5eeDh2",
        "outputId": "56875036-3ed6-42a1-d8e7-c42b5062e258",
        "colab": {
          "base_uri": "https://localhost:8080/"
        }
      },
      "execution_count": 4,
      "outputs": [
        {
          "output_type": "stream",
          "name": "stdout",
          "text": [
            "hamza\n"
          ]
        }
      ]
    },
    {
      "cell_type": "markdown",
      "source": [
        "## rstrip"
      ],
      "metadata": {
        "id": "GkD5ULnLli4r"
      }
    },
    {
      "cell_type": "code",
      "source": [
        "a=\"hamza\"\n",
        "print(a.rstrip())"
      ],
      "metadata": {
        "id": "IDRHjxs3eQhv",
        "outputId": "2432d71f-ac30-4ec8-aded-e5280771c9c7",
        "colab": {
          "base_uri": "https://localhost:8080/"
        }
      },
      "execution_count": null,
      "outputs": [
        {
          "output_type": "stream",
          "name": "stdout",
          "text": [
            "hamza\n"
          ]
        }
      ]
    },
    {
      "cell_type": "code",
      "source": [
        "a=\"!!hamza!!!!!!!!!\"\n",
        "print(a.rstrip())\n"
      ],
      "metadata": {
        "id": "rkST_ruCeP4N",
        "outputId": "94f69f0e-f944-4ec3-9ec3-cffc525c9f9f",
        "colab": {
          "base_uri": "https://localhost:8080/"
        }
      },
      "execution_count": null,
      "outputs": [
        {
          "output_type": "stream",
          "name": "stdout",
          "text": [
            "!!hamza!!!!!!!!!\n"
          ]
        }
      ]
    },
    {
      "cell_type": "code",
      "source": [
        "a=\"!!hamza!!!!!!\"\n",
        "print(a.rstrip(\"!\"))"
      ],
      "metadata": {
        "id": "UIvToI8aerLr",
        "outputId": "249844c7-b4ba-458c-a534-dc1c7fd1df2f",
        "colab": {
          "base_uri": "https://localhost:8080/"
        }
      },
      "execution_count": null,
      "outputs": [
        {
          "output_type": "stream",
          "name": "stdout",
          "text": [
            "!!hamza\n"
          ]
        }
      ]
    },
    {
      "cell_type": "code",
      "source": [
        "a=\"!!!hamza!!!!!hamza\"\n",
        "print(a)\n",
        "print(a.rstrip())\n",
        "print(a.rstrip(\"!\"))"
      ],
      "metadata": {
        "id": "JZgJhLLAfg10",
        "outputId": "7eff4824-a0e7-4781-b381-44f92cc2aa9a",
        "colab": {
          "base_uri": "https://localhost:8080/"
        }
      },
      "execution_count": null,
      "outputs": [
        {
          "output_type": "stream",
          "name": "stdout",
          "text": [
            "!!!hamza!!!!!hamza\n",
            "!!!hamza!!!!!hamza\n",
            "!!!hamza!!!!!hamza\n"
          ]
        }
      ]
    },
    {
      "cell_type": "markdown",
      "source": [
        "# Replace method"
      ],
      "metadata": {
        "id": "9RN1fe2blUy4"
      }
    },
    {
      "cell_type": "code",
      "source": [
        "a=\"!!hamza!!!\"\n",
        "print(a.replace(\"hamza\",\"ali\"))\n",
        "a=\"hamza!!!!hamza\"\n",
        "print(a.replace(\"hamza\",\"ali\"))"
      ],
      "metadata": {
        "id": "NcucYCnFgGfl",
        "outputId": "03188844-a10c-49e9-e34f-8373d09111ff",
        "colab": {
          "base_uri": "https://localhost:8080/"
        }
      },
      "execution_count": null,
      "outputs": [
        {
          "output_type": "stream",
          "name": "stdout",
          "text": [
            "!!ali!!!\n",
            "ali!!!!ali\n"
          ]
        }
      ]
    },
    {
      "cell_type": "code",
      "source": [
        "\n",
        "a=\"hamza\"\n",
        "print(a.replace(\"hamza\",\"ali\"))"
      ],
      "metadata": {
        "id": "FmiNOBihhAiy",
        "outputId": "1ebe5332-a540-4771-bdf8-c9b8a4612948",
        "colab": {
          "base_uri": "https://localhost:8080/"
        }
      },
      "execution_count": null,
      "outputs": [
        {
          "output_type": "stream",
          "name": "stdout",
          "text": [
            "ali\n"
          ]
        }
      ]
    },
    {
      "cell_type": "markdown",
      "source": [
        "## split method"
      ],
      "metadata": {
        "id": "OdV2aTOjlEK9"
      }
    },
    {
      "cell_type": "code",
      "source": [
        "a=\"!!!hamza !!!!! hamza\"\n",
        "print(a.split(\" \"))"
      ],
      "metadata": {
        "id": "E7i1fMBmg9rX",
        "outputId": "a15dd066-db4b-459f-be0a-c01750f71c59",
        "colab": {
          "base_uri": "https://localhost:8080/"
        }
      },
      "execution_count": null,
      "outputs": [
        {
          "output_type": "stream",
          "name": "stdout",
          "text": [
            "['!!!hamza', '!!!!!', 'hamza']\n"
          ]
        }
      ]
    },
    {
      "cell_type": "markdown",
      "source": [
        "# capitalize method"
      ],
      "metadata": {
        "id": "Omk2xKjik6Vs"
      }
    },
    {
      "cell_type": "code",
      "source": [
        "blogheading=\"introduction to python\"\n",
        "print(blogheading.capitalize())"
      ],
      "metadata": {
        "id": "gkkMukiWjOiC",
        "outputId": "2c214b11-5ca5-4064-db2d-d614db797d0a",
        "colab": {
          "base_uri": "https://localhost:8080/"
        }
      },
      "execution_count": null,
      "outputs": [
        {
          "output_type": "stream",
          "name": "stdout",
          "text": [
            "Introduction to python\n"
          ]
        }
      ]
    },
    {
      "cell_type": "code",
      "source": [
        "a=\"i am a good boy\"\n",
        "print(a.capitalize())"
      ],
      "metadata": {
        "id": "JZQzEkjlj0-f",
        "outputId": "b90af3aa-c33c-4518-b19e-8ad530969c47",
        "colab": {
          "base_uri": "https://localhost:8080/"
        }
      },
      "execution_count": null,
      "outputs": [
        {
          "output_type": "stream",
          "name": "stdout",
          "text": [
            "I am a good boy\n"
          ]
        }
      ]
    },
    {
      "cell_type": "markdown",
      "source": [
        "# center method"
      ],
      "metadata": {
        "id": "mUgSOBkWl2kX"
      }
    },
    {
      "cell_type": "code",
      "source": [
        "str1=\"wellcome in my office\"\n",
        "print(str1.center(50))"
      ],
      "metadata": {
        "id": "YAbA1NwUkznZ",
        "outputId": "d7d30e33-506b-47bb-f386-4d6dd3953460",
        "colab": {
          "base_uri": "https://localhost:8080/"
        }
      },
      "execution_count": null,
      "outputs": [
        {
          "output_type": "stream",
          "name": "stdout",
          "text": [
            "              wellcome in my office               \n"
          ]
        }
      ]
    },
    {
      "cell_type": "code",
      "source": [
        "str1=\"wellcome in my office\"\n",
        "print(str1.center(70))"
      ],
      "metadata": {
        "id": "qRcqiBrbmxQn",
        "outputId": "e64ead2a-f28d-4adf-deef-3d28fcb89c1c",
        "colab": {
          "base_uri": "https://localhost:8080/"
        }
      },
      "execution_count": null,
      "outputs": [
        {
          "output_type": "stream",
          "name": "stdout",
          "text": [
            "                        wellcome in my office                         \n"
          ]
        }
      ]
    },
    {
      "cell_type": "code",
      "source": [
        "str1=\"wellcome in my office\"\n",
        "print(len(str1))"
      ],
      "metadata": {
        "id": "xmMjqGT5n1jc",
        "outputId": "b69dcd00-3f82-4a8c-f79f-194c2ab5a4cf",
        "colab": {
          "base_uri": "https://localhost:8080/"
        }
      },
      "execution_count": null,
      "outputs": [
        {
          "output_type": "stream",
          "name": "stdout",
          "text": [
            "21\n"
          ]
        }
      ]
    },
    {
      "cell_type": "code",
      "source": [
        "str1=\"wellcome in my office\"\n",
        "print(len(str1.center(50)))"
      ],
      "metadata": {
        "id": "EK5ArVc6oAa1",
        "outputId": "1539fb5a-9ad5-4684-a2aa-3d8b908afa5c",
        "colab": {
          "base_uri": "https://localhost:8080/"
        }
      },
      "execution_count": null,
      "outputs": [
        {
          "output_type": "stream",
          "name": "stdout",
          "text": [
            "50\n"
          ]
        }
      ]
    },
    {
      "cell_type": "markdown",
      "source": [
        "# count"
      ],
      "metadata": {
        "id": "YEzGZUHXpJwD"
      }
    },
    {
      "cell_type": "code",
      "source": [
        "a=\"hamza,hamza,hamza,\"\n",
        "print(a.count(\"hamza\"))"
      ],
      "metadata": {
        "id": "N1M17nqGpDSp",
        "outputId": "9936ab54-9425-4564-d4f1-833d330b7bc4",
        "colab": {
          "base_uri": "https://localhost:8080/"
        }
      },
      "execution_count": null,
      "outputs": [
        {
          "output_type": "stream",
          "name": "stdout",
          "text": [
            "3\n"
          ]
        }
      ]
    },
    {
      "cell_type": "code",
      "source": [
        "a=\"hamza,ali,hamza,ali,hamza,ali\"\n",
        "print(a.count(\"hamza,ali\"))"
      ],
      "metadata": {
        "id": "l0m_wpqypUBk",
        "outputId": "b1548b91-a265-4ae8-84c9-362144083a5b",
        "colab": {
          "base_uri": "https://localhost:8080/"
        }
      },
      "execution_count": null,
      "outputs": [
        {
          "output_type": "stream",
          "name": "stdout",
          "text": [
            "3\n"
          ]
        }
      ]
    },
    {
      "cell_type": "markdown",
      "source": [
        "# Endswith()"
      ],
      "metadata": {
        "id": "X6nMOSXlrK-V"
      }
    },
    {
      "cell_type": "code",
      "source": [
        "a=(\"welcome to the console!!!\")\n",
        "print(a.endswith(\"!!!\"))"
      ],
      "metadata": {
        "id": "CyhgKyhdrJ85",
        "outputId": "d556dc7b-c574-4cac-daaf-c0c2bfc2c305",
        "colab": {
          "base_uri": "https://localhost:8080/"
        }
      },
      "execution_count": null,
      "outputs": [
        {
          "output_type": "stream",
          "name": "stdout",
          "text": [
            "True\n"
          ]
        }
      ]
    },
    {
      "cell_type": "code",
      "source": [
        "a=(\"welcome to the console!!!\")\n",
        "print(a.endswith(\"to\",4,10))"
      ],
      "metadata": {
        "id": "RX0TVfpartaT",
        "outputId": "47201273-2a0c-40b6-be8b-3461418af4e0",
        "colab": {
          "base_uri": "https://localhost:8080/"
        }
      },
      "execution_count": null,
      "outputs": [
        {
          "output_type": "stream",
          "name": "stdout",
          "text": [
            "True\n"
          ]
        }
      ]
    },
    {
      "cell_type": "code",
      "source": [
        "a=(\"welcome to the console!!!\")\n",
        "print(a.endswith(\"to,4,10\"))"
      ],
      "metadata": {
        "id": "o5o1NYVfsXol",
        "colab": {
          "base_uri": "https://localhost:8080/"
        },
        "outputId": "bafaaae0-b63b-48a8-96c8-42cc582f17ed"
      },
      "execution_count": null,
      "outputs": [
        {
          "output_type": "stream",
          "name": "stdout",
          "text": [
            "False\n"
          ]
        }
      ]
    },
    {
      "cell_type": "markdown",
      "source": [
        "# find()"
      ],
      "metadata": {
        "id": "1Mb_QWsIs57a"
      }
    },
    {
      "cell_type": "code",
      "source": [
        "str1=\"He's name is ali. He is an honest man\"\n",
        "print(str1.find(\"is\"))"
      ],
      "metadata": {
        "id": "IIE9N2TStDxm",
        "outputId": "0bb66a52-8593-43b4-c14b-370fa5daa491",
        "colab": {
          "base_uri": "https://localhost:8080/"
        }
      },
      "execution_count": null,
      "outputs": [
        {
          "output_type": "stream",
          "name": "stdout",
          "text": [
            "10\n"
          ]
        }
      ]
    },
    {
      "cell_type": "code",
      "source": [
        "a=\"he is good boy.he live Lahore\"\n",
        "print(a.find(\"live\"))"
      ],
      "metadata": {
        "id": "J6vC6WjXti1m",
        "outputId": "0ecbcb58-8938-4dfc-a889-d509155fbd34",
        "colab": {
          "base_uri": "https://localhost:8080/"
        }
      },
      "execution_count": null,
      "outputs": [
        {
          "output_type": "stream",
          "name": "stdout",
          "text": [
            "18\n"
          ]
        }
      ]
    },
    {
      "cell_type": "code",
      "source": [
        "str1=\"He's name is ali. He is an honest man\"\n",
        "print(str1.find(\"ishh\"))"
      ],
      "metadata": {
        "id": "x6p_80sfvMyJ",
        "outputId": "28e2b80a-fa7a-48be-c5a2-7533b4cd8e14",
        "colab": {
          "base_uri": "https://localhost:8080/"
        }
      },
      "execution_count": null,
      "outputs": [
        {
          "output_type": "stream",
          "name": "stdout",
          "text": [
            "-1\n"
          ]
        }
      ]
    },
    {
      "cell_type": "markdown",
      "source": [
        "# index()"
      ],
      "metadata": {
        "id": "RJHnxFaWvzHt"
      }
    },
    {
      "cell_type": "code",
      "source": [
        "str1=\"He's name is ali. ali is an honest man\"\n",
        "print(str1.index(\"ali\"))"
      ],
      "metadata": {
        "id": "VF4IaOK0v54h",
        "outputId": "d5b30b13-dea3-4834-c156-a774566ad626",
        "colab": {
          "base_uri": "https://localhost:8080/"
        }
      },
      "execution_count": null,
      "outputs": [
        {
          "output_type": "stream",
          "name": "stdout",
          "text": [
            "13\n"
          ]
        }
      ]
    },
    {
      "cell_type": "code",
      "source": [
        "str1=\"He's name is ali. ali is an honest man\"\n",
        "print(str1.index(\"is\"))"
      ],
      "metadata": {
        "id": "qOo-oqvRxvkq",
        "outputId": "3b88fcdb-39ab-49ff-c9b7-f6f55e6b0b72",
        "colab": {
          "base_uri": "https://localhost:8080/"
        }
      },
      "execution_count": null,
      "outputs": [
        {
          "output_type": "stream",
          "name": "stdout",
          "text": [
            "10\n"
          ]
        }
      ]
    },
    {
      "cell_type": "markdown",
      "source": [
        "# isalnum()"
      ],
      "metadata": {
        "id": "mOlqKnE6ydS3"
      }
    },
    {
      "cell_type": "code",
      "source": [
        "a=\"welcometotheconsole\"\n",
        "print(a.isalnum())"
      ],
      "metadata": {
        "id": "PGrrC_Tpym-J",
        "outputId": "cbc24a5d-9e39-40c1-a9bf-c0f091e17d89",
        "colab": {
          "base_uri": "https://localhost:8080/"
        }
      },
      "execution_count": null,
      "outputs": [
        {
          "output_type": "stream",
          "name": "stdout",
          "text": [
            "True\n"
          ]
        }
      ]
    },
    {
      "cell_type": "code",
      "source": [
        "str1=\"welcome to the console\"\n",
        "print(str1.isalnum())"
      ],
      "metadata": {
        "id": "lAiuJ-VUzbsw",
        "outputId": "ec04dd71-8cb9-4b5a-ae0c-3d40ab173df4",
        "colab": {
          "base_uri": "https://localhost:8080/"
        }
      },
      "execution_count": null,
      "outputs": [
        {
          "output_type": "stream",
          "name": "stdout",
          "text": [
            "False\n"
          ]
        }
      ]
    },
    {
      "cell_type": "code",
      "source": [
        "a=\"He is good boy\"\n",
        "print(a.isalnum())"
      ],
      "metadata": {
        "id": "GmEqePXe0CID",
        "outputId": "25061e34-b237-4d46-af54-13a3745309bf",
        "colab": {
          "base_uri": "https://localhost:8080/"
        }
      },
      "execution_count": null,
      "outputs": [
        {
          "output_type": "stream",
          "name": "stdout",
          "text": [
            "False\n"
          ]
        }
      ]
    },
    {
      "cell_type": "code",
      "source": [
        "a=\"Heisgoodboy\"\n",
        "print(a.isalnum())\n"
      ],
      "metadata": {
        "id": "AlV0cnhf0mNt",
        "outputId": "f7870736-a37a-4860-d92b-ec26a785986b",
        "colab": {
          "base_uri": "https://localhost:8080/"
        }
      },
      "execution_count": null,
      "outputs": [
        {
          "output_type": "stream",
          "name": "stdout",
          "text": [
            "True\n"
          ]
        }
      ]
    },
    {
      "cell_type": "markdown",
      "source": [
        "# Isalpha()"
      ],
      "metadata": {
        "id": "8ddqudfN1klk"
      }
    },
    {
      "cell_type": "code",
      "source": [
        "a=\"welcome\"\n",
        "print(a.isalpha())"
      ],
      "metadata": {
        "id": "ClgNYkpF1dfw",
        "outputId": "17427369-468d-4499-cec9-b71ea712bf17",
        "colab": {
          "base_uri": "https://localhost:8080/"
        }
      },
      "execution_count": null,
      "outputs": [
        {
          "output_type": "stream",
          "name": "stdout",
          "text": [
            "True\n"
          ]
        }
      ]
    },
    {
      "cell_type": "code",
      "source": [
        "a=\"welcome12\"\n",
        "print(a.isalpha())"
      ],
      "metadata": {
        "id": "Eithtd2s12up",
        "outputId": "957d8f12-e1d5-41ab-e346-ddede43be25e",
        "colab": {
          "base_uri": "https://localhost:8080/"
        }
      },
      "execution_count": null,
      "outputs": [
        {
          "output_type": "stream",
          "name": "stdout",
          "text": [
            "False\n"
          ]
        }
      ]
    },
    {
      "cell_type": "markdown",
      "source": [
        "# islower()"
      ],
      "metadata": {
        "id": "JIDSidtc2UQp"
      }
    },
    {
      "cell_type": "code",
      "source": [
        "a=\"hello world\"\n",
        "print(a.islower())"
      ],
      "metadata": {
        "id": "bt9f8kWy2ZeQ",
        "outputId": "641405b9-bf3a-4852-87b9-a175e1b10068",
        "colab": {
          "base_uri": "https://localhost:8080/"
        }
      },
      "execution_count": null,
      "outputs": [
        {
          "output_type": "stream",
          "name": "stdout",
          "text": [
            "True\n"
          ]
        }
      ]
    },
    {
      "cell_type": "code",
      "source": [
        "a=\"hello world 12\"\n",
        "print(a.islower())"
      ],
      "metadata": {
        "id": "IaC6LwJU2u_3",
        "outputId": "aa34125b-bf86-4ae4-9b2b-0e8c8409aa73",
        "colab": {
          "base_uri": "https://localhost:8080/"
        }
      },
      "execution_count": null,
      "outputs": [
        {
          "output_type": "stream",
          "name": "stdout",
          "text": [
            "True\n"
          ]
        }
      ]
    },
    {
      "cell_type": "code",
      "source": [
        "a=\"Hello World\"\n",
        "print(a.islower())"
      ],
      "metadata": {
        "id": "Y-7cTWUq3O22",
        "outputId": "ebf71102-c276-4977-911a-89973a68fe16",
        "colab": {
          "base_uri": "https://localhost:8080/"
        }
      },
      "execution_count": null,
      "outputs": [
        {
          "output_type": "stream",
          "name": "stdout",
          "text": [
            "False\n"
          ]
        }
      ]
    },
    {
      "cell_type": "markdown",
      "source": [
        "# Isprintable()"
      ],
      "metadata": {
        "id": "yRRD5ZGl4ImW"
      }
    },
    {
      "cell_type": "code",
      "source": [
        "a=\"We wish you a Happy birthday\"\n",
        "print(a.isprintable())"
      ],
      "metadata": {
        "id": "D_2Vamke4WLO",
        "outputId": "125487e3-572a-4aeb-86c4-8ca9258ae189",
        "colab": {
          "base_uri": "https://localhost:8080/"
        }
      },
      "execution_count": null,
      "outputs": [
        {
          "output_type": "stream",
          "name": "stdout",
          "text": [
            "True\n"
          ]
        }
      ]
    },
    {
      "cell_type": "code",
      "source": [
        "a=\"We wish you a Happy birthday/n\"\n",
        "print(a.isprintable())"
      ],
      "metadata": {
        "id": "lSDvhb7z41e5",
        "outputId": "27b1dd82-74cf-4818-b74a-a19d55335490",
        "colab": {
          "base_uri": "https://localhost:8080/"
        }
      },
      "execution_count": null,
      "outputs": [
        {
          "output_type": "stream",
          "name": "stdout",
          "text": [
            "True\n"
          ]
        }
      ]
    },
    {
      "cell_type": "code",
      "source": [
        "a=\"We wish you a Happy birthday...\"\n",
        "print(a)"
      ],
      "metadata": {
        "id": "QfkYvjOm5BXa",
        "outputId": "97f6d7ea-1cd1-4878-bdce-f01eb16d21fe",
        "colab": {
          "base_uri": "https://localhost:8080/"
        }
      },
      "execution_count": null,
      "outputs": [
        {
          "output_type": "stream",
          "name": "stdout",
          "text": [
            "We wish you a Happy birthday...\n"
          ]
        }
      ]
    },
    {
      "cell_type": "markdown",
      "source": [
        "# Isspace()"
      ],
      "metadata": {
        "id": "FGZH4Tm853s1"
      }
    },
    {
      "cell_type": "code",
      "source": [
        "a= \"    \"\n",
        "print(a.isspace())\n"
      ],
      "metadata": {
        "id": "CL5j2Gtj6DBs"
      },
      "execution_count": null,
      "outputs": []
    },
    {
      "cell_type": "code",
      "source": [
        "a=\"hi\"\n",
        "print(a.isspace())"
      ],
      "metadata": {
        "id": "sZG3RgoW6SbF"
      },
      "execution_count": null,
      "outputs": []
    },
    {
      "cell_type": "markdown",
      "source": [
        "# Istitle()"
      ],
      "metadata": {
        "id": "G5bYuIJc7huT"
      }
    },
    {
      "cell_type": "code",
      "source": [
        "a=\"World Health Organisation\"\n",
        "print(a.istitle())"
      ],
      "metadata": {
        "id": "tFyzigY78FbL",
        "outputId": "44ecde04-4618-4c55-ae62-90f601cced8f",
        "colab": {
          "base_uri": "https://localhost:8080/"
        }
      },
      "execution_count": null,
      "outputs": [
        {
          "output_type": "stream",
          "name": "stdout",
          "text": [
            "True\n"
          ]
        }
      ]
    },
    {
      "cell_type": "code",
      "source": [
        "a=\"world health organisation\"\n",
        "print(a.istitle())"
      ],
      "metadata": {
        "id": "H7Bst_Pg8gqz",
        "outputId": "cffdfe90-66f4-4baa-df54-393b9925f928",
        "colab": {
          "base_uri": "https://localhost:8080/"
        }
      },
      "execution_count": null,
      "outputs": [
        {
          "output_type": "stream",
          "name": "stdout",
          "text": [
            "False\n"
          ]
        }
      ]
    },
    {
      "cell_type": "code",
      "source": [
        "a=\"To Kill A Mocking Bird\"\n",
        "print(a.istitle())"
      ],
      "metadata": {
        "id": "mWY9sc5p8-Jm",
        "outputId": "1767bbdf-cbb9-427f-d561-d847520d93d5",
        "colab": {
          "base_uri": "https://localhost:8080/"
        }
      },
      "execution_count": null,
      "outputs": [
        {
          "output_type": "stream",
          "name": "stdout",
          "text": [
            "True\n"
          ]
        }
      ]
    },
    {
      "cell_type": "markdown",
      "source": [
        "## Isupper()"
      ],
      "metadata": {
        "id": "8V7L0Wgf9fS6"
      }
    },
    {
      "cell_type": "code",
      "source": [
        "str1=\"WORLD HEALTH ORGANIZATION\"\n",
        "print(str1.isupper())"
      ],
      "metadata": {
        "id": "aEXsZNjs9dcG",
        "outputId": "e2bfbcc9-8c6a-4504-c78e-fca455ab2a33",
        "colab": {
          "base_uri": "https://localhost:8080/"
        }
      },
      "execution_count": null,
      "outputs": [
        {
          "output_type": "stream",
          "name": "stdout",
          "text": [
            "True\n"
          ]
        }
      ]
    },
    {
      "cell_type": "code",
      "source": [
        "str1=\"World Health organization\"\n",
        "print(str1.isupper())"
      ],
      "metadata": {
        "id": "recYTYY-qQpJ",
        "outputId": "8e18c0b5-605f-450f-e64e-f0c53d68edb0",
        "colab": {
          "base_uri": "https://localhost:8080/"
        }
      },
      "execution_count": null,
      "outputs": [
        {
          "output_type": "stream",
          "name": "stdout",
          "text": [
            "False\n"
          ]
        }
      ]
    },
    {
      "cell_type": "markdown",
      "source": [
        "# Startswith"
      ],
      "metadata": {
        "id": "IIdiwHRlqtIV"
      }
    },
    {
      "cell_type": "code",
      "source": [
        "a=\"python is a interpreted language\"\n",
        "print(a.startswith(\"python\"))"
      ],
      "metadata": {
        "id": "00mk2Iw3qzGj",
        "outputId": "528e5400-43dd-4c19-fcf4-bc1e3b994703",
        "colab": {
          "base_uri": "https://localhost:8080/"
        }
      },
      "execution_count": null,
      "outputs": [
        {
          "output_type": "stream",
          "name": "stdout",
          "text": [
            "True\n"
          ]
        }
      ]
    },
    {
      "cell_type": "markdown",
      "source": [
        "# swapcase"
      ],
      "metadata": {
        "id": "iPW1KT8crS21"
      }
    },
    {
      "cell_type": "code",
      "source": [
        "a=\"python is a interpreted language\"\n",
        "print(a.swapcase())"
      ],
      "metadata": {
        "id": "BbeM8DB8rfUI",
        "outputId": "75c16edd-b65d-4a69-95c4-836e81487066",
        "colab": {
          "base_uri": "https://localhost:8080/"
        }
      },
      "execution_count": null,
      "outputs": [
        {
          "output_type": "stream",
          "name": "stdout",
          "text": [
            "PYTHON IS A INTERPRETED LANGUAGE\n"
          ]
        }
      ]
    },
    {
      "cell_type": "markdown",
      "source": [
        "# title()"
      ],
      "metadata": {
        "id": "MFIlbof0sMWD"
      }
    },
    {
      "cell_type": "code",
      "source": [
        "str1=\"He's name is Ali.Ali is an honest man\"\n",
        "print(str1.title())"
      ],
      "metadata": {
        "id": "7FLRBxgdsUSS",
        "outputId": "b34d46cc-afd9-4144-cfe0-fbd86e751bba",
        "colab": {
          "base_uri": "https://localhost:8080/"
        }
      },
      "execution_count": null,
      "outputs": [
        {
          "output_type": "stream",
          "name": "stdout",
          "text": [
            "He'S Name Is Ali.Ali Is An Honest Man\n"
          ]
        }
      ]
    }
  ]
}