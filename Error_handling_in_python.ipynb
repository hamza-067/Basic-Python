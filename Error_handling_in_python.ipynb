{
  "cells": [
    {
      "cell_type": "markdown",
      "metadata": {
        "id": "view-in-github",
        "colab_type": "text"
      },
      "source": [
        "<a href=\"https://colab.research.google.com/github/MHamza666/M-Hamza/blob/main/Error_handling_in_python.ipynb\" target=\"_parent\"><img src=\"https://colab.research.google.com/assets/colab-badge.svg\" alt=\"Open In Colab\"/></a>"
      ]
    },
    {
      "cell_type": "markdown",
      "source": [
        "# Try Except code"
      ],
      "metadata": {
        "id": "m5QXR6yzobyx"
      }
    },
    {
      "cell_type": "code",
      "source": [
        "# if\n",
        "a=input(\"Enter the number: \")\n",
        "print(f\"multiplication table of {a} is : \")\n",
        "\n",
        "for i in range(1,12):\n",
        "  print(f\"{a} X {i} = {a*i}\")"
      ],
      "metadata": {
        "colab": {
          "base_uri": "https://localhost:8080/"
        },
        "id": "9c2nVbrmqrte",
        "outputId": "6b0b0fce-6bf1-4a19-b0e0-4c41c9f61c33"
      },
      "execution_count": 8,
      "outputs": [
        {
          "output_type": "stream",
          "name": "stdout",
          "text": [
            "Enter the number: 8\n",
            "multiplication table of 8 is : \n",
            "8 X 1 = 8\n",
            "8 X 2 = 88\n",
            "8 X 3 = 888\n",
            "8 X 4 = 8888\n",
            "8 X 5 = 88888\n",
            "8 X 6 = 888888\n",
            "8 X 7 = 8888888\n",
            "8 X 8 = 88888888\n",
            "8 X 9 = 888888888\n",
            "8 X 10 = 8888888888\n",
            "8 X 11 = 88888888888\n"
          ]
        }
      ]
    },
    {
      "cell_type": "code",
      "source": [
        "# or\n",
        "a=input(\"Enter the number: \")\n",
        "print(f\"multiplication table of {a} is : \")\n",
        "\n",
        "for i in range(1,12):\n",
        "  print(f\"{int(a)} X {i} = {int(a)*i}\")"
      ],
      "metadata": {
        "colab": {
          "base_uri": "https://localhost:8080/"
        },
        "id": "AZbcFD-rs3PX",
        "outputId": "551ecd8f-7c6d-4ff0-a8ab-4be9f36a153c"
      },
      "execution_count": 9,
      "outputs": [
        {
          "output_type": "stream",
          "name": "stdout",
          "text": [
            "Enter the number: 7\n",
            "multiplication table of 7 is : \n",
            "7 X 1 = 7\n",
            "7 X 2 = 14\n",
            "7 X 3 = 21\n",
            "7 X 4 = 28\n",
            "7 X 5 = 35\n",
            "7 X 6 = 42\n",
            "7 X 7 = 49\n",
            "7 X 8 = 56\n",
            "7 X 9 = 63\n",
            "7 X 10 = 70\n",
            "7 X 11 = 77\n"
          ]
        }
      ]
    },
    {
      "cell_type": "code",
      "source": [
        "a=input(\"Enter the number: \")\n",
        "print(f\"multiplication table of {a} is : \")\n",
        "\n",
        "for i in range(1,12):\n",
        "  print(f\"{int(a)} X {i} = {int(a)*i}\")\n",
        "\n",
        "  print(f\"some lines of code\")\n",
        "  print(f\" End of program\")\n",
        "\n",
        "\n",
        "  # if i put alphabet place of number , then progem give error."
      ],
      "metadata": {
        "colab": {
          "base_uri": "https://localhost:8080/",
          "height": 269
        },
        "id": "oYihnXjJuovm",
        "outputId": "cf938b7c-8aa4-4f6e-c397-a5684a24afae"
      },
      "execution_count": 12,
      "outputs": [
        {
          "output_type": "stream",
          "name": "stdout",
          "text": [
            "Enter the number: hamza\n",
            "multiplication table of hamza is : \n"
          ]
        },
        {
          "output_type": "error",
          "ename": "ValueError",
          "evalue": "ignored",
          "traceback": [
            "\u001b[0;31m---------------------------------------------------------------------------\u001b[0m",
            "\u001b[0;31mValueError\u001b[0m                                Traceback (most recent call last)",
            "\u001b[0;32m<ipython-input-12-482cc2eede60>\u001b[0m in \u001b[0;36m<cell line: 4>\u001b[0;34m()\u001b[0m\n\u001b[1;32m      3\u001b[0m \u001b[0;34m\u001b[0m\u001b[0m\n\u001b[1;32m      4\u001b[0m \u001b[0;32mfor\u001b[0m \u001b[0mi\u001b[0m \u001b[0;32min\u001b[0m \u001b[0mrange\u001b[0m\u001b[0;34m(\u001b[0m\u001b[0;36m1\u001b[0m\u001b[0;34m,\u001b[0m\u001b[0;36m12\u001b[0m\u001b[0;34m)\u001b[0m\u001b[0;34m:\u001b[0m\u001b[0;34m\u001b[0m\u001b[0;34m\u001b[0m\u001b[0m\n\u001b[0;32m----> 5\u001b[0;31m   \u001b[0mprint\u001b[0m\u001b[0;34m(\u001b[0m\u001b[0;34mf\"{int(a)} X {i} = {int(a)*i}\"\u001b[0m\u001b[0;34m)\u001b[0m\u001b[0;34m\u001b[0m\u001b[0;34m\u001b[0m\u001b[0m\n\u001b[0m\u001b[1;32m      6\u001b[0m \u001b[0;34m\u001b[0m\u001b[0m\n\u001b[1;32m      7\u001b[0m   \u001b[0mprint\u001b[0m\u001b[0;34m(\u001b[0m\u001b[0;34mf\"some line of code\"\u001b[0m\u001b[0;34m)\u001b[0m\u001b[0;34m\u001b[0m\u001b[0;34m\u001b[0m\u001b[0m\n",
            "\u001b[0;31mValueError\u001b[0m: invalid literal for int() with base 10: 'hamza'"
          ]
        }
      ]
    },
    {
      "cell_type": "code",
      "source": [
        "# i want my code are continue and not give error so i can use (try) and (except)\n",
        "# let get start\n",
        "a=input(\"Enter the number: \")\n",
        "print(f\"multiplication table of {a} is : \")\n",
        "try:\n",
        " for i in range(1,12):\n",
        "  print(f\"{int(a)} X {i} = {int(a)*i}\")\n",
        "except:\n",
        "  print(f\"some lines of code\")\n",
        "  print(f\" End of program\")\n"
      ],
      "metadata": {
        "colab": {
          "base_uri": "https://localhost:8080/"
        },
        "id": "D29TAXDEwmcl",
        "outputId": "c7787a98-c2af-4615-e2b6-fcfa378f18b0"
      },
      "execution_count": 13,
      "outputs": [
        {
          "output_type": "stream",
          "name": "stdout",
          "text": [
            "Enter the number: hamza\n",
            "multiplication table of hamza is : \n",
            "some lines of code\n",
            " End of program\n"
          ]
        }
      ]
    },
    {
      "cell_type": "code",
      "source": [
        "#2nd Example\n",
        "try:\n",
        "  num=int(input(\"Enter an integer:\"))\n",
        "except:\n",
        "  print(\"number entered is not an enteger.\")"
      ],
      "metadata": {
        "colab": {
          "base_uri": "https://localhost:8080/"
        },
        "id": "2NvH5vO9zSdJ",
        "outputId": "76f72237-b721-4049-f6ea-a6ff91807e5c"
      },
      "execution_count": 17,
      "outputs": [
        {
          "output_type": "stream",
          "name": "stdout",
          "text": [
            "Enter an integer:asd\n",
            "number entered is not an enteger.\n"
          ]
        }
      ]
    },
    {
      "cell_type": "code",
      "source": [
        "#3rd example\n",
        "try:\n",
        "  num=int(input(\"Enter an integer:\"))\n",
        "  a=[6,3]\n",
        "  print(a[num])\n",
        "except ValueError:\n",
        "  print(\"number entered is not an enteger.\")\n",
        "except IndexError:\n",
        "  print(\"index error\")\n"
      ],
      "metadata": {
        "colab": {
          "base_uri": "https://localhost:8080/"
        },
        "id": "QStBPlIC1jg-",
        "outputId": "4ef23b4c-99de-4057-cb8e-a35b5693c95e"
      },
      "execution_count": 19,
      "outputs": [
        {
          "output_type": "stream",
          "name": "stdout",
          "text": [
            "Enter an integer:0\n",
            "6\n"
          ]
        }
      ]
    },
    {
      "cell_type": "code",
      "source": [
        "try:\n",
        "  num=int(input(\"Enter an integer:\"))\n",
        "  a=[6,3]\n",
        "  print(a[num])\n",
        "except ValueError:\n",
        "  print(\"number entered is not an enteger.\")\n",
        "except IndexError:\n",
        "  print(\"index error\")\n"
      ],
      "metadata": {
        "colab": {
          "base_uri": "https://localhost:8080/"
        },
        "id": "W0J3QX9X27wm",
        "outputId": "576a3619-8f48-487a-b7cc-fb77b548c2ce"
      },
      "execution_count": 20,
      "outputs": [
        {
          "output_type": "stream",
          "name": "stdout",
          "text": [
            "Enter an integer:assfddsa\n",
            "number entered is not an enteger.\n"
          ]
        }
      ]
    },
    {
      "cell_type": "code",
      "source": [
        "try:\n",
        "  num=int(input(\"Enter an integer:\"))\n",
        "  a=[6,3]\n",
        "  print(a[num])\n",
        "except ValueError:\n",
        "  print(\"number entered is not an enteger.\")\n",
        "except IndexError:\n",
        "  print(\"index error\")\n"
      ],
      "metadata": {
        "colab": {
          "base_uri": "https://localhost:8080/"
        },
        "id": "jER0H4fw3CEB",
        "outputId": "55a18c79-5fb8-4218-f85b-e57dad6cc7d6"
      },
      "execution_count": 21,
      "outputs": [
        {
          "output_type": "stream",
          "name": "stdout",
          "text": [
            "Enter an integer:4\n",
            "index error\n"
          ]
        }
      ]
    },
    {
      "cell_type": "markdown",
      "source": [
        "# finally keyword"
      ],
      "metadata": {
        "id": "MJHF1bnU6aqz"
      }
    },
    {
      "cell_type": "code",
      "source": [
        "try:\n",
        "  l=[1,3,4,5]\n",
        "  i=int(input(\"Enter the index:\"))\n",
        "  print(l[i])\n",
        "except:\n",
        "    print(\"some error occured\")\n",
        "\n",
        "finally:\n",
        "  print(\"i am always executed\")"
      ],
      "metadata": {
        "colab": {
          "base_uri": "https://localhost:8080/"
        },
        "id": "xISVCTAvplnD",
        "outputId": "366169ae-fb70-4f0f-8faf-5bfa6470b09b"
      },
      "execution_count": 4,
      "outputs": [
        {
          "output_type": "stream",
          "name": "stdout",
          "text": [
            "Enter the index:5\n",
            "some error occured\n",
            "i am always executed\n"
          ]
        }
      ]
    },
    {
      "cell_type": "code",
      "source": [
        "try:\n",
        "  l=[1,2,3,4]\n",
        "  i=int(input(\"Enter the index:\"))\n",
        "  print(l[i])\n",
        "except:\n",
        "    print(\"some error occured\")\n",
        "\n",
        "finally:\n",
        "  print(\"i am always executed\")"
      ],
      "metadata": {
        "colab": {
          "base_uri": "https://localhost:8080/"
        },
        "id": "gqxyisiZqsi8",
        "outputId": "89046f7a-1250-4acf-a2cf-c942a4f5b528"
      },
      "execution_count": 5,
      "outputs": [
        {
          "output_type": "stream",
          "name": "stdout",
          "text": [
            "Enter the index:0\n",
            "1\n",
            "i am always executed\n"
          ]
        }
      ]
    },
    {
      "cell_type": "code",
      "source": [
        "def func1():\n",
        " try:\n",
        "   l=[1,2,3,4]\n",
        "   i=int(input(\"Enter the index:\"))\n",
        "   print(l[i])\n",
        "   return 1\n",
        " except:\n",
        "   print(\"some error occured\")\n",
        "   return 0\n",
        " finally:\n",
        "   print(\"i am always executed\")\n",
        "\n",
        "x=func1()\n",
        "print(x)"
      ],
      "metadata": {
        "colab": {
          "base_uri": "https://localhost:8080/"
        },
        "id": "emKJSYazsEWf",
        "outputId": "a21b0187-7249-422c-8ba5-79d9a3348238"
      },
      "execution_count": 11,
      "outputs": [
        {
          "output_type": "stream",
          "name": "stdout",
          "text": [
            "Enter the index:1\n",
            "2\n",
            "i am always executed\n",
            "1\n"
          ]
        }
      ]
    },
    {
      "cell_type": "code",
      "source": [
        "def func1():\n",
        " try:\n",
        "   l=[1,2,3,4]\n",
        "   i=int(input(\"Enter the index:\"))\n",
        "   print(l[i])\n",
        "   return 1\n",
        " except:\n",
        "   print(\"some error occured\")\n",
        "   return 0\n",
        " finally:\n",
        "   print(\"i am always executed\")\n",
        "\n",
        "x=func1()\n",
        "print(x)"
      ],
      "metadata": {
        "colab": {
          "base_uri": "https://localhost:8080/"
        },
        "id": "Fm2Un_OItkyt",
        "outputId": "123c6c89-8fec-47ba-9a52-02ebb63e77c1"
      },
      "execution_count": 12,
      "outputs": [
        {
          "output_type": "stream",
          "name": "stdout",
          "text": [
            "Enter the index:0\n",
            "1\n",
            "i am always executed\n",
            "1\n"
          ]
        }
      ]
    },
    {
      "cell_type": "code",
      "source": [
        "def func1():\n",
        " try:\n",
        "   l=[1,2,3,4]\n",
        "   i=int(input(\"Enter the index:\"))\n",
        "   print(l[i])\n",
        "   return 1\n",
        " except:\n",
        "   print(\"some error occured\")\n",
        "   return 0\n",
        " #finally:\n",
        "   print(\"i am always executed\")\n",
        "\n",
        "x=func1()\n",
        "print(x)"
      ],
      "metadata": {
        "colab": {
          "base_uri": "https://localhost:8080/"
        },
        "id": "By4EGfVLtpMP",
        "outputId": "728276f5-2e6f-4694-9d1e-fb0010c32705"
      },
      "execution_count": 14,
      "outputs": [
        {
          "output_type": "stream",
          "name": "stdout",
          "text": [
            "Enter the index:dd\n",
            "some error occured\n",
            "0\n"
          ]
        }
      ]
    }
  ],
  "metadata": {
    "colab": {
      "provenance": [],
      "authorship_tag": "ABX9TyMYC9NuuMscORB5Nip/PNoy",
      "include_colab_link": true
    },
    "kernelspec": {
      "display_name": "Python 3",
      "name": "python3"
    },
    "language_info": {
      "name": "python"
    }
  },
  "nbformat": 4,
  "nbformat_minor": 0
}