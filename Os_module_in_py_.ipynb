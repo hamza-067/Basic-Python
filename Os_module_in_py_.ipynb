{
  "cells": [
    {
      "cell_type": "markdown",
      "metadata": {
        "id": "view-in-github",
        "colab_type": "text"
      },
      "source": [
        "<a href=\"https://colab.research.google.com/github/MHamza666/M-Hamza/blob/main/Os_module_in_py_.ipynb\" target=\"_parent\"><img src=\"https://colab.research.google.com/assets/colab-badge.svg\" alt=\"Open In Colab\"/></a>"
      ]
    },
    {
      "cell_type": "markdown",
      "source": [
        "# os module in python\n",
        "The os module in Python is a built-in library that provides functions for interacting with the operating system. It allows you to perform a wide variety of tasks, such as reading and writing files, interacting with the file system, and running system commands.\n",
        "\n",
        "Here are some common tasks you can perform with the os module:\n",
        "\n",
        "Reading and writing files The os module provides functions for opening, reading, and writing files. For example, to open a file for reading, you can use the open function"
      ],
      "metadata": {
        "id": "ph7l3PAlmP3n"
      }
    },
    {
      "cell_type": "code",
      "source": [
        "import os\n",
        "\n",
        "# Open the file in read-only mode\n",
        "f = os.open(\"myfile.txt\", os.O_RDONLY)\n",
        "\n",
        "# Read the contents of the file\n",
        "contents = os.read(f, 1024)\n",
        "\n",
        "# Close the file\n",
        "os.close(f)\n",
        "#To open a file for writing, you can use the os.O_WRONLY flag:"
      ],
      "metadata": {
        "id": "_QQnUYK4mr3V"
      },
      "execution_count": null,
      "outputs": []
    },
    {
      "cell_type": "markdown",
      "source": [
        "# Interacting with the file system\n",
        "The os module also provides functions for interacting with the file system. For example, you can use the os.listdir function to get a list of the files in a directory"
      ],
      "metadata": {
        "id": "eqMLnolBm-sX"
      }
    },
    {
      "cell_type": "code",
      "source": [
        "import os\n",
        "# Get a list of the files in the current directory\n",
        "files = os.listdir(\".\")\n",
        "print(files)  # Output: ['myfile.txt', 'otherfile.txt']\n",
        "\n",
        "\n",
        "#You can also use the os.mkdir function to create a new directory:"
      ],
      "metadata": {
        "id": "UZtDUDnGnFb_"
      },
      "execution_count": null,
      "outputs": []
    },
    {
      "cell_type": "code",
      "source": [
        "import os\n",
        "\n",
        "# Create a new directory\n",
        "os.mkdir(\"newdir\")"
      ],
      "metadata": {
        "id": "-xt5lDSvm349"
      },
      "execution_count": 2,
      "outputs": []
    },
    {
      "cell_type": "markdown",
      "source": [
        "# Running system commands\n",
        "Finally, the os module provides functions for running system commands. For example, you can use the os.system function to run a command and get the output"
      ],
      "metadata": {
        "id": "vh28YmdznaW9"
      }
    },
    {
      "cell_type": "code",
      "source": [
        "import os\n",
        "\n",
        "# Run the \"ls\" command and print the output\n",
        "output = os.system(\"ls\")\n",
        "print(output)  # Output: ['myfile.txt', 'otherfile.txt']\n",
        "\n",
        "\n",
        "#You can also use the os.popen function to run a command and get the output as a file-like object"
      ],
      "metadata": {
        "id": "z0xFKvYBnmNC"
      },
      "execution_count": null,
      "outputs": []
    },
    {
      "cell_type": "code",
      "source": [
        "import os\n",
        "\n",
        "# Run the \"ls\" command and get the output as a file-like object\n",
        "f = os.popen(\"ls\")\n",
        "\n",
        "# Read the contents of the output\n",
        "output = f.read()\n",
        "print(output)  # Output: ['myfile.txt', 'otherfile.txt']\n",
        "\n",
        "# Close the file-like object\n",
        "f.close()"
      ],
      "metadata": {
        "id": "8LqHM4W1nwbm"
      },
      "execution_count": null,
      "outputs": []
    },
    {
      "cell_type": "markdown",
      "source": [
        "In summary, the os module in Python is a built-in library that provides a wide variety of functions for interacting with the operating system. It allows you to perform tasks such as reading and writing files, interacting with the file system, and running system commands"
      ],
      "metadata": {
        "id": "-We5JVQin59H"
      }
    }
  ],
  "metadata": {
    "colab": {
      "provenance": [],
      "authorship_tag": "ABX9TyPgOK9DxzEK+W4/UUWe7/Or",
      "include_colab_link": true
    },
    "kernelspec": {
      "display_name": "Python 3",
      "name": "python3"
    },
    "language_info": {
      "name": "python"
    }
  },
  "nbformat": 4,
  "nbformat_minor": 0
}