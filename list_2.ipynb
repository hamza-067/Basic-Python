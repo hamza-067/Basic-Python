{
  "nbformat": 4,
  "nbformat_minor": 0,
  "metadata": {
    "colab": {
      "provenance": [],
      "authorship_tag": "ABX9TyNv+z86kvZOXZDvM4HMewSZ",
      "include_colab_link": true
    },
    "kernelspec": {
      "name": "python3",
      "display_name": "Python 3"
    },
    "language_info": {
      "name": "python"
    }
  },
  "cells": [
    {
      "cell_type": "markdown",
      "metadata": {
        "id": "view-in-github",
        "colab_type": "text"
      },
      "source": [
        "<a href=\"https://colab.research.google.com/github/MHamza666/M-Hamza/blob/main/list_2.ipynb\" target=\"_parent\"><img src=\"https://colab.research.google.com/assets/colab-badge.svg\" alt=\"Open In Colab\"/></a>"
      ]
    },
    {
      "cell_type": "markdown",
      "source": [
        "# list Apend"
      ],
      "metadata": {
        "id": "cqh6SUraTtil"
      }
    },
    {
      "cell_type": "code",
      "source": [
        "lst=[1,2,3,4,5,6]\n",
        "lst.append(7) #append will add the item at the end\n",
        "print(lst)"
      ],
      "metadata": {
        "colab": {
          "base_uri": "https://localhost:8080/"
        },
        "id": "6QGOEBE4Tzgs",
        "outputId": "d6659eae-91b7-4a65-942f-1ebbcc30260a"
      },
      "execution_count": 28,
      "outputs": [
        {
          "output_type": "stream",
          "name": "stdout",
          "text": [
            "[1, 2, 3, 4, 5, 6, 7]\n"
          ]
        }
      ]
    },
    {
      "cell_type": "markdown",
      "source": [
        "# insert list"
      ],
      "metadata": {
        "id": "ganSUUtjUwBz"
      }
    },
    {
      "cell_type": "code",
      "source": [
        "lst=[1,2,4,5,]\n",
        "lst.insert(2,3)# will add element y at location x\n",
        "print(lst)"
      ],
      "metadata": {
        "colab": {
          "base_uri": "https://localhost:8080/"
        },
        "id": "d3GSfPALU03I",
        "outputId": "8decae5a-e0a7-4b5b-d1a1-09ca1d317401"
      },
      "execution_count": 29,
      "outputs": [
        {
          "output_type": "stream",
          "name": "stdout",
          "text": [
            "[1, 2, 3, 4, 5]\n"
          ]
        }
      ]
    },
    {
      "cell_type": "markdown",
      "source": [
        "# remove list"
      ],
      "metadata": {
        "id": "Ly5BmLmkVmfL"
      }
    },
    {
      "cell_type": "code",
      "source": [
        "lst=[1,2,3,4,5,6,7]\n",
        "lst.remove(2)\n",
        "print(lst)"
      ],
      "metadata": {
        "colab": {
          "base_uri": "https://localhost:8080/"
        },
        "id": "3o4bFNolVXS3",
        "outputId": "baac9c37-5aff-4320-f71e-7fa97b81f8a6"
      },
      "execution_count": 30,
      "outputs": [
        {
          "output_type": "stream",
          "name": "stdout",
          "text": [
            "[1, 3, 4, 5, 6, 7]\n"
          ]
        }
      ]
    },
    {
      "cell_type": "markdown",
      "source": [
        "# list extend"
      ],
      "metadata": {
        "id": "Vf6uyyszZCuC"
      }
    },
    {
      "cell_type": "code",
      "source": [
        "lst1=[1,2,3,4]\n",
        "lst2=[5,6,7]\n",
        "lst.extend(lst2)\n",
        "print(lst)\n",
        "# result [1,2,3,4,5,6,7]"
      ],
      "metadata": {
        "id": "8yjV9Ak0ZIXP"
      },
      "execution_count": null,
      "outputs": []
    },
    {
      "cell_type": "markdown",
      "source": [
        "# delete list"
      ],
      "metadata": {
        "id": "ythfOZxraZzg"
      }
    },
    {
      "cell_type": "code",
      "source": [
        "lst=['one','two','three','four']\n",
        "del lst[1]\n",
        "print(lst)"
      ],
      "metadata": {
        "colab": {
          "base_uri": "https://localhost:8080/"
        },
        "id": "Tu9YTRUzaeGD",
        "outputId": "f651c2bd-a1d7-40b5-fa3d-bd7a2cd23e98"
      },
      "execution_count": 43,
      "outputs": [
        {
          "output_type": "stream",
          "name": "stdout",
          "text": [
            "['one', 'three', 'four']\n"
          ]
        }
      ]
    },
    {
      "cell_type": "code",
      "source": [
        "lst=['one','two','three','four']\n",
        "lst.pop(1)\n",
        "print(lst)"
      ],
      "metadata": {
        "colab": {
          "base_uri": "https://localhost:8080/"
        },
        "id": "79exK1PpbM3K",
        "outputId": "ce3c7303-84b4-47f5-af60-294a9e6970de"
      },
      "execution_count": 44,
      "outputs": [
        {
          "output_type": "stream",
          "name": "stdout",
          "text": [
            "['one', 'three', 'four']\n"
          ]
        }
      ]
    },
    {
      "cell_type": "code",
      "source": [
        "lst=['one','two','three','four']\n",
        "del lst[1]\n",
        "print(lst)\n",
        "a=lst.pop(1)\n",
        "print(lst)"
      ],
      "metadata": {
        "colab": {
          "base_uri": "https://localhost:8080/"
        },
        "id": "gS06FwxMbqZA",
        "outputId": "ca0ff1d6-d451-46f1-ff8d-21b6b6e899c0"
      },
      "execution_count": 45,
      "outputs": [
        {
          "output_type": "stream",
          "name": "stdout",
          "text": [
            "['one', 'three', 'four']\n",
            "['one', 'four']\n"
          ]
        }
      ]
    },
    {
      "cell_type": "code",
      "source": [
        "lst=[1,2,3,4,5,6]\n",
        "if 2 in lst:\n",
        "  print('ai')\n",
        "if 7 not in lst:\n",
        "  print('mi')"
      ],
      "metadata": {
        "colab": {
          "base_uri": "https://localhost:8080/"
        },
        "id": "jmFpVmZgcxVC",
        "outputId": "459aa1e1-e9ab-4b75-a798-e6de043f9afa"
      },
      "execution_count": 47,
      "outputs": [
        {
          "output_type": "stream",
          "name": "stdout",
          "text": [
            "ai\n",
            "mi\n"
          ]
        }
      ]
    },
    {
      "cell_type": "markdown",
      "source": [
        "## list reverse"
      ],
      "metadata": {
        "id": "rt6xhQLhdqyA"
      }
    },
    {
      "cell_type": "code",
      "source": [
        "lst=[1,2,3,4,5,6,7]\n",
        "lst.reverse()\n",
        "print(lst)\n"
      ],
      "metadata": {
        "colab": {
          "base_uri": "https://localhost:8080/"
        },
        "id": "2M8lma2zdwOH",
        "outputId": "acf1b9e3-11c9-4a75-bbba-de7906d755c0"
      },
      "execution_count": 48,
      "outputs": [
        {
          "output_type": "stream",
          "name": "stdout",
          "text": [
            "[7, 6, 5, 4, 3, 2, 1]\n"
          ]
        }
      ]
    },
    {
      "cell_type": "markdown",
      "source": [
        "# list sorting"
      ],
      "metadata": {
        "id": "FF7S3Cj4ekol"
      }
    },
    {
      "cell_type": "code",
      "source": [
        "#create A list with number\n",
        "numbers=[3,1,6,2,8]\n",
        "sorted_lst=sorted(numbers)\n",
        "print(\"sorted list:\",sorted_lst)\n"
      ],
      "metadata": {
        "colab": {
          "base_uri": "https://localhost:8080/"
        },
        "id": "L83eqpLyescN",
        "outputId": "32d1a735-ea8d-43e1-d50b-b04837753b64"
      },
      "execution_count": 49,
      "outputs": [
        {
          "output_type": "stream",
          "name": "stdout",
          "text": [
            "sorted list: [1, 2, 3, 6, 8]\n"
          ]
        }
      ]
    },
    {
      "cell_type": "code",
      "source": [
        "numbers=[3,1,6,2,8]\n",
        "sorted_lst=sorted(numbers)\n",
        "print(\"sorted list:\",sorted_lst)\n",
        "print(\"original list:\",numbers)"
      ],
      "metadata": {
        "colab": {
          "base_uri": "https://localhost:8080/"
        },
        "id": "NnBgrxAzfyz1",
        "outputId": "f06d46e1-b6d8-4138-b766-72cac0702cb9"
      },
      "execution_count": 50,
      "outputs": [
        {
          "output_type": "stream",
          "name": "stdout",
          "text": [
            "sorted list: [1, 2, 3, 6, 8]\n",
            "original list: [3, 1, 6, 2, 8]\n"
          ]
        }
      ]
    }
  ]
}