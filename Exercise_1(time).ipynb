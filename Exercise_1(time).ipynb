{
  "cells": [
    {
      "cell_type": "markdown",
      "metadata": {
        "id": "view-in-github",
        "colab_type": "text"
      },
      "source": [
        "<a href=\"https://colab.research.google.com/github/MHamza666/M-Hamza/blob/main/Exercise_1(time).ipynb\" target=\"_parent\"><img src=\"https://colab.research.google.com/assets/colab-badge.svg\" alt=\"Open In Colab\"/></a>"
      ]
    },
    {
      "cell_type": "markdown",
      "source": [
        "# about time"
      ],
      "metadata": {
        "id": "Q_t7TpwyMcip"
      }
    },
    {
      "cell_type": "code",
      "source": [
        "import time\n",
        "t=time.strftime('%H:%M:%S')\n",
        "print(t)\n"
      ],
      "metadata": {
        "colab": {
          "base_uri": "https://localhost:8080/"
        },
        "id": "26MoH_wiMhnG",
        "outputId": "dd7823b1-8fd9-45f3-8adb-dd83743ca6d8"
      },
      "execution_count": 3,
      "outputs": [
        {
          "output_type": "stream",
          "name": "stdout",
          "text": [
            "20:32:56\n"
          ]
        }
      ]
    },
    {
      "cell_type": "code",
      "source": [
        "import time\n",
        "t=time.strftime('%H:%M:%S')\n",
        "print(t)\n",
        "t=time.strftime('%H')\n",
        "print(t)\n",
        "t=time.strftime('%M')\n",
        "print(t)\n",
        "t=time.strftime('%S')\n",
        "print(t)\n",
        "\n"
      ],
      "metadata": {
        "colab": {
          "base_uri": "https://localhost:8080/"
        },
        "id": "Rv4o4XoqNVBw",
        "outputId": "abda9310-0eed-4300-d51f-0d9280842787"
      },
      "execution_count": 5,
      "outputs": [
        {
          "output_type": "stream",
          "name": "stdout",
          "text": [
            "20:38:38\n",
            "20\n",
            "38\n",
            "38\n"
          ]
        }
      ]
    },
    {
      "cell_type": "code",
      "source": [
        "t=int(time.strftime('%H')) # hour\n",
        "print(t)"
      ],
      "metadata": {
        "colab": {
          "base_uri": "https://localhost:8080/"
        },
        "id": "pXK6gEHUO85u",
        "outputId": "6ab7fbd8-3cf8-4113-bcf8-79b2040d34df"
      },
      "execution_count": 6,
      "outputs": [
        {
          "output_type": "stream",
          "name": "stdout",
          "text": [
            "20\n"
          ]
        }
      ]
    },
    {
      "cell_type": "code",
      "source": [
        "t=int(time.strftime('%M')) # mints\n",
        "print(t)"
      ],
      "metadata": {
        "colab": {
          "base_uri": "https://localhost:8080/"
        },
        "id": "OJ3UeqRCPIxl",
        "outputId": "caf3ae56-31ae-4cc6-96ad-fef1372cc691"
      },
      "execution_count": 7,
      "outputs": [
        {
          "output_type": "stream",
          "name": "stdout",
          "text": [
            "41\n"
          ]
        }
      ]
    },
    {
      "cell_type": "code",
      "source": [
        "t=int(time.strftime('%S')) # seconds\n",
        "print(t)"
      ],
      "metadata": {
        "colab": {
          "base_uri": "https://localhost:8080/"
        },
        "id": "88P0EK8MPVqM",
        "outputId": "acbc2261-3877-403c-a954-919c75d6d622"
      },
      "execution_count": 8,
      "outputs": [
        {
          "output_type": "stream",
          "name": "stdout",
          "text": [
            "17\n"
          ]
        }
      ]
    },
    {
      "cell_type": "code",
      "source": [
        "import time\n",
        "t=time.strftime('%H:%M:%S')\n",
        "hour=int(time.strftime('%H'))\n",
        "print(hour)\n",
        "\n",
        "if(hour>=0 and hour<12):\n",
        "  print(\"good morning sir!\")\n",
        "elif(hour>=12 and hour<17):\n",
        "  print(\"good afternoon sir!\")\n",
        "elif(hour>=17 and hour<24):\n",
        "  print(\"good night sir!\")"
      ],
      "metadata": {
        "colab": {
          "base_uri": "https://localhost:8080/"
        },
        "id": "7kmxjMnCPpRI",
        "outputId": "4a1c4d1e-4434-4972-e7fc-e008d312cd67"
      },
      "execution_count": 12,
      "outputs": [
        {
          "output_type": "stream",
          "name": "stdout",
          "text": [
            "20\n",
            "good night sir!\n"
          ]
        }
      ]
    },
    {
      "cell_type": "code",
      "source": [
        "import time\n",
        "t=time.strftime('%H:%M:%S')\n",
        "hour=int(time.strftime('%H'))\n",
        "hour=int(input(\"Enter hour: \"))\n",
        "print(hour)\n",
        "\n",
        "if(hour>=0 and hour<12):\n",
        "  print(\"good morning sir!\")\n",
        "elif(hour>=12 and hour<17):\n",
        "  print(\"good afternoon sir!\")\n",
        "elif(hour>=17 and hour<24):\n",
        "  print(\"good night sir!\")"
      ],
      "metadata": {
        "colab": {
          "base_uri": "https://localhost:8080/"
        },
        "id": "4Ec7TlttTPYv",
        "outputId": "6e012e1b-6af5-400c-c61c-bfbc3b9d096a"
      },
      "execution_count": 13,
      "outputs": [
        {
          "output_type": "stream",
          "name": "stdout",
          "text": [
            "Enter hour: 6\n",
            "6\n",
            "good morning sir!\n"
          ]
        }
      ]
    },
    {
      "cell_type": "code",
      "source": [
        "import time\n",
        "t=time.strftime('%H:%M:%S')\n",
        "hour=int(time.strftime('%H'))\n",
        "hour=int(input(\"Enter hour: \"))\n",
        "print(hour)\n",
        "\n",
        "if(hour>=0 and hour<12):\n",
        "  print(\"good morning sir!\")\n",
        "elif(hour>=12 and hour<17):\n",
        "  print(\"good afternoon sir!\")\n",
        "elif(hour>=17 and hour<24):\n",
        "  print(\"good night sir!\")"
      ],
      "metadata": {
        "colab": {
          "base_uri": "https://localhost:8080/"
        },
        "id": "IowPQQzKTo-o",
        "outputId": "ca5c7ef9-2435-488f-a956-e1c28a34ebf8"
      },
      "execution_count": 14,
      "outputs": [
        {
          "output_type": "stream",
          "name": "stdout",
          "text": [
            "Enter hour: 14\n",
            "14\n",
            "good afternoon sir!\n"
          ]
        }
      ]
    },
    {
      "cell_type": "code",
      "source": [
        "import time\n",
        "t=time.strftime('%H:%M:%S')\n",
        "hour=int(time.strftime('%H'))\n",
        "hour=int(input(\"Enter hour: \"))\n",
        "print(hour)\n",
        "\n",
        "if(hour>=0 and hour<12):\n",
        "  print(\"good morning sir!\")\n",
        "elif(hour>=12 and hour<17):\n",
        "  print(\"good afternoon sir!\")\n",
        "elif(hour>=17 and hour<24):\n",
        "  print(\"good night sir!\")"
      ],
      "metadata": {
        "colab": {
          "base_uri": "https://localhost:8080/"
        },
        "id": "PX7B-2ohTvic",
        "outputId": "df18271d-06f3-4dc0-c3d4-e5fe38566e18"
      },
      "execution_count": 15,
      "outputs": [
        {
          "output_type": "stream",
          "name": "stdout",
          "text": [
            "Enter hour: 21\n",
            "21\n",
            "good night sir!\n"
          ]
        }
      ]
    }
  ],
  "metadata": {
    "colab": {
      "provenance": [],
      "authorship_tag": "ABX9TyPfErCfQ6eI1h6nVHvHh8Hl",
      "include_colab_link": true
    },
    "kernelspec": {
      "display_name": "Python 3",
      "name": "python3"
    },
    "language_info": {
      "name": "python"
    }
  },
  "nbformat": 4,
  "nbformat_minor": 0
}