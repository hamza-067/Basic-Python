{
  "cells": [
    {
      "cell_type": "markdown",
      "metadata": {
        "id": "view-in-github",
        "colab_type": "text"
      },
      "source": [
        "<a href=\"https://colab.research.google.com/github/MHamza666/M-Hamza/blob/main/classes_and_objects_in_py_.ipynb\" target=\"_parent\"><img src=\"https://colab.research.google.com/assets/colab-badge.svg\" alt=\"Open In Colab\"/></a>"
      ]
    },
    {
      "cell_type": "markdown",
      "source": [
        "# Python classes and objects\n",
        "A class is a blueprint or a template for creating objects, providing initial values for state (member variables or attributes), and implementations of behavior (member functions or methods). The user-defined objects are created using the class keyword"
      ],
      "metadata": {
        "id": "HRp_nw_madz_"
      }
    },
    {
      "cell_type": "code",
      "source": [
        "class Details:\n",
        "    name = \"Rohan\"\n",
        "    age = 20"
      ],
      "metadata": {
        "id": "uHCbaOzRazVN"
      },
      "execution_count": 1,
      "outputs": []
    },
    {
      "cell_type": "code",
      "source": [
        "class Person:\n",
        "  name=\"hamza\"\n",
        "  occupation=\"software developer\"\n",
        "  networth=10\n",
        "\n",
        "a=Person()\n",
        "print(a.name, a.occupation, a.networth)"
      ],
      "metadata": {
        "colab": {
          "base_uri": "https://localhost:8080/"
        },
        "id": "BEzfaB_Ua8-b",
        "outputId": "9d21b647-97f3-4c9e-843c-b687ea1f3402"
      },
      "execution_count": 7,
      "outputs": [
        {
          "output_type": "stream",
          "name": "stdout",
          "text": [
            "hamza software developer 10\n"
          ]
        }
      ]
    },
    {
      "cell_type": "code",
      "source": [
        "class Person:\n",
        "  name=\"hamza\"\n",
        "  occupation=\"software developer\"\n",
        "  networth=20\n",
        "\n",
        "a=Person()\n",
        "a.name =\"Ali\"\n",
        "a.occupation = \"Accountant\"\n",
        "print(a.name, a.occupation,a.networth)"
      ],
      "metadata": {
        "colab": {
          "base_uri": "https://localhost:8080/"
        },
        "id": "_1TKBHydcQF1",
        "outputId": "ef67e847-1812-4d29-ffb7-df645db932b0"
      },
      "execution_count": 8,
      "outputs": [
        {
          "output_type": "stream",
          "name": "stdout",
          "text": [
            "Ali Accountant 20\n"
          ]
        }
      ]
    },
    {
      "cell_type": "code",
      "source": [
        "class Person:\n",
        "  name=\"hamza\"\n",
        "  occupation=\"software developer\"\n",
        "  networth=20\n",
        "\n",
        "  def info(self):\n",
        "    print(f\"{self.name} is a {self. occupation}\")\n",
        "\n",
        "\n",
        "a=Person()\n",
        "\n",
        "a.info()\n"
      ],
      "metadata": {
        "colab": {
          "base_uri": "https://localhost:8080/"
        },
        "id": "Po84TuUBdS5c",
        "outputId": "46d708b4-e5ea-4321-fbaf-7ee2c1e25623"
      },
      "execution_count": 13,
      "outputs": [
        {
          "output_type": "stream",
          "name": "stdout",
          "text": [
            "hamza is a software developer\n"
          ]
        }
      ]
    },
    {
      "cell_type": "markdown",
      "source": [
        "# self parameter\n",
        "The self parameter is a reference to the current instance of the class, and is used to access variables that belongs to the class.\n",
        "\n",
        "It must be provided as the extra parameter inside the method definition."
      ],
      "metadata": {
        "id": "6RMaLDhSfoO0"
      }
    },
    {
      "cell_type": "code",
      "source": [
        "class Person:\n",
        "  name=\"hamza\"\n",
        "  occupation=\"software developer\"\n",
        "  networth=30\n",
        "\n",
        "  def info(self):\n",
        "    print(f\"{self.name} is a {self.occupation}\")\n",
        "\n",
        "\n",
        "a =Person()\n",
        "b =Person()\n",
        "\n",
        "\n",
        "b.name=\"ALI\"\n",
        "b.occupation=\"Accountant\"\n",
        "\n",
        "a.info()\n",
        "b.info()"
      ],
      "metadata": {
        "colab": {
          "base_uri": "https://localhost:8080/"
        },
        "id": "fTgrdMTOfnWd",
        "outputId": "68ded53b-a314-47bc-e0bc-0a4c3db013f3"
      },
      "execution_count": 16,
      "outputs": [
        {
          "output_type": "stream",
          "name": "stdout",
          "text": [
            "hamza is a software developer\n",
            "ALI is a Accountant\n"
          ]
        }
      ]
    },
    {
      "cell_type": "markdown",
      "source": [
        "# Constructors\n",
        "A constructor is a special method in a class used to create and initialize an object of a class. There are different types of constructors. Constructor is invoked automatically when an object of a class is created.\n",
        "\n",
        "A constructor is a unique function that gets called automatically when an object is created of a class. The main purpose of a constructor is to initialize or assign values to the data members of that class. It cannot return any value other than None."
      ],
      "metadata": {
        "id": "loo5l1j54t09"
      }
    },
    {
      "cell_type": "code",
      "source": [
        "class person:\n",
        "  def __init__(self):\n",
        "    print(\"hey i am good boy\")\n",
        "a=person()\n",
        "b=person()"
      ],
      "metadata": {
        "colab": {
          "base_uri": "https://localhost:8080/"
        },
        "id": "WaPov_Py4_2W",
        "outputId": "c0147030-6ca5-4b80-9456-109468bed204"
      },
      "execution_count": 6,
      "outputs": [
        {
          "output_type": "stream",
          "name": "stdout",
          "text": [
            "hey i am good boy\n",
            "hey i am good boy\n"
          ]
        }
      ]
    },
    {
      "cell_type": "code",
      "source": [
        "class person:\n",
        "  def __init__(self, n, o):\n",
        "    print(\"hey i am good boy\")\n",
        "    self.name=n\n",
        "    self.occ=o\n",
        "\n",
        "\n",
        "  def info(self):\n",
        "    print(f\"{self.name} is a {self.occ}\")\n",
        "\n",
        "a=person(\"Hamza\",\"developer\")\n",
        "b=person(\"Ali\",\"HR\")\n",
        "a.info()\n",
        "b.info()"
      ],
      "metadata": {
        "colab": {
          "base_uri": "https://localhost:8080/"
        },
        "id": "K_t_PsDU7Yz7",
        "outputId": "44baf680-86d2-456e-85b3-10fad44e54ef"
      },
      "execution_count": 8,
      "outputs": [
        {
          "output_type": "stream",
          "name": "stdout",
          "text": [
            "hey i am good boy\n",
            "hey i am good boy\n",
            "Hamza is a developer\n",
            "Ali is a HR\n"
          ]
        }
      ]
    },
    {
      "cell_type": "markdown",
      "source": [
        "# Type of constructors\n",
        "1=Parameterized Constructor\n",
        "\n",
        "2=Default Constructor\n",
        "\n",
        "Parameterized Constructor in Python\n",
        "When the constructor accepts arguments along with self, it is known as parameterized constructor.\n",
        "\n",
        "These arguments can be used inside the class to assign the values to the data members"
      ],
      "metadata": {
        "id": "xgPXv-n5-NHy"
      }
    },
    {
      "cell_type": "code",
      "source": [
        "class Details:\n",
        "    def __init__(self, animal, group):\n",
        "        self.animal = animal\n",
        "        self.group = group\n",
        "\n",
        "obj1 = Details(\"Crab\", \"Crustaceans\")\n",
        "print(obj1.animal, \"belongs to the\", obj1.group, \"group.\")"
      ],
      "metadata": {
        "colab": {
          "base_uri": "https://localhost:8080/"
        },
        "id": "l-bwe-IE-kMH",
        "outputId": "c9a397ac-6d39-448b-def3-3cfd0a9df5fb"
      },
      "execution_count": 9,
      "outputs": [
        {
          "output_type": "stream",
          "name": "stdout",
          "text": [
            "Crab belongs to the Crustaceans group.\n"
          ]
        }
      ]
    },
    {
      "cell_type": "code",
      "source": [
        "class Details:\n",
        "  def __init__(self):\n",
        "    print(\"animal Crab belongs to Crustaceans group\")\n",
        "obj1=Details()"
      ],
      "metadata": {
        "id": "MqoiaQuNAlzP",
        "outputId": "be9bb9d8-3d67-4516-94da-2e9072bb454f",
        "colab": {
          "base_uri": "https://localhost:8080/"
        }
      },
      "execution_count": 10,
      "outputs": [
        {
          "output_type": "stream",
          "name": "stdout",
          "text": [
            "animal Crab belongs to Crustaceans group\n"
          ]
        }
      ]
    }
  ],
  "metadata": {
    "colab": {
      "provenance": [],
      "authorship_tag": "ABX9TyNNEz7TTaMw9IRYnqdQW2zz",
      "include_colab_link": true
    },
    "kernelspec": {
      "display_name": "Python 3",
      "name": "python3"
    },
    "language_info": {
      "name": "python"
    }
  },
  "nbformat": 4,
  "nbformat_minor": 0
}