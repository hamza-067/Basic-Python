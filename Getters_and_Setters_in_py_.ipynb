{
  "cells": [
    {
      "cell_type": "markdown",
      "metadata": {
        "id": "view-in-github",
        "colab_type": "text"
      },
      "source": [
        "<a href=\"https://colab.research.google.com/github/MHamza666/M-Hamza/blob/main/Getters_and_Setters_in_py_.ipynb\" target=\"_parent\"><img src=\"https://colab.research.google.com/assets/colab-badge.svg\" alt=\"Open In Colab\"/></a>"
      ]
    },
    {
      "cell_type": "markdown",
      "source": [
        "# Getters\n",
        "Getters in Python are methods that are used to access the values of an object's properties. They are used to return the value of a specific property, and are typically defined using the @property decorator."
      ],
      "metadata": {
        "id": "fL1fpawehWad"
      }
    },
    {
      "cell_type": "code",
      "source": [
        "class MyClass:\n",
        "    def __init__(self, value):\n",
        "        self._value = value\n",
        "\n",
        "    @property\n",
        "    def value(self):\n",
        "        return self._value"
      ],
      "metadata": {
        "id": "2CLqT0Vfhp0M"
      },
      "execution_count": null,
      "outputs": []
    },
    {
      "cell_type": "markdown",
      "source": [
        "In this example, the MyClass class has a single property, _value, which is initialized in the init method. The value method is defined as a getter using the @property decorator, and is used to return the value of the _value property.\n",
        "\n",
        "To use the getter, we can create an instance of the MyClass class, and then access the value property as if it were an attribute"
      ],
      "metadata": {
        "id": "4HDglCXyhvyr"
      }
    },
    {
      "cell_type": "code",
      "source": [
        ">>> obj = MyClass(10)\n",
        ">>> obj.value\n",
        "10"
      ],
      "metadata": {
        "id": "h_LnKrIuhvTe"
      },
      "execution_count": null,
      "outputs": []
    },
    {
      "cell_type": "code",
      "source": [
        "# example 01\n",
        "\n",
        "class myclass:\n",
        "  def __init__(self,value):\n",
        "    self._value=value\n",
        "\n",
        "  def show(self):\n",
        "    print(f\"value is {self.value}\")\n",
        "\n",
        "  @property\n",
        "  def value(self):\n",
        "    return self._value\n",
        "\n",
        "obj=myclass(10)\n",
        "obj.show()\n",
        "\n"
      ],
      "metadata": {
        "colab": {
          "base_uri": "https://localhost:8080/"
        },
        "id": "X2ztGloKiND6",
        "outputId": "2e40546a-accc-41b0-dd39-bd07bed049e7"
      },
      "execution_count": 2,
      "outputs": [
        {
          "output_type": "stream",
          "name": "stdout",
          "text": [
            "value is 10\n"
          ]
        }
      ]
    },
    {
      "cell_type": "code",
      "source": [
        "class myclass:\n",
        "  def __init__(self,value):\n",
        "    self._value = value\n",
        "\n",
        "  def show(self):\n",
        "    print(f\"value is {self._value}\")\n",
        "\n",
        "  @property\n",
        "  def value(self):\n",
        "    return self._value\n",
        "\n",
        "obj=myclass(10)\n",
        "print(obj._value)\n",
        "obj.show()"
      ],
      "metadata": {
        "colab": {
          "base_uri": "https://localhost:8080/"
        },
        "id": "l5U-y9KQj1kP",
        "outputId": "1bdca682-1f45-4a11-b940-b39c3a49543b"
      },
      "execution_count": 3,
      "outputs": [
        {
          "output_type": "stream",
          "name": "stdout",
          "text": [
            "10\n",
            "value is 10\n"
          ]
        }
      ]
    },
    {
      "cell_type": "code",
      "source": [
        "class myclass:\n",
        "  def __init__(self,value):\n",
        "    self._value=value\n",
        "\n",
        "  def show(self):\n",
        "    print(f\"value is {self._value}\")\n",
        "\n",
        "  @property\n",
        "  def ten_value(self):\n",
        "    return 10* self._value\n",
        "\n",
        "obj=myclass(10)\n",
        "print(obj.ten_value)\n",
        "obj.show()\n",
        "\n"
      ],
      "metadata": {
        "colab": {
          "base_uri": "https://localhost:8080/"
        },
        "id": "A3wohUOLldXt",
        "outputId": "66c81b2f-997d-41e3-80e9-ac2a6e31a0c0"
      },
      "execution_count": 6,
      "outputs": [
        {
          "output_type": "stream",
          "name": "stdout",
          "text": [
            "100\n",
            "value is 10\n"
          ]
        }
      ]
    },
    {
      "cell_type": "markdown",
      "source": [
        "# setter\n",
        "It is important to note that the getters do not take any parameters and we cannot set the value through getter method.For that we need setter method which can be added by decorating method with @property_name.setter"
      ],
      "metadata": {
        "id": "P3RDL2h-niA_"
      }
    },
    {
      "cell_type": "code",
      "source": [
        "class MyClass:\n",
        "    def __init__(self, value):\n",
        "        self._value = value\n",
        "\n",
        "    @property\n",
        "    def value(self):\n",
        "        return self._value\n",
        "\n",
        "    @value.setter\n",
        "    def value(self, new_value):\n",
        "        self._value = new_value"
      ],
      "metadata": {
        "id": "5XIIRbVunp2F"
      },
      "execution_count": null,
      "outputs": []
    },
    {
      "cell_type": "code",
      "source": [
        ">>> obj = MyClass(10)\n",
        ">>> obj.value = 20\n",
        ">>> obj.value\n",
        "20"
      ],
      "metadata": {
        "id": "KNI9MdXPnxHX"
      },
      "execution_count": null,
      "outputs": []
    },
    {
      "cell_type": "markdown",
      "source": [
        "In conclusion, getters are a convenient way to access the values of an object's properties, while keeping the internal representation of the property hidden. This can be useful for encapsulation and data validation."
      ],
      "metadata": {
        "id": "Nc4wYpI6n2-8"
      }
    },
    {
      "cell_type": "code",
      "source": [
        "# example\n",
        "class myclass:\n",
        "  def __init__(self,value):\n",
        "    self._value= value\n",
        "\n",
        "  def show(self):\n",
        "    print(f\"value is {self._value}\")\n",
        "\n",
        "  @property\n",
        "  def ten_value(self):\n",
        "    return  10*self._value\n",
        "\n",
        "  @ten_value.setter\n",
        "  def ten_value(self,new_value):\n",
        "    self._value = new_value/10\n",
        "\n",
        "\n",
        "obj=myclass(10)\n",
        "obj.ten_value=67\n",
        "print(obj.ten_value)\n",
        "obj.show()\n"
      ],
      "metadata": {
        "colab": {
          "base_uri": "https://localhost:8080/"
        },
        "id": "ERKPJLYFn5c6",
        "outputId": "d9123f32-410f-40d5-8893-b1e35aea0818"
      },
      "execution_count": 1,
      "outputs": [
        {
          "output_type": "stream",
          "name": "stdout",
          "text": [
            "67.0\n",
            "value is 6.7\n"
          ]
        }
      ]
    }
  ],
  "metadata": {
    "colab": {
      "provenance": [],
      "authorship_tag": "ABX9TyN00ei5OYeoZ8xEVebgaMyS",
      "include_colab_link": true
    },
    "kernelspec": {
      "display_name": "Python 3",
      "name": "python3"
    },
    "language_info": {
      "name": "python"
    }
  },
  "nbformat": 4,
  "nbformat_minor": 0
}