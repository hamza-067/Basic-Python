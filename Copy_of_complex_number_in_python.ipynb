{
  "nbformat": 4,
  "nbformat_minor": 0,
  "metadata": {
    "colab": {
      "provenance": [],
      "cell_execution_strategy": "setup",
      "authorship_tag": "ABX9TyNO8wilCMvim/wKSUY3IXaU",
      "include_colab_link": true
    },
    "kernelspec": {
      "name": "python3",
      "display_name": "Python 3"
    },
    "language_info": {
      "name": "python"
    }
  },
  "cells": [
    {
      "cell_type": "markdown",
      "metadata": {
        "id": "view-in-github",
        "colab_type": "text"
      },
      "source": [
        "<a href=\"https://colab.research.google.com/github/MHamza666/M-Hamza/blob/main/Copy_of_complex_number_in_python.ipynb\" target=\"_parent\"><img src=\"https://colab.research.google.com/assets/colab-badge.svg\" alt=\"Open In Colab\"/></a>"
      ]
    },
    {
      "cell_type": "code",
      "execution_count": 1,
      "metadata": {
        "id": "G3apYJ0NcfU3",
        "colab": {
          "base_uri": "https://localhost:8080/"
        },
        "outputId": "9f086e14-7561-48ba-cdf1-e230a6d6f4d2"
      },
      "outputs": [
        {
          "output_type": "stream",
          "name": "stdout",
          "text": [
            "the complex number is  (2+5j)\n"
          ]
        }
      ],
      "source": [
        "real = 2\n",
        "imaginary = 5\n",
        "\n",
        "x = complex(real , imaginary)\n",
        "print(\"the complex number is \" , x)"
      ]
    },
    {
      "cell_type": "code",
      "source": [
        "complex_num = 2 + 5j #Defining Complex Number using the string literal\n",
        "print(\"the complex number is \", complex_num)"
      ],
      "metadata": {
        "id": "Ji9IQ-lhdN-Z",
        "colab": {
          "base_uri": "https://localhost:8080/"
        },
        "outputId": "b1932d30-c663-48f9-d8d4-15da31340757"
      },
      "execution_count": 2,
      "outputs": [
        {
          "output_type": "stream",
          "name": "stdout",
          "text": [
            "the complex number is  (2+5j)\n"
          ]
        }
      ]
    },
    {
      "cell_type": "markdown",
      "source": [
        "# Example 3 complex datatype in python\n",
        "The Arithmetic Operations such as Addition, Subtraction, Multiplication, and Division can be performed on the Complex Data Type in Python.\n",
        "\n"
      ],
      "metadata": {
        "id": "NFRQ5WmKeH3r"
      }
    },
    {
      "cell_type": "code",
      "source": [
        "# declearing of complex number\n",
        "a = 2 + 4j\n",
        "b = 1 - 3j\n",
        "\n",
        "# performing Arithmetic operations\n",
        "z1 = a + b\n",
        "z2 = a - b\n",
        "z3 = a * b\n",
        "z4 = a / b\n",
        "\n",
        "print(\"the results of addition is \",z1)\n",
        "print(\"the results of subtraction is\",z2)\n",
        "print(\"the result of multiplication is\",z3)\n",
        "print(\"the result of division is \",z4)"
      ],
      "metadata": {
        "id": "3NtQqCbnd8Qy",
        "colab": {
          "base_uri": "https://localhost:8080/"
        },
        "outputId": "b6c7e27d-0ac1-4b7a-8d68-ced89362c0b1"
      },
      "execution_count": 3,
      "outputs": [
        {
          "output_type": "stream",
          "name": "stdout",
          "text": [
            "the results of addition is  (3+1j)\n",
            "the results of subtraction is (1+7j)\n",
            "the result of multiplication is (14-2j)\n",
            "the result of division is  (-1+0.9999999999999999j)\n"
          ]
        }
      ]
    },
    {
      "cell_type": "markdown",
      "source": [
        "#Example 4 complex datatype of python\n",
        "Let us see how to calculate the Conjugate of a complex Data Type in Python using the predefined function named “conjugate()”.\n",
        "\n",
        "\n"
      ],
      "metadata": {
        "id": "ErnpPYDigfNd"
      }
    },
    {
      "cell_type": "code",
      "source": [
        "# declaring of complex number\n",
        "a = 2 + 3j\n",
        "# computing conjugate\n",
        "a_conj = a.conjugate()\n",
        "print(\" the conjugate \",a,\"is\" ,a_conj)"
      ],
      "metadata": {
        "id": "4CbG3f_Ag1hF",
        "colab": {
          "base_uri": "https://localhost:8080/"
        },
        "outputId": "e0469003-3148-488d-e400-399ee9c7713e"
      },
      "execution_count": 4,
      "outputs": [
        {
          "output_type": "stream",
          "name": "stdout",
          "text": [
            " the conjugate  (2+3j) is (2-3j)\n"
          ]
        }
      ]
    },
    {
      "cell_type": "markdown",
      "source": [
        "#Example 5 of Complex Data Type in Python\n",
        "We can use real() and imag() functions for directly accessing the real and imaginary parts of the complex data type in python."
      ],
      "metadata": {
        "id": "UfsL9c8niXal"
      }
    },
    {
      "cell_type": "code",
      "source": [
        "z = 2 +5j\n",
        "real_part = z.real\n",
        "imag_part = z.imag\n",
        "print(\"the real part is \",real_part)\n",
        "print(\"the imag part is\",imag_part)"
      ],
      "metadata": {
        "id": "IptWnREhib9s",
        "colab": {
          "base_uri": "https://localhost:8080/"
        },
        "outputId": "281c953e-06fc-40d3-8f37-951eda38f836"
      },
      "execution_count": 5,
      "outputs": [
        {
          "output_type": "stream",
          "name": "stdout",
          "text": [
            "the real part is  2.0\n",
            "the imag part is 5.0\n"
          ]
        }
      ]
    }
  ]
}