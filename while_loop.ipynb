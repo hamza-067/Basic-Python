{
  "nbformat": 4,
  "nbformat_minor": 0,
  "metadata": {
    "colab": {
      "provenance": [],
      "authorship_tag": "ABX9TyPoAI/Af2rE5q9qBEzeKiOK",
      "include_colab_link": true
    },
    "kernelspec": {
      "name": "python3",
      "display_name": "Python 3"
    },
    "language_info": {
      "name": "python"
    }
  },
  "cells": [
    {
      "cell_type": "markdown",
      "metadata": {
        "id": "view-in-github",
        "colab_type": "text"
      },
      "source": [
        "<a href=\"https://colab.research.google.com/github/MHamza666/M-Hamza/blob/main/while_loop.ipynb\" target=\"_parent\"><img src=\"https://colab.research.google.com/assets/colab-badge.svg\" alt=\"Open In Colab\"/></a>"
      ]
    },
    {
      "cell_type": "code",
      "execution_count": 10,
      "metadata": {
        "id": "OaXb0vSkYXhq",
        "colab": {
          "base_uri": "https://localhost:8080/"
        },
        "outputId": "59d647a2-92dd-474d-b7ad-ee3841ee727f"
      },
      "outputs": [
        {
          "output_type": "stream",
          "name": "stdout",
          "text": [
            "1\n",
            "2\n",
            "3\n",
            "4\n",
            "5\n",
            "6\n",
            "7\n",
            "8\n",
            "9\n",
            "10\n"
          ]
        }
      ],
      "source": [
        "# python while loop\n",
        "n=1\n",
        "while n<=10:\n",
        "  print(n)\n",
        "  n=n+1"
      ]
    },
    {
      "cell_type": "code",
      "source": [
        "n=1\n",
        "while n<10:\n",
        "  print(n)\n",
        "  n=n+1"
      ],
      "metadata": {
        "id": "TLotndkg9s8Y",
        "colab": {
          "base_uri": "https://localhost:8080/"
        },
        "outputId": "4ab5f2fc-1ecf-4685-b115-ac07dea3a239"
      },
      "execution_count": 11,
      "outputs": [
        {
          "output_type": "stream",
          "name": "stdout",
          "text": [
            "1\n",
            "2\n",
            "3\n",
            "4\n",
            "5\n",
            "6\n",
            "7\n",
            "8\n",
            "9\n"
          ]
        }
      ]
    },
    {
      "cell_type": "code",
      "source": [
        "n=10\n",
        "while n >=1:\n",
        "  print(n)\n",
        "  n=n-1"
      ],
      "metadata": {
        "id": "iuIQFDcq-IXR",
        "colab": {
          "base_uri": "https://localhost:8080/"
        },
        "outputId": "ac8f1ccc-30e3-4e4c-befb-085b8e472fe0"
      },
      "execution_count": 12,
      "outputs": [
        {
          "output_type": "stream",
          "name": "stdout",
          "text": [
            "10\n",
            "9\n",
            "8\n",
            "7\n",
            "6\n",
            "5\n",
            "4\n",
            "3\n",
            "2\n",
            "1\n"
          ]
        }
      ]
    },
    {
      "cell_type": "code",
      "source": [
        "n=1\n",
        "while n <=5:\n",
        "  print(n)\n",
        "  n=n+1"
      ],
      "metadata": {
        "id": "uV8ZyHXN98Gb",
        "colab": {
          "base_uri": "https://localhost:8080/"
        },
        "outputId": "c88f04fe-2795-46ae-c0a2-30f8df8bffc8"
      },
      "execution_count": 14,
      "outputs": [
        {
          "output_type": "stream",
          "name": "stdout",
          "text": [
            "1\n",
            "2\n",
            "3\n",
            "4\n",
            "5\n"
          ]
        }
      ]
    },
    {
      "cell_type": "code",
      "source": [
        "n=1\n",
        "while n <=5:\n",
        "  print(\"hamza\")\n",
        "  n=n+1"
      ],
      "metadata": {
        "id": "X21_G8Hc_fFR",
        "colab": {
          "base_uri": "https://localhost:8080/"
        },
        "outputId": "1c60d73b-d79e-4205-e9c3-43ef20461c51"
      },
      "execution_count": 13,
      "outputs": [
        {
          "output_type": "stream",
          "name": "stdout",
          "text": [
            "hamza\n",
            "hamza\n",
            "hamza\n",
            "hamza\n",
            "hamza\n"
          ]
        }
      ]
    },
    {
      "cell_type": "code",
      "source": [
        "# even number\n",
        "n=2\n",
        "while n <=10:\n",
        "  print(n)\n",
        "  n=n+2"
      ],
      "metadata": {
        "id": "UQj8sgbk_0v9",
        "colab": {
          "base_uri": "https://localhost:8080/"
        },
        "outputId": "f1166935-ecd7-40f9-c5b4-b66d889ccfaa"
      },
      "execution_count": 15,
      "outputs": [
        {
          "output_type": "stream",
          "name": "stdout",
          "text": [
            "2\n",
            "4\n",
            "6\n",
            "8\n",
            "10\n"
          ]
        }
      ]
    },
    {
      "cell_type": "code",
      "source": [
        "#odd number\n",
        "n=1\n",
        "while n <=10:\n",
        "  print(n)\n",
        "  n=n+2"
      ],
      "metadata": {
        "id": "xyt0TydyAfIb",
        "colab": {
          "base_uri": "https://localhost:8080/"
        },
        "outputId": "08c0fd79-eb5f-47e0-fb33-3a414251ee0d"
      },
      "execution_count": 16,
      "outputs": [
        {
          "output_type": "stream",
          "name": "stdout",
          "text": [
            "1\n",
            "3\n",
            "5\n",
            "7\n",
            "9\n"
          ]
        }
      ]
    },
    {
      "cell_type": "code",
      "source": [
        "s=int(input(\"enter start value\"))\n",
        "e=int(input(\"enter end value\"))\n",
        "while s<=e:\n",
        "  print(s)\n",
        "  s=s+1\n"
      ],
      "metadata": {
        "id": "GTtR9IsoBNvt",
        "colab": {
          "base_uri": "https://localhost:8080/"
        },
        "outputId": "8fb6e6ea-d4f7-4586-f03d-2ada4f56c7a9"
      },
      "execution_count": 17,
      "outputs": [
        {
          "output_type": "stream",
          "name": "stdout",
          "text": [
            "enter start value2\n",
            "enter end value6\n",
            "2\n",
            "3\n",
            "4\n",
            "5\n",
            "6\n"
          ]
        }
      ]
    },
    {
      "cell_type": "code",
      "source": [
        "s=int(input(\"enter start value\"))\n",
        "e=int(input(\"enter end value\"))\n",
        "while s<=e:\n",
        "  print(s)\n",
        "  s=s+2\n"
      ],
      "metadata": {
        "id": "QCuQbKkZaRdP",
        "colab": {
          "base_uri": "https://localhost:8080/"
        },
        "outputId": "17829c3d-6203-4a86-b4d8-97b50c294696"
      },
      "execution_count": 18,
      "outputs": [
        {
          "output_type": "stream",
          "name": "stdout",
          "text": [
            "enter start value2\n",
            "enter end value16\n",
            "2\n",
            "4\n",
            "6\n",
            "8\n",
            "10\n",
            "12\n",
            "14\n",
            "16\n"
          ]
        }
      ]
    },
    {
      "cell_type": "code",
      "source": [
        "s=int(input(\"enter start value\"))\n",
        "e=int(input(\"enter end value\"))\n",
        "while s<= e:\n",
        "  if s % 2==0:\n",
        "    print(s)\n",
        "  s=s+1"
      ],
      "metadata": {
        "colab": {
          "base_uri": "https://localhost:8080/"
        },
        "id": "r5ktB-m-pE-F",
        "outputId": "17253fde-a5bb-4430-f173-d5d5f78e0939"
      },
      "execution_count": 28,
      "outputs": [
        {
          "output_type": "stream",
          "name": "stdout",
          "text": [
            "enter start value3\n",
            "enter end value16\n",
            "4\n",
            "6\n",
            "8\n",
            "10\n",
            "12\n",
            "14\n",
            "16\n"
          ]
        }
      ]
    },
    {
      "cell_type": "code",
      "source": [
        "#fecteriol\n",
        "n=5\n",
        "i=1\n",
        "f=1\n",
        "while i <=n:\n",
        "  f=f*i\n",
        "  i=i+1\n",
        "  print(f)\n"
      ],
      "metadata": {
        "colab": {
          "base_uri": "https://localhost:8080/"
        },
        "id": "E6P6t5sfklFX",
        "outputId": "8d040d4f-d9b2-443f-a0cc-e9b6305ed1b4"
      },
      "execution_count": 24,
      "outputs": [
        {
          "output_type": "stream",
          "name": "stdout",
          "text": [
            "1\n",
            "2\n",
            "6\n",
            "24\n",
            "120\n"
          ]
        }
      ]
    }
  ]
}