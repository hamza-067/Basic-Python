{
  "cells": [
    {
      "cell_type": "markdown",
      "metadata": {
        "id": "view-in-github",
        "colab_type": "text"
      },
      "source": [
        "<a href=\"https://colab.research.google.com/github/MHamza666/M-Hamza/blob/main/function_in_python.ipynb\" target=\"_parent\"><img src=\"https://colab.research.google.com/assets/colab-badge.svg\" alt=\"Open In Colab\"/></a>"
      ]
    },
    {
      "cell_type": "code",
      "source": [
        "a=9\n",
        "b=8\n",
        "gmean=(a+b)/(a*b)\n",
        "print(gmean)"
      ],
      "metadata": {
        "colab": {
          "base_uri": "https://localhost:8080/"
        },
        "id": "msW2IC4pp-4Q",
        "outputId": "4c5a3d08-0e7f-4378-ab39-7a8927afd2cb"
      },
      "execution_count": null,
      "outputs": [
        {
          "output_type": "stream",
          "name": "stdout",
          "text": [
            "0.2361111111111111\n"
          ]
        }
      ]
    },
    {
      "cell_type": "code",
      "source": [
        "c=8\n",
        "d=7\n",
        "gmean=(c+d)/(c*d)\n",
        "print(gmean)"
      ],
      "metadata": {
        "id": "6Bem2ODTqecD",
        "colab": {
          "base_uri": "https://localhost:8080/"
        },
        "outputId": "8f433eb0-35e7-49cc-a30d-b2f6b9b4d193"
      },
      "execution_count": 7,
      "outputs": [
        {
          "output_type": "stream",
          "name": "stdout",
          "text": [
            "0.26785714285714285\n"
          ]
        }
      ]
    },
    {
      "cell_type": "code",
      "source": [
        "a=9\n",
        "b=8\n",
        "gmean=(a+b)/(a*b)\n",
        "print(gmean)\n",
        "\n",
        "c=8\n",
        "d=7\n",
        "mean=(c+d)/(c*d)\n",
        "print(mean)"
      ],
      "metadata": {
        "colab": {
          "base_uri": "https://localhost:8080/"
        },
        "id": "S37oHtQJrvR1",
        "outputId": "ef697003-f93a-4e96-cf94-82178113975b"
      },
      "execution_count": 8,
      "outputs": [
        {
          "output_type": "stream",
          "name": "stdout",
          "text": [
            "0.2361111111111111\n",
            "0.26785714285714285\n"
          ]
        }
      ]
    },
    {
      "cell_type": "code",
      "source": [
        "\n",
        "a=9\n",
        "b=8\n",
        "gmean=(c+d)/(c*d)\n",
        "print(gmean)\n",
        "if(a>b):\n",
        "  print(\"first number is greater\")\n",
        "else:\n",
        " print(\"second number is greater or equal\")"
      ],
      "metadata": {
        "colab": {
          "base_uri": "https://localhost:8080/"
        },
        "id": "sk_IDfgusUOd",
        "outputId": "174396fc-72c1-4d74-cd22-dfb7a045cb46"
      },
      "execution_count": 12,
      "outputs": [
        {
          "output_type": "stream",
          "name": "stdout",
          "text": [
            "0.26785714285714285\n",
            "first number is greater\n"
          ]
        }
      ]
    },
    {
      "cell_type": "markdown",
      "source": [
        "# function argument"
      ],
      "metadata": {
        "id": "eqK_SWEMdQm7"
      }
    },
    {
      "cell_type": "code",
      "source": [
        "def average(a=6,b=4):\n",
        "  print(\"the average is:\",(a+b)/2)\n",
        "average(6,4)"
      ],
      "metadata": {
        "colab": {
          "base_uri": "https://localhost:8080/"
        },
        "id": "EvznhTdBdP6H",
        "outputId": "957e98f8-9785-4aa4-9526-cf0b0ceecb8d"
      },
      "execution_count": 2,
      "outputs": [
        {
          "output_type": "stream",
          "name": "stdout",
          "text": [
            "the average is: 5.0\n"
          ]
        }
      ]
    },
    {
      "cell_type": "code",
      "source": [
        "def average (a=6,b=4):\n",
        "  print(\"the average is :\",(a+b)/2)\n",
        "average()\n"
      ],
      "metadata": {
        "colab": {
          "base_uri": "https://localhost:8080/"
        },
        "id": "S_sOIsiKPUEb",
        "outputId": "6757e8df-cb4e-4063-c0a0-6289a1a99ba0"
      },
      "execution_count": 3,
      "outputs": [
        {
          "output_type": "stream",
          "name": "stdout",
          "text": [
            "the average is : 5.0\n"
          ]
        }
      ]
    },
    {
      "cell_type": "code",
      "source": [
        "#if\n",
        "def average(a=9,b=1):\n",
        "  print(\"the average is:\",(a+b)/2)\n",
        "average(5,1)"
      ],
      "metadata": {
        "colab": {
          "base_uri": "https://localhost:8080/"
        },
        "id": "WQo4GmRwQj3Z",
        "outputId": "c0f971ab-2d58-46d4-d683-29ce2989cb74"
      },
      "execution_count": 4,
      "outputs": [
        {
          "output_type": "stream",
          "name": "stdout",
          "text": [
            "the average is: 3.0\n"
          ]
        }
      ]
    },
    {
      "cell_type": "code",
      "source": [
        "def average(a=9,b=1):\n",
        "  print(\"the average is:\",(a+b)/2)\n",
        "average(5)"
      ],
      "metadata": {
        "colab": {
          "base_uri": "https://localhost:8080/"
        },
        "id": "LuEzIZOJRHPL",
        "outputId": "a9adb212-3931-44b4-9d73-af0a203ce6ad"
      },
      "execution_count": 7,
      "outputs": [
        {
          "output_type": "stream",
          "name": "stdout",
          "text": [
            "the average is: 3.0\n"
          ]
        }
      ]
    },
    {
      "cell_type": "code",
      "source": [
        "def average(a=9,b=1):\n",
        "  print(\"the average is:\",(a+b)/2)\n",
        "average(b=5)"
      ],
      "metadata": {
        "colab": {
          "base_uri": "https://localhost:8080/"
        },
        "id": "7seWALlsRY87",
        "outputId": "9cb35f72-e0de-4730-de2a-dd6b14764f55"
      },
      "execution_count": 8,
      "outputs": [
        {
          "output_type": "stream",
          "name": "stdout",
          "text": [
            "the average is: 7.0\n"
          ]
        }
      ]
    },
    {
      "cell_type": "code",
      "source": [
        "def average(a=9,b=1):\n",
        "  print(\"the average is:\",(a+b)/2)\n",
        "average(b=15,a=15)"
      ],
      "metadata": {
        "colab": {
          "base_uri": "https://localhost:8080/"
        },
        "id": "ghHQLPlQTCyC",
        "outputId": "f786baa8-e049-4cf3-dc96-bf9d5c6f1006"
      },
      "execution_count": 12,
      "outputs": [
        {
          "output_type": "stream",
          "name": "stdout",
          "text": [
            "the average is: 15.0\n"
          ]
        }
      ]
    },
    {
      "cell_type": "code",
      "source": [
        "def name(fname,mname=\"hamza\",lname=\"ali\"):\n",
        "  print(\"hello\",fname,mname,lname)\n",
        "name(\"zeshan\")"
      ],
      "metadata": {
        "colab": {
          "base_uri": "https://localhost:8080/"
        },
        "id": "dwJwAXWaSB05",
        "outputId": "529e69a8-8bf9-4f7e-b279-7917151539d3"
      },
      "execution_count": 9,
      "outputs": [
        {
          "output_type": "stream",
          "name": "stdout",
          "text": [
            "hello zeshan hamza ali\n"
          ]
        }
      ]
    },
    {
      "cell_type": "code",
      "source": [
        "def name(fname,mname,lname):\n",
        "  print(\"hello\",fname,mname,lname)\n",
        "name(\"hamza\",\"ali\",\"ahmad\")"
      ],
      "metadata": {
        "colab": {
          "base_uri": "https://localhost:8080/"
        },
        "id": "1hxT-CKQSfvd",
        "outputId": "54bd95fd-3a25-4683-eee5-efa20dab4ac4"
      },
      "execution_count": 10,
      "outputs": [
        {
          "output_type": "stream",
          "name": "stdout",
          "text": [
            "hello hamza ali ahmad\n"
          ]
        }
      ]
    },
    {
      "cell_type": "markdown",
      "source": [
        "# variable length argument:"
      ],
      "metadata": {
        "id": "MMH-mTXXUub4"
      }
    },
    {
      "cell_type": "code",
      "source": [
        "def average(*numbers):\n",
        "  print(type(numbers))\n",
        "  sum=0\n",
        "  for i in numbers:\n",
        "    sum=sum+i\n",
        "    print(\"average is:\",sum/len(numbers))\n",
        "average(5,6)"
      ],
      "metadata": {
        "colab": {
          "base_uri": "https://localhost:8080/"
        },
        "id": "2phiGxCUU21V",
        "outputId": "072835f0-7d84-4b36-a5d8-400df25c83a6"
      },
      "execution_count": 15,
      "outputs": [
        {
          "output_type": "stream",
          "name": "stdout",
          "text": [
            "<class 'tuple'>\n",
            "average is: 2.5\n",
            "average is: 5.5\n"
          ]
        }
      ]
    },
    {
      "cell_type": "code",
      "source": [
        "def average(*numbers):\n",
        "  print(type(numbers))\n",
        "  sum= 0\n",
        "  for i in numbers:\n",
        "    sum=sum+i\n",
        "    print(\"Average is: \",sum / len(numbers))\n",
        "average(6, 6)"
      ],
      "metadata": {
        "colab": {
          "base_uri": "https://localhost:8080/"
        },
        "id": "0d9mz3gtWdnp",
        "outputId": "043249f2-fdb6-426e-f231-d754fa03798e"
      },
      "execution_count": 40,
      "outputs": [
        {
          "output_type": "stream",
          "name": "stdout",
          "text": [
            "<class 'tuple'>\n",
            "Average is:  3.0\n",
            "Average is:  6.0\n"
          ]
        }
      ]
    },
    {
      "cell_type": "code",
      "source": [
        "def average(*numbers):\n",
        "  print(type(numbers))\n",
        "  sum=0\n",
        "  for i in numbers:\n",
        "    sum=sum+i\n",
        "    print(\"average is:\",sum/len(numbers))\n",
        "average(5,6,7)"
      ],
      "metadata": {
        "colab": {
          "base_uri": "https://localhost:8080/"
        },
        "id": "mw_wUy7jW0Lg",
        "outputId": "f49b3549-3e16-4ee1-979f-17977879ca71"
      },
      "execution_count": 31,
      "outputs": [
        {
          "output_type": "stream",
          "name": "stdout",
          "text": [
            "<class 'tuple'>\n",
            "average is: 1.6666666666666667\n",
            "average is: 3.6666666666666665\n",
            "average is: 6.0\n"
          ]
        }
      ]
    },
    {
      "cell_type": "code",
      "source": [
        "def average(*numbers):\n",
        "  print(type(numbers))\n",
        "  sum=0\n",
        "  for i in numbers:\n",
        "    sum=sum+i\n",
        "    #print(\"average is:\",sum/len(numbers))\n",
        "    return sum/len(numbers)\n",
        "\n",
        "c=average(5,6)\n",
        "print(c)"
      ],
      "metadata": {
        "colab": {
          "base_uri": "https://localhost:8080/"
        },
        "id": "QAtWH4_vYg6u",
        "outputId": "7bd88bce-91fe-4666-a7f0-0487dd7cb396"
      },
      "execution_count": 33,
      "outputs": [
        {
          "output_type": "stream",
          "name": "stdout",
          "text": [
            "<class 'tuple'>\n",
            "2.5\n"
          ]
        }
      ]
    },
    {
      "cell_type": "code",
      "source": [
        "def average(*number):\n",
        "  print(type(number))\n",
        "  sum=0\n",
        "  for i in number:\n",
        "    sum=sum+i\n",
        "    #print(\"average is:\",sum/len(numbers))\n",
        "    return sum/len(number)\n",
        "\n",
        "c=average(5,6,7)\n",
        "print(c)"
      ],
      "metadata": {
        "colab": {
          "base_uri": "https://localhost:8080/"
        },
        "id": "TEXtjzZOY-5b",
        "outputId": "a049838e-8e5d-4b35-8a68-35980ce3699a"
      },
      "execution_count": 25,
      "outputs": [
        {
          "output_type": "stream",
          "name": "stdout",
          "text": [
            "<class 'tuple'>\n",
            "1.6666666666666667\n"
          ]
        }
      ]
    },
    {
      "cell_type": "code",
      "source": [
        "def average(*numbers):\n",
        "  print(type(numbers))\n",
        "  sum=0\n",
        "  for i in numbers:\n",
        "    sum=sum+i\n",
        "    #print(\"average is:\",sum/len(numbers))\n",
        "    return 4\n",
        "    #return sum/len(numbers)\n",
        "\n",
        "c=average(5,6,4,7)\n",
        "print(c)"
      ],
      "metadata": {
        "colab": {
          "base_uri": "https://localhost:8080/"
        },
        "id": "H-k67lOJZMTL",
        "outputId": "15a4f178-3d19-49eb-fb9a-8be3ee3fcdbb"
      },
      "execution_count": 20,
      "outputs": [
        {
          "output_type": "stream",
          "name": "stdout",
          "text": [
            "<class 'tuple'>\n",
            "4\n"
          ]
        }
      ]
    }
  ],
  "metadata": {
    "colab": {
      "provenance": [],
      "authorship_tag": "ABX9TyP+rJQZtEBfXSJo1JLJj1VN",
      "include_colab_link": true
    },
    "kernelspec": {
      "display_name": "Python 3",
      "name": "python3"
    },
    "language_info": {
      "name": "python"
    }
  },
  "nbformat": 4,
  "nbformat_minor": 0
}