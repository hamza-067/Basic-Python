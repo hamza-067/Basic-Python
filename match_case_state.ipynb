{
  "nbformat": 4,
  "nbformat_minor": 0,
  "metadata": {
    "colab": {
      "provenance": [],
      "private_outputs": true,
      "authorship_tag": "ABX9TyNUUdtRthgnnl0ZtKhBo9Nu"
    },
    "kernelspec": {
      "name": "python3",
      "display_name": "Python 3"
    },
    "language_info": {
      "name": "python"
    }
  },
  "cells": [
    {
      "cell_type": "markdown",
      "source": [
        "# Match case state"
      ],
      "metadata": {
        "id": "0JijIQtcwml_"
      }
    },
    {
      "cell_type": "code",
      "source": [
        "x=int(input(\"enter the value of x:\"))\n",
        "match x:\n",
        "  case 0:\n",
        "    print(\"case is zero\")\n",
        "  case 4:\n",
        "    print(\"case is 4\")\n",
        "  case x:\n",
        "    print(x)"
      ],
      "metadata": {
        "id": "J58DEAOSwjVq"
      },
      "execution_count": null,
      "outputs": []
    },
    {
      "cell_type": "code",
      "source": [
        "x=int(input(\"enter the value of x:\"))\n",
        "match x:\n",
        "  case 0:\n",
        "    print(\"case is zero\")\n",
        "  case 2:\n",
        "    print(\"case is 2\")\n",
        "  case 3:\n",
        "    print(\"case is 3\")\n",
        "  case 4:\n",
        "    print(\"case is 4\")\n",
        "  case x:\n",
        "    print(x)"
      ],
      "metadata": {
        "id": "AhbqCrxl0B9e"
      },
      "execution_count": null,
      "outputs": []
    },
    {
      "cell_type": "code",
      "source": [
        "x=int(input(\"enter the value of x:\"))\n",
        "match x:\n",
        "  case 0:\n",
        "    print(\"case is zero\")\n",
        "  case 2:\n",
        "    print(\"case is 2\")\n",
        "  case 3:\n",
        "    print(\"case is 3\")\n",
        "  case 4:\n",
        "    print(\"case is 4\")\n",
        "  case x:\n",
        "    print(x)"
      ],
      "metadata": {
        "id": "TmtRMmiKBqAV"
      },
      "execution_count": null,
      "outputs": []
    }
  ]
}