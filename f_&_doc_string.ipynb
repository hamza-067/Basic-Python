{
  "cells": [
    {
      "cell_type": "markdown",
      "metadata": {
        "id": "view-in-github",
        "colab_type": "text"
      },
      "source": [
        "<a href=\"https://colab.research.google.com/github/MHamza666/M-Hamza/blob/main/f_%26_doc_string.ipynb\" target=\"_parent\"><img src=\"https://colab.research.google.com/assets/colab-badge.svg\" alt=\"Open In Colab\"/></a>"
      ]
    },
    {
      "cell_type": "code",
      "source": [
        "letter=\"hey my name is {} and i am from {}\"\n",
        "name=\"hamza\"\n",
        "country=\"Pakistan\"\n",
        "print(letter.format(name,country))\n"
      ],
      "metadata": {
        "colab": {
          "base_uri": "https://localhost:8080/"
        },
        "id": "h2ikQscF7JDA",
        "outputId": "00fd33a3-21c1-4b10-b264-675f5b2abcf8"
      },
      "execution_count": 4,
      "outputs": [
        {
          "output_type": "stream",
          "name": "stdout",
          "text": [
            "hey my name is hamza and i am from Pakistan\n"
          ]
        }
      ]
    },
    {
      "cell_type": "code",
      "source": [
        "#if\n",
        "letter =\"my name is {1} and i am from {0}\"\n",
        "country=\"pakistan\"\n",
        "name=\"hamza\"\n",
        "print(letter.format(country,name))"
      ],
      "metadata": {
        "colab": {
          "base_uri": "https://localhost:8080/"
        },
        "id": "Isner0UQ82Tc",
        "outputId": "fa828632-88e1-415e-dab5-a336dbfc81e5"
      },
      "execution_count": 9,
      "outputs": [
        {
          "output_type": "stream",
          "name": "stdout",
          "text": [
            "my name is hamza and i am from pakistan\n"
          ]
        }
      ]
    },
    {
      "cell_type": "code",
      "source": [
        "#2nd method\n",
        "letter=\"hey my name is {} and i am from {}\"\n",
        "name=\"hamza\"\n",
        "country=\"Pakistan\"\n",
        "print(f\"hey my name is {name} and i am from {country}\")\n"
      ],
      "metadata": {
        "colab": {
          "base_uri": "https://localhost:8080/"
        },
        "id": "kngldBP492Q9",
        "outputId": "39af9ec0-873c-4fd7-ec29-354a79f65a4f"
      },
      "execution_count": 10,
      "outputs": [
        {
          "output_type": "stream",
          "name": "stdout",
          "text": [
            "hey my name is hamza and i am from Pakistan\n"
          ]
        }
      ]
    },
    {
      "cell_type": "code",
      "source": [
        "txt=\"for only {price:.2f} dollers!\"\n",
        "print(txt.format(price=50.9999))"
      ],
      "metadata": {
        "colab": {
          "base_uri": "https://localhost:8080/"
        },
        "id": "VdrHRrFn92KR",
        "outputId": "41e03755-3d38-4595-8b13-1af59f45ee38"
      },
      "execution_count": 12,
      "outputs": [
        {
          "output_type": "stream",
          "name": "stdout",
          "text": [
            "for only 51.00 dollers!\n"
          ]
        }
      ]
    },
    {
      "cell_type": "code",
      "source": [
        "price=50.999\n",
        "txt=f\"for only {price:.2f} dollars!\"\n",
        "print(txt)"
      ],
      "metadata": {
        "colab": {
          "base_uri": "https://localhost:8080/"
        },
        "id": "dDL_3U8d92FB",
        "outputId": "ada7b92d-bee7-4799-bfbc-92df9cef1ed9"
      },
      "execution_count": 13,
      "outputs": [
        {
          "output_type": "stream",
          "name": "stdout",
          "text": [
            "for only 51.00 dollars!\n"
          ]
        }
      ]
    },
    {
      "cell_type": "code",
      "source": [
        "print(f\"{2 * 15}\")"
      ],
      "metadata": {
        "colab": {
          "base_uri": "https://localhost:8080/"
        },
        "id": "8NMTAiAp91uq",
        "outputId": "e6baf4ee-d7c1-44ba-d8de-13d9cb584f67"
      },
      "execution_count": 14,
      "outputs": [
        {
          "output_type": "stream",
          "name": "stdout",
          "text": [
            "30\n"
          ]
        }
      ]
    },
    {
      "cell_type": "code",
      "source": [
        "print(f\"we use f-string like this : hey my name is {{name}} and i am from {{country}}\")"
      ],
      "metadata": {
        "colab": {
          "base_uri": "https://localhost:8080/"
        },
        "id": "CfXgArGaBllO",
        "outputId": "4b751e4f-3ecb-4e54-cd7b-2d7e044e2b76"
      },
      "execution_count": 15,
      "outputs": [
        {
          "output_type": "stream",
          "name": "stdout",
          "text": [
            "we use f-string like this : hey my name is {name} and i am from {country}\n"
          ]
        }
      ]
    },
    {
      "cell_type": "markdown",
      "source": [
        "# docstring"
      ],
      "metadata": {
        "id": "bJCjVBSvCq_3"
      }
    },
    {
      "cell_type": "code",
      "source": [
        "def square(n):\n",
        "  ''' take in a number n, return the square of n'''\n",
        "  print(n**2)\n",
        "square(5)"
      ],
      "metadata": {
        "colab": {
          "base_uri": "https://localhost:8080/"
        },
        "id": "q-7m77MvCuHe",
        "outputId": "eb0b54ab-f3b2-45f5-ccb9-590205c7407a"
      },
      "execution_count": 16,
      "outputs": [
        {
          "output_type": "stream",
          "name": "stdout",
          "text": [
            "25\n"
          ]
        }
      ]
    },
    {
      "cell_type": "code",
      "source": [
        "#if\n",
        "def square(n):\n",
        "  ''' take in a number n, return the square of n''' # this string also know docstring\n",
        "  print(n**2)\n",
        "square(5)\n",
        "print(square.__doc__)"
      ],
      "metadata": {
        "colab": {
          "base_uri": "https://localhost:8080/"
        },
        "id": "aZrpPz38DWPR",
        "outputId": "9c041dbe-67e6-4d45-f453-e61d00739ea5"
      },
      "execution_count": 17,
      "outputs": [
        {
          "output_type": "stream",
          "name": "stdout",
          "text": [
            "25\n",
            " take in a number n, return the square of n\n"
          ]
        }
      ]
    }
  ],
  "metadata": {
    "colab": {
      "provenance": [],
      "authorship_tag": "ABX9TyNxQDtXKXviaXNhwW5c+SQj",
      "include_colab_link": true
    },
    "kernelspec": {
      "display_name": "Python 3",
      "name": "python3"
    },
    "language_info": {
      "name": "python"
    }
  },
  "nbformat": 4,
  "nbformat_minor": 0
}