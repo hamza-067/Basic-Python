{
  "cells": [
    {
      "cell_type": "markdown",
      "metadata": {
        "id": "view-in-github",
        "colab_type": "text"
      },
      "source": [
        "<a href=\"https://colab.research.google.com/github/MHamza666/M-Hamza/blob/main/sets_in_python.ipynb\" target=\"_parent\"><img src=\"https://colab.research.google.com/assets/colab-badge.svg\" alt=\"Open In Colab\"/></a>"
      ]
    },
    {
      "cell_type": "code",
      "source": [
        "s={2,3,2,5}\n",
        "print(s)"
      ],
      "metadata": {
        "colab": {
          "base_uri": "https://localhost:8080/"
        },
        "id": "KoKQ2H_ZbWeN",
        "outputId": "fc3dac23-38d0-4601-cfba-ad0128c26674"
      },
      "execution_count": 18,
      "outputs": [
        {
          "output_type": "stream",
          "name": "stdout",
          "text": [
            "{2, 3, 5}\n"
          ]
        }
      ]
    },
    {
      "cell_type": "code",
      "source": [
        "info={\"rooshan\",5,False,6.9,5} # sets cannot maintain order\n",
        "print(info)"
      ],
      "metadata": {
        "colab": {
          "base_uri": "https://localhost:8080/"
        },
        "id": "kcfTR8GBbyP_",
        "outputId": "9d975c55-fad5-41c0-b72b-a83dde291565"
      },
      "execution_count": 19,
      "outputs": [
        {
          "output_type": "stream",
          "name": "stdout",
          "text": [
            "{False, 'rooshan', 5, 6.9}\n"
          ]
        }
      ]
    },
    {
      "cell_type": "code",
      "source": [
        "hamza=set()\n",
        "print(type(hamza))"
      ],
      "metadata": {
        "colab": {
          "base_uri": "https://localhost:8080/"
        },
        "id": "LEkvcgv5cSmF",
        "outputId": "a73620ad-a654-42e2-fceb-bc8572840f3f"
      },
      "execution_count": 20,
      "outputs": [
        {
          "output_type": "stream",
          "name": "stdout",
          "text": [
            "<class 'set'>\n"
          ]
        }
      ]
    },
    {
      "cell_type": "code",
      "source": [
        "info={\"rooshan\",5,False,6.9,5} # sets cannot maintain order\n",
        "for value in info:\n",
        "  print(info)"
      ],
      "metadata": {
        "colab": {
          "base_uri": "https://localhost:8080/"
        },
        "outputId": "e3a83933-89b7-4acc-e43b-5d9a8d31decf",
        "id": "hTPa_qU2c_cG"
      },
      "execution_count": 21,
      "outputs": [
        {
          "output_type": "stream",
          "name": "stdout",
          "text": [
            "{False, 5, 'rooshan', 6.9}\n",
            "{False, 5, 'rooshan', 6.9}\n",
            "{False, 5, 'rooshan', 6.9}\n",
            "{False, 5, 'rooshan', 6.9}\n"
          ]
        }
      ]
    },
    {
      "cell_type": "code",
      "source": [
        "for value in info:\n",
        "  print(value)"
      ],
      "metadata": {
        "colab": {
          "base_uri": "https://localhost:8080/"
        },
        "id": "xQ0hzYTRdbtd",
        "outputId": "1068a074-9afd-41e5-c25e-d60fa4504c3c"
      },
      "execution_count": 22,
      "outputs": [
        {
          "output_type": "stream",
          "name": "stdout",
          "text": [
            "False\n",
            "5\n",
            "rooshan\n",
            "6.9\n"
          ]
        }
      ]
    },
    {
      "cell_type": "markdown",
      "source": [
        "# sets method"
      ],
      "metadata": {
        "id": "6XvlCl1ud2bf"
      }
    },
    {
      "cell_type": "code",
      "source": [
        "s1={1,3,4,6}\n",
        "s2={2,5,6,7}\n",
        "print(s1.union(s2))"
      ],
      "metadata": {
        "colab": {
          "base_uri": "https://localhost:8080/"
        },
        "id": "UwvNKNbSd8Xh",
        "outputId": "368b1af7-8702-4e4b-cb03-1e7aa50f1ec8"
      },
      "execution_count": 23,
      "outputs": [
        {
          "output_type": "stream",
          "name": "stdout",
          "text": [
            "{1, 2, 3, 4, 5, 6, 7}\n"
          ]
        }
      ]
    },
    {
      "cell_type": "code",
      "source": [
        "name1={\"hamza\",\"ali\",\"rooshan\"}\n",
        "name2={\"imran\",\"zeeshan\",\"ali\"}\n",
        "print(name1.union(name2))"
      ],
      "metadata": {
        "colab": {
          "base_uri": "https://localhost:8080/"
        },
        "id": "o6g78Tb_exg1",
        "outputId": "8e8310f0-dfe8-4a10-8f91-a641a50d811e"
      },
      "execution_count": 24,
      "outputs": [
        {
          "output_type": "stream",
          "name": "stdout",
          "text": [
            "{'hamza', 'ali', 'rooshan', 'imran', 'zeeshan'}\n"
          ]
        }
      ]
    },
    {
      "cell_type": "code",
      "source": [
        "# i want ,these value are un touch\n",
        "name1={\"hamza\",\"ali\",\"rooshan\"}\n",
        "name2={\"imran\",\"zeeshan\",\"ali\"}\n",
        "print(name1, name2)"
      ],
      "metadata": {
        "colab": {
          "base_uri": "https://localhost:8080/"
        },
        "id": "K2HQqVirfgex",
        "outputId": "2d3bceac-01df-42bd-d591-3e916b71bb34"
      },
      "execution_count": 25,
      "outputs": [
        {
          "output_type": "stream",
          "name": "stdout",
          "text": [
            "{'hamza', 'rooshan', 'ali'} {'zeeshan', 'ali', 'imran'}\n"
          ]
        }
      ]
    },
    {
      "cell_type": "code",
      "source": [
        "#2nd method\n",
        "name1={\"hamza\",\"ali\",\"rooshan\"}\n",
        "name2={\"imran\",\"zeeshan\",\"ali\"}\n",
        "print(name1.union(name2))\n",
        "name1.update(name2)\n"
      ],
      "metadata": {
        "colab": {
          "base_uri": "https://localhost:8080/"
        },
        "id": "y0OQoG0OgQNv",
        "outputId": "4a91d6ab-469a-49da-fd0f-be0ed4845655"
      },
      "execution_count": 28,
      "outputs": [
        {
          "output_type": "stream",
          "name": "stdout",
          "text": [
            "{'hamza', 'ali', 'rooshan', 'imran', 'zeeshan'}\n"
          ]
        }
      ]
    },
    {
      "cell_type": "code",
      "source": [
        "#3rd method\n",
        "name1={\"hamza\",\"ali\",\"rooshan\"}\n",
        "name2={\"imran\",\"zeeshan\",\"ali\"}\n",
        "name3=name1.union(name2)\n",
        "print(name3)"
      ],
      "metadata": {
        "colab": {
          "base_uri": "https://localhost:8080/"
        },
        "id": "A4I08cMEgpdL",
        "outputId": "e9933076-ab06-4b59-f47c-839c590662a9"
      },
      "execution_count": 29,
      "outputs": [
        {
          "output_type": "stream",
          "name": "stdout",
          "text": [
            "{'hamza', 'ali', 'rooshan', 'imran', 'zeeshan'}\n"
          ]
        }
      ]
    },
    {
      "cell_type": "markdown",
      "source": [
        "# intersection and intersection_update():"
      ],
      "metadata": {
        "id": "ZI6TLHfjhrck"
      }
    },
    {
      "cell_type": "code",
      "source": [
        "cities={\"Lahore\",\"multan\",\"karachi\",\"Alipur\"}\n",
        "cities2={\"Muzaffergarh\",\"multan\",\"bwp\",\"Alipur\"}\n",
        "cities3=cities.intersection(cities2)\n",
        "print(cities3)"
      ],
      "metadata": {
        "colab": {
          "base_uri": "https://localhost:8080/"
        },
        "id": "KyWnW6x5qmMx",
        "outputId": "6b20ec68-a913-4b15-dc97-995b4274625e"
      },
      "execution_count": 31,
      "outputs": [
        {
          "output_type": "stream",
          "name": "stdout",
          "text": [
            "{'multan', 'Alipur'}\n"
          ]
        }
      ]
    },
    {
      "cell_type": "code",
      "source": [
        "cities={\"Lahore\",\"multan\",\"karachi\",\"Alipur\"} # 2nd method\n",
        "cities2={\"Muzaffergarh\",\"multan\",\"bwp\",\"Alipur\"}\n",
        "cities.intersection_update(cities2)\n",
        "print(cities)"
      ],
      "metadata": {
        "colab": {
          "base_uri": "https://localhost:8080/"
        },
        "id": "XMDFlTgHserh",
        "outputId": "db2af716-5a99-47e4-f48b-b86f2efb61cf"
      },
      "execution_count": 32,
      "outputs": [
        {
          "output_type": "stream",
          "name": "stdout",
          "text": [
            "{'multan', 'Alipur'}\n"
          ]
        }
      ]
    },
    {
      "cell_type": "markdown",
      "source": [
        "# symmetric_difference"
      ],
      "metadata": {
        "id": "Z5Bb72wktZZw"
      }
    },
    {
      "cell_type": "code",
      "source": [
        "cities={\"Lahore\",\"multan\",\"karachi\",\"Alipur\"}\n",
        "cities2={\"Muzaffergarh\",\"multan\",\"bwp\",\"Alipur\"}\n",
        "cities3=cities.symmetric_difference(cities2)\n",
        "print(cities3)"
      ],
      "metadata": {
        "colab": {
          "base_uri": "https://localhost:8080/"
        },
        "id": "61Srd3IXthL2",
        "outputId": "2a3b5d7a-4449-4d91-8bfb-12b14899e69a"
      },
      "execution_count": 33,
      "outputs": [
        {
          "output_type": "stream",
          "name": "stdout",
          "text": [
            "{'Muzaffergarh', 'Lahore', 'karachi', 'bwp'}\n"
          ]
        }
      ]
    },
    {
      "cell_type": "markdown",
      "source": [
        "difference and difference_update()"
      ],
      "metadata": {
        "id": "8XfOs5JSuP2M"
      }
    },
    {
      "cell_type": "code",
      "source": [
        "cities={\"Lahore\",\"multan\",\"karachi\",\"Alipur\"} # i can say A-B\n",
        "cities2={\"Muzaffergarh\",\"multan\",\"bwp\",\"Alipur\"}\n",
        "cities3=cities.difference(cities2)\n",
        "print(cities3)"
      ],
      "metadata": {
        "colab": {
          "base_uri": "https://localhost:8080/"
        },
        "id": "iAtKlJBQuW4F",
        "outputId": "1b25847a-ded9-4135-8a79-02b29a42af05"
      },
      "execution_count": 34,
      "outputs": [
        {
          "output_type": "stream",
          "name": "stdout",
          "text": [
            "{'karachi', 'Lahore'}\n"
          ]
        }
      ]
    },
    {
      "cell_type": "markdown",
      "source": [
        "# isdisjoint()"
      ],
      "metadata": {
        "id": "C8DOKY-9vbIV"
      }
    },
    {
      "cell_type": "code",
      "source": [
        "cities={\"Lahore\",\"multan\",\"karachi\",\"Alipur\"}\n",
        "cities2={\"Muzaffergarh\",\"multan\",\"bwp\",\"Alipur\"}\n",
        "cities3=cities.isdisjoint(cities2)\n",
        "print(cities3)"
      ],
      "metadata": {
        "colab": {
          "base_uri": "https://localhost:8080/"
        },
        "id": "YLKanJIkvizT",
        "outputId": "ee5abf17-68d3-468d-a9c2-e85769eeb5f5"
      },
      "execution_count": 35,
      "outputs": [
        {
          "output_type": "stream",
          "name": "stdout",
          "text": [
            "False\n"
          ]
        }
      ]
    },
    {
      "cell_type": "code",
      "source": [
        "a={1,3,2,4,5}\n",
        "b={6,7,8,9}\n",
        "c=a.isdisjoint(b)\n",
        "print(c)"
      ],
      "metadata": {
        "colab": {
          "base_uri": "https://localhost:8080/"
        },
        "id": "__Cu45LXvq3e",
        "outputId": "a8185153-b7cb-458e-8f68-47afdc57bdc3"
      },
      "execution_count": 37,
      "outputs": [
        {
          "output_type": "stream",
          "name": "stdout",
          "text": [
            "True\n"
          ]
        }
      ]
    },
    {
      "cell_type": "markdown",
      "source": [
        "# issupersets()"
      ],
      "metadata": {
        "id": "gQfxAGRtwinM"
      }
    },
    {
      "cell_type": "code",
      "source": [
        "a={1,3,2,4,5}\n",
        "b={6,7,8,9}\n",
        "c=a.issuperset(b)\n",
        "print(c)"
      ],
      "metadata": {
        "colab": {
          "base_uri": "https://localhost:8080/"
        },
        "id": "XwwgGkgywV84",
        "outputId": "4bee19d0-e55e-4dd7-ae0d-9a48aefb0864"
      },
      "execution_count": 38,
      "outputs": [
        {
          "output_type": "stream",
          "name": "stdout",
          "text": [
            "False\n"
          ]
        }
      ]
    },
    {
      "cell_type": "code",
      "source": [
        "a={1,3,2,4,5}\n",
        "b={3,2,4}\n",
        "c=a.issuperset(b)\n",
        "print(c)"
      ],
      "metadata": {
        "colab": {
          "base_uri": "https://localhost:8080/"
        },
        "id": "pOQDSln2xOS5",
        "outputId": "8be67e8d-8f7a-4afb-f339-0c9f82bc094d"
      },
      "execution_count": 39,
      "outputs": [
        {
          "output_type": "stream",
          "name": "stdout",
          "text": [
            "True\n"
          ]
        }
      ]
    },
    {
      "cell_type": "markdown",
      "source": [
        "# issubset()"
      ],
      "metadata": {
        "id": "BOg4cCbpxrnW"
      }
    },
    {
      "cell_type": "code",
      "source": [
        "a={1,3,2,4,5}\n",
        "b={6,7,8,9}\n",
        "print(a.issubset(b))"
      ],
      "metadata": {
        "colab": {
          "base_uri": "https://localhost:8080/"
        },
        "id": "I6a0jJzDxyX7",
        "outputId": "fe27dad7-cdb2-483e-803e-4ceba425f49d"
      },
      "execution_count": 40,
      "outputs": [
        {
          "output_type": "stream",
          "name": "stdout",
          "text": [
            "False\n"
          ]
        }
      ]
    },
    {
      "cell_type": "code",
      "source": [
        "a={1,3,2,4,5}\n",
        "b={5,3,4,2}\n",
        "print(b.issubset(a))"
      ],
      "metadata": {
        "colab": {
          "base_uri": "https://localhost:8080/"
        },
        "id": "ljEmjzG9x82F",
        "outputId": "4c8498ba-e924-4073-abfc-d523a09581fe"
      },
      "execution_count": 41,
      "outputs": [
        {
          "output_type": "stream",
          "name": "stdout",
          "text": [
            "True\n"
          ]
        }
      ]
    },
    {
      "cell_type": "markdown",
      "source": [
        "# add() & remove()"
      ],
      "metadata": {
        "id": "P-FRMmJByhG1"
      }
    },
    {
      "cell_type": "code",
      "source": [
        "a={\"salman\",\"imran\",\"zeeshan\",\"anas\"}\n",
        "a.add(\"rooshan\")\n",
        "print(a)"
      ],
      "metadata": {
        "colab": {
          "base_uri": "https://localhost:8080/"
        },
        "id": "uNW6BLavyqD5",
        "outputId": "8daa8af5-7e50-4746-87d4-7576837169a9"
      },
      "execution_count": 43,
      "outputs": [
        {
          "output_type": "stream",
          "name": "stdout",
          "text": [
            "{'rooshan', 'imran', 'anas', 'zeeshan', 'salman'}\n"
          ]
        }
      ]
    },
    {
      "cell_type": "code",
      "source": [
        "# remove\n",
        "a={\"salman\",\"imran\",\"zeeshan\",\"anas\"}\n",
        "a.remove(\"imran\")\n",
        "print(a)\n"
      ],
      "metadata": {
        "colab": {
          "base_uri": "https://localhost:8080/"
        },
        "id": "fnkLcPQqzKQK",
        "outputId": "53f37893-45ff-423d-8cbb-f9f699731bc8"
      },
      "execution_count": 44,
      "outputs": [
        {
          "output_type": "stream",
          "name": "stdout",
          "text": [
            "{'anas', 'zeeshan', 'salman'}\n"
          ]
        }
      ]
    },
    {
      "cell_type": "code",
      "source": [
        "a={\"salman\",\"imran\",\"zeeshan\",\"anas\"}\n",
        "a.discard(\"ali\")\n",
        "print(a)"
      ],
      "metadata": {
        "colab": {
          "base_uri": "https://localhost:8080/"
        },
        "id": "dmZs-BEIz7Tv",
        "outputId": "778e5b06-e895-4bb3-c1ca-a6e19415ca41"
      },
      "execution_count": 45,
      "outputs": [
        {
          "output_type": "stream",
          "name": "stdout",
          "text": [
            "{'anas', 'zeeshan', 'salman', 'imran'}\n"
          ]
        }
      ]
    },
    {
      "cell_type": "markdown",
      "source": [
        "# pop()"
      ],
      "metadata": {
        "id": "2FYR-d150LZb"
      }
    },
    {
      "cell_type": "code",
      "source": [
        "name={\"salman\",\"imran\",\"zeeshan\",\"anas\"}\n",
        "item=name.pop()\n",
        "print(name)\n",
        "print(item)"
      ],
      "metadata": {
        "colab": {
          "base_uri": "https://localhost:8080/"
        },
        "id": "UsV72GSx0QK0",
        "outputId": "d7e888da-c444-48e1-e643-a9891b1c4430"
      },
      "execution_count": 46,
      "outputs": [
        {
          "output_type": "stream",
          "name": "stdout",
          "text": [
            "{'zeeshan', 'salman', 'imran'}\n",
            "anas\n"
          ]
        }
      ]
    },
    {
      "cell_type": "markdown",
      "source": [
        "# clear()"
      ],
      "metadata": {
        "id": "prLpZXGQ08U7"
      }
    },
    {
      "cell_type": "code",
      "source": [
        "a={\"salman\",\"imran\",\"zeeshan\",\"anas\"}\n",
        "a.clear()\n",
        "print(a)"
      ],
      "metadata": {
        "colab": {
          "base_uri": "https://localhost:8080/"
        },
        "id": "v5auHU2S1BE-",
        "outputId": "be9dd952-cd73-4946-e620-70e3340f1d61"
      },
      "execution_count": 47,
      "outputs": [
        {
          "output_type": "stream",
          "name": "stdout",
          "text": [
            "set()\n"
          ]
        }
      ]
    },
    {
      "cell_type": "markdown",
      "source": [
        "# check if item exists"
      ],
      "metadata": {
        "id": "HDpFYxQA1WNQ"
      }
    },
    {
      "cell_type": "code",
      "source": [
        "info={\"salman\",\"imran\",\"zeeshan\",\"anas\"}\n",
        "if \"salman\"in info:\n",
        "  print(\"salman is present.\")\n",
        "else:\n",
        "  print(\"salman is absent.\")\n",
        "\n"
      ],
      "metadata": {
        "colab": {
          "base_uri": "https://localhost:8080/"
        },
        "id": "eg4iLVzO1grc",
        "outputId": "1557ddd1-1bca-4b73-c176-2f629dc09af2"
      },
      "execution_count": 1,
      "outputs": [
        {
          "output_type": "stream",
          "name": "stdout",
          "text": [
            "salman is present.\n"
          ]
        }
      ]
    }
  ],
  "metadata": {
    "colab": {
      "provenance": [],
      "authorship_tag": "ABX9TyO16zkKKtu0b3RFvxHb1+Jf",
      "include_colab_link": true
    },
    "kernelspec": {
      "display_name": "Python 3",
      "name": "python3"
    },
    "language_info": {
      "name": "python"
    }
  },
  "nbformat": 4,
  "nbformat_minor": 0
}