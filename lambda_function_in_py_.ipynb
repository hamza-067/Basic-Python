{
  "cells": [
    {
      "cell_type": "markdown",
      "metadata": {
        "id": "view-in-github",
        "colab_type": "text"
      },
      "source": [
        "<a href=\"https://colab.research.google.com/github/MHamza666/M-Hamza/blob/main/lambda_function_in_py_.ipynb\" target=\"_parent\"><img src=\"https://colab.research.google.com/assets/colab-badge.svg\" alt=\"Open In Colab\"/></a>"
      ]
    },
    {
      "cell_type": "markdown",
      "source": [
        "# lambda function\n",
        "In Python, a lambda function is a small anonymous function without a name. It is defined using the lambda keyword.\n",
        "Lambda functions are often used in situations where a small function is required for a short period of time. They are com\n",
        "monly used as arguments to higher-order functions, such as map, filter, and reduce"
      ],
      "metadata": {
        "id": "O75668z-tfue"
      }
    },
    {
      "cell_type": "code",
      "source": [
        "# Function to double the input\n",
        "def double(x):\n",
        "  return x * 2\n",
        "\n",
        "# Lambda function to double the input\n",
        "lambda x: x * 2"
      ],
      "metadata": {
        "id": "sTfC9rApt7rT"
      },
      "execution_count": null,
      "outputs": []
    },
    {
      "cell_type": "markdown",
      "source": [
        "The above lambda function has the same functionality as the double function defined earlier. However, the lambda function is anonymous, as it does not have a name.\n",
        "\n",
        "Lambda functions can have multiple arguments, just like regular functions. Here is an example of a lambda function with multiple arguments:"
      ],
      "metadata": {
        "id": "nMieNi-TuAW9"
      }
    },
    {
      "cell_type": "code",
      "source": [
        "# Function to calculate the product of two numbers\n",
        "def multiply(x, y):\n",
        "    return x * y\n",
        "\n",
        "# Lambda function to calculate the product of two numbers\n",
        "lambda x, y: x * y"
      ],
      "metadata": {
        "id": "DaAMxQVauB8U"
      },
      "execution_count": null,
      "outputs": []
    },
    {
      "cell_type": "markdown",
      "source": [
        "Lambda functions can also include multiple statements, but they are limited to a single expression. For example:"
      ],
      "metadata": {
        "id": "ILBJC2YpuKTR"
      }
    },
    {
      "cell_type": "code",
      "source": [
        "# Lambda function to calculate the product of two numbers,\n",
        "# with additional print statement\n",
        "lambda x, y: print(f'{x} * {y} = {x * y}')"
      ],
      "metadata": {
        "id": "1l8RHeHYuL2s"
      },
      "execution_count": null,
      "outputs": []
    },
    {
      "cell_type": "markdown",
      "source": [
        "In the above example, the lambda function includes a print statement, but it is still limited to a single expression.\n",
        "\n",
        "Lambda functions are often used in conjunction with higher-order functions, such as map, filter, and reduce which we will look into late"
      ],
      "metadata": {
        "id": "uLWp-aq8uTbH"
      }
    },
    {
      "cell_type": "code",
      "source": [
        "# example\n",
        "def double (x):\n",
        "  return x*2\n",
        "\n",
        "print(double(5))\n",
        "\n",
        "# example of lambda\n",
        "\n",
        "double= lambda x : x*2\n",
        "\n",
        "print(double(6))\n"
      ],
      "metadata": {
        "colab": {
          "base_uri": "https://localhost:8080/"
        },
        "id": "Wum3vov0uhGd",
        "outputId": "b8368f22-fcd4-4fa3-90b4-5baecd66784e"
      },
      "execution_count": 2,
      "outputs": [
        {
          "output_type": "stream",
          "name": "stdout",
          "text": [
            "10\n",
            "12\n"
          ]
        }
      ]
    },
    {
      "cell_type": "code",
      "source": [
        "# 2nd example\n",
        "cube = lambda x : x*x*x\n",
        "print(cube(5))"
      ],
      "metadata": {
        "colab": {
          "base_uri": "https://localhost:8080/"
        },
        "id": "vNkO24XUvmrn",
        "outputId": "252d083f-555f-4e86-d81e-b2abfd4f45f8"
      },
      "execution_count": 4,
      "outputs": [
        {
          "output_type": "stream",
          "name": "stdout",
          "text": [
            "125\n"
          ]
        }
      ]
    },
    {
      "cell_type": "code",
      "source": [
        "# 3rd example\n",
        "\n",
        "avg= lambda x,y : (x+y)/2\n",
        "\n",
        "print(avg(4,6))\n"
      ],
      "metadata": {
        "colab": {
          "base_uri": "https://localhost:8080/"
        },
        "id": "V31e8BxbwNR8",
        "outputId": "b24b703c-e9ec-42ed-97dd-68fb087e2d50"
      },
      "execution_count": 5,
      "outputs": [
        {
          "output_type": "stream",
          "name": "stdout",
          "text": [
            "5.0\n"
          ]
        }
      ]
    },
    {
      "cell_type": "code",
      "source": [
        "# 4th example\n",
        "avg= lambda x,y,z :(x+y+z)/2\n",
        "\n",
        "print(avg(5,6,7))"
      ],
      "metadata": {
        "colab": {
          "base_uri": "https://localhost:8080/"
        },
        "id": "ukkKFsy6wNIe",
        "outputId": "839b11eb-6acf-4402-adea-a2e44062a78c"
      },
      "execution_count": 6,
      "outputs": [
        {
          "output_type": "stream",
          "name": "stdout",
          "text": [
            "9.0\n"
          ]
        }
      ]
    },
    {
      "cell_type": "code",
      "source": [
        "# 5th example\n",
        "def appl(fx):\n",
        "  return 6 + fx\n",
        "print(appl(2))"
      ],
      "metadata": {
        "colab": {
          "base_uri": "https://localhost:8080/"
        },
        "id": "SObR1qTaxmW9",
        "outputId": "7e88d907-b74b-4318-d718-f8213bd3b2c6"
      },
      "execution_count": 20,
      "outputs": [
        {
          "output_type": "stream",
          "name": "stdout",
          "text": [
            "8\n"
          ]
        }
      ]
    },
    {
      "cell_type": "code",
      "source": [
        "# 6th example\n",
        "def appl (fx):\n",
        "  return 6/fx\n",
        "print(appl(3))\n"
      ],
      "metadata": {
        "colab": {
          "base_uri": "https://localhost:8080/"
        },
        "id": "RXhvugDMzWUY",
        "outputId": "3518cea3-69f4-4271-dc49-d1d1d8d64c4c"
      },
      "execution_count": 21,
      "outputs": [
        {
          "output_type": "stream",
          "name": "stdout",
          "text": [
            "2.0\n"
          ]
        }
      ]
    },
    {
      "cell_type": "code",
      "source": [
        "# 6th example\n",
        "def appl (fx,value):\n",
        "  return 6 + fx(value)\n",
        "print(appl(lambda x : x*x*x , 2))"
      ],
      "metadata": {
        "colab": {
          "base_uri": "https://localhost:8080/"
        },
        "id": "uotoGVOG0FDQ",
        "outputId": "8f0a3e93-b52e-430d-f916-67b979a0ff79"
      },
      "execution_count": 25,
      "outputs": [
        {
          "output_type": "stream",
          "name": "stdout",
          "text": [
            "14\n"
          ]
        }
      ]
    },
    {
      "cell_type": "code",
      "source": [
        "# 7th example\n",
        "def multiple(x,y):\n",
        "  return x*y\n",
        "lambda x,y: x*y\n"
      ],
      "metadata": {
        "colab": {
          "base_uri": "https://localhost:8080/"
        },
        "id": "5ef43jjB1VCP",
        "outputId": "27462037-8502-4ca0-e69a-e9ec1b6d1e23"
      },
      "execution_count": 27,
      "outputs": [
        {
          "output_type": "execute_result",
          "data": {
            "text/plain": [
              "<function __main__.<lambda>(x, y)>"
            ]
          },
          "metadata": {},
          "execution_count": 27
        }
      ]
    }
  ],
  "metadata": {
    "colab": {
      "provenance": [],
      "authorship_tag": "ABX9TyPsGlVPOQAFomnM0iqeQVSN",
      "include_colab_link": true
    },
    "kernelspec": {
      "display_name": "Python 3",
      "name": "python3"
    },
    "language_info": {
      "name": "python"
    }
  },
  "nbformat": 4,
  "nbformat_minor": 0
}