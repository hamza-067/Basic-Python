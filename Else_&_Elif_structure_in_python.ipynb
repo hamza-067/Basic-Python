{
  "nbformat": 4,
  "nbformat_minor": 0,
  "metadata": {
    "colab": {
      "provenance": [],
      "private_outputs": true,
      "authorship_tag": "ABX9TyM13LcAzNfS+ALlGoS0wuq2",
      "include_colab_link": true
    },
    "kernelspec": {
      "name": "python3",
      "display_name": "Python 3"
    },
    "language_info": {
      "name": "python"
    }
  },
  "cells": [
    {
      "cell_type": "markdown",
      "metadata": {
        "id": "view-in-github",
        "colab_type": "text"
      },
      "source": [
        "<a href=\"https://colab.research.google.com/github/MHamza666/M-Hamza/blob/main/Else_%26_Elif_structure_in_python.ipynb\" target=\"_parent\"><img src=\"https://colab.research.google.com/assets/colab-badge.svg\" alt=\"Open In Colab\"/></a>"
      ]
    },
    {
      "cell_type": "markdown",
      "source": [
        "# If Else and if Elif structure in python\n"
      ],
      "metadata": {
        "id": "5LrjHuzfnByy"
      }
    },
    {
      "cell_type": "code",
      "source": [
        "# Example\n",
        "num=10\n",
        "if num> 0:\n",
        "  print(\"postive number\")\n",
        "else:\n",
        "    print(\"negative number\")\n"
      ],
      "metadata": {
        "id": "LEmMxNG8nOEK"
      },
      "execution_count": null,
      "outputs": []
    },
    {
      "cell_type": "code",
      "source": [
        "num=11\n",
        "if num>0:\n",
        "  print(\"postive number\")\n",
        "else:\n",
        "  print(\"negative number\")"
      ],
      "metadata": {
        "id": "QwIXJgPio7XT"
      },
      "execution_count": null,
      "outputs": []
    },
    {
      "cell_type": "code",
      "source": [
        "num= 15\n",
        "if num>1:\n",
        "  print(\"postive number\")\n",
        "else:\n",
        "  print(\"negative number\")"
      ],
      "metadata": {
        "id": "7xR4tLy0pqfh"
      },
      "execution_count": null,
      "outputs": []
    },
    {
      "cell_type": "code",
      "source": [
        "num=-34\n",
        "if num>0:\n",
        "  print(\"postive number\")\n",
        "else:\n",
        "  print(\"negative number\")"
      ],
      "metadata": {
        "id": "A2s1OtgyqC3d"
      },
      "execution_count": null,
      "outputs": []
    },
    {
      "cell_type": "code",
      "source": [
        "num=15\n",
        "if num<0:\n",
        "  print(\"postive number\")\n",
        "else:\n",
        "  print(\"negative number\")"
      ],
      "metadata": {
        "id": "RXVzAQ5xqXqT"
      },
      "execution_count": null,
      "outputs": []
    },
    {
      "cell_type": "code",
      "source": [
        "num=-134\n",
        "if num<1:\n",
        "  print(\"postive number\")\n",
        "else:\n",
        "  print(\"negative number\")\n",
        "\n"
      ],
      "metadata": {
        "id": "rT4LL7JprJB6"
      },
      "execution_count": null,
      "outputs": []
    },
    {
      "cell_type": "code",
      "source": [
        "num=500\n",
        "if num>=0:\n",
        "  print(\"postive number\")\n",
        "else:\n",
        "  print(\"negative number\")\n",
        ""
      ],
      "metadata": {
        "id": "fest65PCrw4f"
      },
      "execution_count": null,
      "outputs": []
    },
    {
      "cell_type": "code",
      "source": [
        "num=-560\n",
        "if num>=0:\n",
        "  print(\"postive number\")\n",
        "else:\n",
        "  print(\"negative number\")\n",
        ""
      ],
      "metadata": {
        "id": "EjxtlcsOsFt6"
      },
      "execution_count": null,
      "outputs": []
    },
    {
      "cell_type": "code",
      "source": [
        "num=20\n",
        "if num %2==0:\n",
        "  print(\"the number is even,\")\n",
        "else:\n",
        "    print(\"the number is odd,\")"
      ],
      "metadata": {
        "id": "YCulwK_msi0v"
      },
      "execution_count": null,
      "outputs": []
    },
    {
      "cell_type": "code",
      "source": [
        "num=20\n",
        "if num % 1==0:\n",
        "  print(\"the number is even\")\n",
        "else:\n",
        "  print(\"the number is odd\")\n",
        ""
      ],
      "metadata": {
        "id": "rg_5zUydtIZC"
      },
      "execution_count": null,
      "outputs": []
    },
    {
      "cell_type": "code",
      "source": [
        "num=30\n",
        "if num % 4==0:\n",
        "  print(\"the number is even\")\n",
        "else:\n",
        "  print(\"the number is even\")"
      ],
      "metadata": {
        "id": "NQHLQo8dthWi"
      },
      "execution_count": null,
      "outputs": []
    },
    {
      "cell_type": "code",
      "source": [
        "num=30\n",
        "if num% 3==0:\n",
        "  print(\"the number is even\")\n",
        "else:\n",
        "  print(\"the number is odd\")"
      ],
      "metadata": {
        "id": "xSc8bAe6t3mH"
      },
      "execution_count": null,
      "outputs": []
    },
    {
      "cell_type": "code",
      "source": [
        "num=20\n",
        "if num%3==0:\n",
        "  print(\"the number is even\")\n",
        "else:\n",
        "  print(\"the number is odd\")\n",
        ""
      ],
      "metadata": {
        "id": "6hK0lbruuNSl"
      },
      "execution_count": null,
      "outputs": []
    },
    {
      "cell_type": "code",
      "source": [
        "num=50\n",
        "if num%6==2:\n",
        "  print(\"the number is even\")\n",
        "else:\n",
        "  print(\"the number is odd\")"
      ],
      "metadata": {
        "id": "TJV6TtliujF4"
      },
      "execution_count": null,
      "outputs": []
    },
    {
      "cell_type": "code",
      "source": [
        "num=123\n",
        "if num%4==6:\n",
        "  print(\"the numner is even\")\n",
        "else:\n",
        "  print(\"the number is odd\")"
      ],
      "metadata": {
        "id": "3gxyrJFJvGnC"
      },
      "execution_count": null,
      "outputs": []
    },
    {
      "cell_type": "code",
      "source": [
        "num=2020\n",
        "if num%4==0:\n",
        "  print(\"the year is a leap year\")\n",
        "else:\n",
        "  print(\"the year is not leap year\")\n",
        ""
      ],
      "metadata": {
        "id": "AV1QlOCQ-Unt"
      },
      "execution_count": null,
      "outputs": []
    },
    {
      "cell_type": "code",
      "source": [
        "num=2022\n",
        "if num%4==0:\n",
        "  print(\"the year is a leap year\")\n",
        "else:\n",
        "  print(\"the year is not leap year\")"
      ],
      "metadata": {
        "id": "PK6XfFKn_ILT"
      },
      "execution_count": null,
      "outputs": []
    },
    {
      "cell_type": "markdown",
      "source": [
        "# Elif structure"
      ],
      "metadata": {
        "id": "og3Mkr9cwRa0"
      }
    },
    {
      "cell_type": "code",
      "source": [
        "\n",
        "if num >0:\n",
        "  print(\"postive number\")\n",
        "elif num==0:\n",
        "  print(\"zero\")\n",
        "else:\n",
        "  print(\"negative number\")"
      ],
      "metadata": {
        "id": "eIamqjO6wW3d"
      },
      "execution_count": null,
      "outputs": []
    },
    {
      "cell_type": "code",
      "source": [
        "if num<0:\n",
        "  print(\"postive number\")\n",
        "elif num==0:\n",
        "    print(\"zero\")\n",
        "else:\n",
        "  print(\"negative number\")"
      ],
      "metadata": {
        "id": "aJy8ft8TyCFe"
      },
      "execution_count": null,
      "outputs": []
    },
    {
      "cell_type": "code",
      "source": [
        "if num>=1:\n",
        "  print(\"postive number\")\n",
        "elif num==0:\n",
        "  print(\"zero\")\n",
        "else:\n",
        "  print(\"negative number\")"
      ],
      "metadata": {
        "id": "CVD5Upn7zagC"
      },
      "execution_count": null,
      "outputs": []
    },
    {
      "cell_type": "code",
      "source": [
        "if num<=2:\n",
        "  print(\"postive number\")\n",
        "elif num==1:\n",
        "  print(\"one\")\n",
        "else:\n",
        "  print(\"negative number\")"
      ],
      "metadata": {
        "id": "BHS6FaHT0IQ9"
      },
      "execution_count": null,
      "outputs": []
    },
    {
      "cell_type": "code",
      "source": [
        "if num>=5:\n",
        "  print(\"postive number\")\n",
        "elif num==3:\n",
        "  print(\"three\")\n",
        "else:\n",
        "  print(\"negative numner\")"
      ],
      "metadata": {
        "id": "caBQJ82a0-ut"
      },
      "execution_count": null,
      "outputs": []
    },
    {
      "cell_type": "code",
      "source": [
        "marks=90\n",
        "if marks>=90:\n",
        "  print(\"grade is A\")\n",
        "elif marks>=80:\n",
        "  print(\"grade is B\")\n",
        "elif marks>=70:\n",
        "  print(\"grade is C\")\n",
        "elif marks>= 60:\n",
        "  print(\"grade is D\")\n",
        "\n",
        "else:\n",
        "  print(\"grade is F\")\n"
      ],
      "metadata": {
        "id": "yZflm9_s2-2i"
      },
      "execution_count": null,
      "outputs": []
    },
    {
      "cell_type": "code",
      "source": [
        "marks=80\n",
        "if marks>=90:\n",
        "  print(\"grade is A\")\n",
        "elif marks>=80:\n",
        "  print(\"grade is B\")\n",
        "elif marks>=70:\n",
        "  print(\"grade is C\")\n",
        "elif marks>= 60:\n",
        "  print(\"grade is D\")\n",
        "\n",
        "else:\n",
        "  print(\"grade is F\")\n"
      ],
      "metadata": {
        "id": "hrsS0xik78GS"
      },
      "execution_count": null,
      "outputs": []
    },
    {
      "cell_type": "code",
      "source": [
        "marks=70\n",
        "if marks>=90:\n",
        "  print(\"grade is A\")\n",
        "elif marks>=80:\n",
        "  print(\"grade is B\")\n",
        "elif marks>=70:\n",
        "  print(\"grade is C\")\n",
        "elif marks>= 60:\n",
        "  print(\"grade is D\")\n",
        "\n",
        "else:\n",
        "  print(\"grade is F\")\n"
      ],
      "metadata": {
        "id": "v0q1vzcU8PWe"
      },
      "execution_count": null,
      "outputs": []
    },
    {
      "cell_type": "code",
      "source": [
        "marks=60\n",
        "if marks>=90:\n",
        "  print(\"grade is A\")\n",
        "elif marks>=80:\n",
        "  print(\"grade is B\")\n",
        "elif marks>=70:\n",
        "  print(\"grade is C\")\n",
        "elif marks>= 60:\n",
        "  print(\"grade is D\")\n",
        "\n",
        "else:\n",
        "  print(\"grade is F\")\n"
      ],
      "metadata": {
        "id": "XYy4p0lD95W3"
      },
      "execution_count": null,
      "outputs": []
    },
    {
      "cell_type": "code",
      "source": [
        "marks=20\n",
        "if marks>=90:\n",
        "  print(\"grade is A\")\n",
        "elif marks>=80:\n",
        "  print(\"grade is B\")\n",
        "elif marks>=70:\n",
        "  print(\"grade is C\")\n",
        "elif marks>= 60:\n",
        "  print(\"grade is D\")\n",
        "\n",
        "else:\n",
        "  print(\"grade is F\")\n"
      ],
      "metadata": {
        "id": "dgXxXlv39_HR"
      },
      "execution_count": null,
      "outputs": []
    }
  ]
}