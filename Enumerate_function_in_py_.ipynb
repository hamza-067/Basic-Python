{
  "cells": [
    {
      "cell_type": "markdown",
      "metadata": {
        "id": "view-in-github",
        "colab_type": "text"
      },
      "source": [
        "<a href=\"https://colab.research.google.com/github/MHamza666/M-Hamza/blob/main/Enumerate_function_in_py_.ipynb\" target=\"_parent\"><img src=\"https://colab.research.google.com/assets/colab-badge.svg\" alt=\"Open In Colab\"/></a>"
      ]
    },
    {
      "cell_type": "code",
      "source": [
        "marks=[12,23,34,45,90,56,78,67,89]\n",
        "index=0\n",
        "for mark in marks:\n",
        "  print(mark)\n",
        "  if(index==4):\n",
        "   print(\"Zeshan,awesome\")\n",
        "  index += 1\n"
      ],
      "metadata": {
        "colab": {
          "base_uri": "https://localhost:8080/"
        },
        "id": "NrDD6X_ocOK7",
        "outputId": "638776c7-598d-4b41-e1bb-c3866a49da5d"
      },
      "execution_count": 16,
      "outputs": [
        {
          "output_type": "stream",
          "name": "stdout",
          "text": [
            "12\n",
            "23\n",
            "34\n",
            "45\n",
            "90\n",
            "Zeshan,awesome\n",
            "56\n",
            "78\n",
            "67\n",
            "89\n"
          ]
        }
      ]
    },
    {
      "cell_type": "code",
      "source": [
        "# 2nd method\n",
        "marks=[12,23,34,45,90,56,78,67,89]\n",
        "\n",
        "for index, mark in enumerate (marks):\n",
        "  print(mark)\n",
        "  if(index==4):\n",
        "   print(\"Zeshan,awesome\")\n",
        "  index += 1\n"
      ],
      "metadata": {
        "colab": {
          "base_uri": "https://localhost:8080/"
        },
        "id": "erodCX6jeERW",
        "outputId": "6c7564e3-951c-488b-bffa-ae721d0e8db1"
      },
      "execution_count": 17,
      "outputs": [
        {
          "output_type": "stream",
          "name": "stdout",
          "text": [
            "12\n",
            "23\n",
            "34\n",
            "45\n",
            "90\n",
            "Zeshan,awesome\n",
            "56\n",
            "78\n",
            "67\n",
            "89\n"
          ]
        }
      ]
    },
    {
      "cell_type": "code",
      "source": [
        "marks=[12,23,34,80,90,56,78,67,89]\n",
        "\n",
        "for index, mark in enumerate (marks,start=1):\n",
        "  print(mark)\n",
        "  if(index==4):\n",
        "   print(\"Zeshan,awesome\")\n",
        "  index += 1\n"
      ],
      "metadata": {
        "colab": {
          "base_uri": "https://localhost:8080/"
        },
        "id": "BOxQvMVtfzTk",
        "outputId": "466f6544-fec3-4439-a4e4-d818a4e99f2b"
      },
      "execution_count": 22,
      "outputs": [
        {
          "output_type": "stream",
          "name": "stdout",
          "text": [
            "12\n",
            "23\n",
            "34\n",
            "80\n",
            "Zeshan,awesome\n",
            "90\n",
            "56\n",
            "78\n",
            "67\n",
            "89\n"
          ]
        }
      ]
    },
    {
      "cell_type": "code",
      "source": [
        "fruits=['apple','banana','mango']\n",
        "for index, fruit in enumerate(fruits):\n",
        "  print(index,fruit)"
      ],
      "metadata": {
        "colab": {
          "base_uri": "https://localhost:8080/"
        },
        "id": "14IQPxkcefKF",
        "outputId": "d25d1a1b-edf5-4507-83fd-e4c78f095f2b"
      },
      "execution_count": 18,
      "outputs": [
        {
          "output_type": "stream",
          "name": "stdout",
          "text": [
            "0 apple\n",
            "1 banana\n",
            "2 mango\n"
          ]
        }
      ]
    },
    {
      "cell_type": "code",
      "source": [
        "fruits=['apple','banana','mango']\n",
        "for index, fruit in enumerate(fruits):\n",
        "  print(f\"{index+1}:{fruit}\")"
      ],
      "metadata": {
        "colab": {
          "base_uri": "https://localhost:8080/"
        },
        "id": "g82nGk5cfimL",
        "outputId": "02c4aa8d-14c9-4a11-e3d6-21d2ec544515"
      },
      "execution_count": 20,
      "outputs": [
        {
          "output_type": "stream",
          "name": "stdout",
          "text": [
            "1:apple\n",
            "2:banana\n",
            "3:mango\n"
          ]
        }
      ]
    },
    {
      "cell_type": "code",
      "source": [
        "s='Hello' # loop over a string and print the index and value of each element.\n",
        "for index,c in enumerate(s):\n",
        "  print(index,c)"
      ],
      "metadata": {
        "colab": {
          "base_uri": "https://localhost:8080/"
        },
        "id": "-Goos7fLgUM_",
        "outputId": "8bd26167-04f7-403a-fa22-0f93435770a0"
      },
      "execution_count": 23,
      "outputs": [
        {
          "output_type": "stream",
          "name": "stdout",
          "text": [
            "0 H\n",
            "1 e\n",
            "2 l\n",
            "3 l\n",
            "4 o\n"
          ]
        }
      ]
    }
  ],
  "metadata": {
    "colab": {
      "provenance": [],
      "authorship_tag": "ABX9TyPV5OyjZ9EWS9bNQgVZiAc2",
      "include_colab_link": true
    },
    "kernelspec": {
      "display_name": "Python 3",
      "name": "python3"
    },
    "language_info": {
      "name": "python"
    }
  },
  "nbformat": 4,
  "nbformat_minor": 0
}